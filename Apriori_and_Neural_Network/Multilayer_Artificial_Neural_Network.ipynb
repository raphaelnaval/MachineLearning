{
 "cells": [
  {
   "cell_type": "markdown",
   "id": "be76ccec",
   "metadata": {},
   "source": [
    "## Purpose:\n",
    "The goal of this assignment is to develop a model that uses apriori analysis to identify patterns of words in the text. Along with this, is the comparison of handwriting dataset analysis using a single-layer neural network vs a multi-layer neural network. "
   ]
  },
  {
   "cell_type": "markdown",
   "id": "63b9e10f",
   "metadata": {},
   "source": [
    "### Use Apriori analysis to idenfity patterns in the text (Alice in Wonderland by Lewis Carroll)"
   ]
  },
  {
   "cell_type": "code",
   "execution_count": 1,
   "id": "88f631cd",
   "metadata": {},
   "outputs": [],
   "source": [
    "import nltk\n",
    "import numpy as np\n",
    "import pandas as pd\n",
    "import re\n",
    "import string\n",
    "from itertools import combinations \n",
    "import csv\n",
    "from nltk.corpus import gutenberg, stopwords"
   ]
  },
  {
   "cell_type": "code",
   "execution_count": 2,
   "id": "e1893128",
   "metadata": {},
   "outputs": [
    {
     "name": "stdout",
     "output_type": "stream",
     "text": [
      "Number of words: 34110\n",
      "Number of sentences: 1703\n"
     ]
    }
   ],
   "source": [
    "carroll_words = nltk.corpus.gutenberg.words('carroll-alice.txt')\n",
    "print(f'Number of words: {len(carroll_words)}')\n",
    "\n",
    "carroll_sentences = gutenberg.sents('carroll-alice.txt')\n",
    "print(f'Number of sentences: {len(carroll_sentences)}')"
   ]
  },
  {
   "cell_type": "markdown",
   "id": "76ad9574",
   "metadata": {},
   "source": [
    "### Clean stop words and symbols from sentences"
   ]
  },
  {
   "cell_type": "code",
   "execution_count": 3,
   "id": "f2c7cd78",
   "metadata": {},
   "outputs": [],
   "source": [
    "# Formerly Items_names\n",
    "Items_names = {}  # Lookup item ID to name\n",
    "\n",
    "# Formerly Items_ids\n",
    "Items_ids = {} # Lookup word name to ID\n",
    "\n",
    "Transactions_list = []  # a list of transactions\n",
    "item_id = 0\n",
    "\n",
    "for terms in carroll_sentences:\n",
    "    \n",
    "    # Remove stop words\n",
    "    terms = [w for w in terms if w not in stopwords.words('english') ]\n",
    "    \n",
    "    # Remove punctuations\n",
    "    terms = [w for w in terms if w not in string.punctuation] \n",
    "    \n",
    "    # Remove numbers\n",
    "    terms = [w for w in terms if re.search(r'^[a-zA-Z]{2}', w) is not None]\n",
    "    \n",
    "    transaction = []\n",
    "    for item in terms:\n",
    "        if item not in Items_ids:\n",
    "            Items_ids[item] = item_id\n",
    "            Items_names[item_id] = item\n",
    "            item_id += 1\n",
    "        transaction += [Items_ids[item]]\n",
    "    Transactions_list += [transaction]"
   ]
  },
  {
   "cell_type": "code",
   "execution_count": 4,
   "id": "1f0a2a36",
   "metadata": {},
   "outputs": [
    {
     "name": "stdout",
     "output_type": "stream",
     "text": [
      "M=2793 items, N=1703 transactions\n"
     ]
    }
   ],
   "source": [
    "M, N = len(Items_ids), len(Transactions_list)\n",
    "\n",
    "Items = np.arange(0,M)\n",
    "\n",
    "# Information, sanity\n",
    "print(f'M={M} items, N={N} transactions')"
   ]
  },
  {
   "cell_type": "code",
   "execution_count": 5,
   "id": "de80cf17",
   "metadata": {},
   "outputs": [
    {
     "name": "stdout",
     "output_type": "stream",
     "text": [
      "['Alice', 'Adventures', 'Wonderland', 'Lewis', 'Carroll', 'CHAPTER', 'Down', 'Rabbit', 'Hole', 'beginning', 'get', 'tired', 'sitting', 'sister', 'bank']\n",
      "[[0, 1, 2, 3, 4], [5], [6, 7, 8], [0, 9, 10, 11, 12, 13, 14, 15, 16, 17, 18, 13, 19, 20, 21, 22, 18, 23, 0, 24, 20, 25], [26, 27, 28, 29, 30, 31, 32, 33, 34, 35, 36, 37, 38, 39, 40, 41, 42, 43, 44, 45, 46, 47, 48, 49, 7, 50, 51, 52, 53], [54, 15, 55, 56, 0, 57, 55, 58, 59, 60, 7, 61, 62, 63], [62, 63]]\n"
     ]
    }
   ],
   "source": [
    "# Sanity check\n",
    "print([Items_names[_] for _ in Items[0:15]])\n",
    "print(Transactions_list[:7])"
   ]
  },
  {
   "cell_type": "code",
   "execution_count": 6,
   "id": "43b9cd55",
   "metadata": {},
   "outputs": [
    {
     "name": "stdout",
     "output_type": "stream",
     "text": [
      "{'Alice': 0, 'Adventures': 1, 'Wonderland': 2, 'Lewis': 3, 'Carroll': 4, 'CHAPTER': 5, 'Down': 6, 'Rabbit': 7, 'Hole': 8, 'beginning': 9, 'get': 10, 'tired': 11, 'sitting': 12, 'sister': 13, 'bank': 14, 'nothing': 15, 'twice': 16, 'peeped': 17, 'book': 18, 'reading': 19, 'pictures': 20, 'conversations': 21, 'use': 22, 'thought': 23, 'without': 24, 'conversation': 25, 'So': 26, 'considering': 27, 'mind': 28, 'well': 29, 'could': 30, 'hot': 31, 'day': 32, 'made': 33, 'feel': 34, 'sleepy': 35, 'stupid': 36, 'whether': 37, 'pleasure': 38, 'making': 39, 'daisy': 40, 'chain': 41, 'would': 42, 'worth': 43, 'trouble': 44, 'getting': 45, 'picking': 46, 'daisies': 47, 'suddenly': 48, 'White': 49, 'pink': 50, 'eyes': 51, 'ran': 52, 'close': 53, 'There': 54, 'VERY': 55, 'remarkable': 56, 'think': 57, 'much': 58, 'way': 59, 'hear': 60, 'say': 61, 'Oh': 62, 'dear': 63, 'shall': 64, 'late': 65, 'afterwards': 66, 'occurred': 67, 'ought': 68, 'wondered': 69, 'time': 70, 'seemed': 71, 'quite': 72, 'natural': 73, 'actually': 74, 'TOOK': 75, 'WATCH': 76, 'OUT': 77, 'OF': 78, 'ITS': 79, 'WAISTCOAT': 80, 'POCKET': 81, 'looked': 82, 'hurried': 83, 'started': 84, 'feet': 85, 'flashed': 86, 'across': 87, 'never': 88, 'seen': 89, 'rabbit': 90, 'either': 91, 'waistcoat': 92, 'pocket': 93, 'watch': 94, 'take': 95, 'burning': 96, 'curiosity': 97, 'field': 98, 'fortunately': 99, 'see': 100, 'pop': 101, 'large': 102, 'hole': 103, 'hedge': 104, 'In': 105, 'another': 106, 'moment': 107, 'went': 108, 'world': 109, 'The': 110, 'straight': 111, 'like': 112, 'tunnel': 113, 'dipped': 114, 'stopping': 115, 'found': 116, 'falling': 117, 'deep': 118, 'Either': 119, 'fell': 120, 'slowly': 121, 'plenty': 122, 'look': 123, 'wonder': 124, 'going': 125, 'happen': 126, 'next': 127, 'First': 128, 'tried': 129, 'make': 130, 'coming': 131, 'dark': 132, 'anything': 133, 'sides': 134, 'noticed': 135, 'filled': 136, 'cupboards': 137, 'shelves': 138, 'saw': 139, 'maps': 140, 'hung': 141, 'upon': 142, 'pegs': 143, 'She': 144, 'took': 145, 'jar': 146, 'one': 147, 'passed': 148, 'labelled': 149, 'ORANGE': 150, 'MARMALADE': 151, 'great': 152, 'disappointment': 153, 'empty': 154, 'drop': 155, 'fear': 156, 'killing': 157, 'somebody': 158, 'managed': 159, 'put': 160, 'past': 161, 'Well': 162, 'fall': 163, 'tumbling': 164, 'stairs': 165, 'How': 166, 'brave': 167, 'home': 168, 'Why': 169, 'even': 170, 'top': 171, 'house': 172, 'Which': 173, 'likely': 174, 'true': 175, 'Would': 176, 'NEVER': 177, 'come': 178, 'end': 179, 'many': 180, 'miles': 181, 'fallen': 182, 'said': 183, 'aloud': 184, 'must': 185, 'somewhere': 186, 'near': 187, 'centre': 188, 'earth': 189, 'Let': 190, 'four': 191, 'thousand': 192, 'learnt': 193, 'several': 194, 'things': 195, 'sort': 196, 'lessons': 197, 'schoolroom': 198, 'though': 199, 'good': 200, 'opportunity': 201, 'showing': 202, 'knowledge': 203, 'listen': 204, 'still': 205, 'practice': 206, 'yes': 207, 'right': 208, 'distance': 209, 'Latitude': 210, 'Longitude': 211, 'got': 212, 'idea': 213, 'nice': 214, 'grand': 215, 'words': 216, 'Presently': 217, 'began': 218, 'THROUGH': 219, 'funny': 220, 'seem': 221, 'among': 222, 'people': 223, 'walk': 224, 'heads': 225, 'downward': 226, 'Antipathies': 227, 'rather': 228, 'glad': 229, 'WAS': 230, 'listening': 231, 'sound': 232, 'word': 233, 'ask': 234, 'name': 235, 'country': 236, 'know': 237, 'Please': 238, 'Ma': 239, 'New': 240, 'Zealand': 241, 'Australia': 242, 'curtsey': 243, 'spoke': 244, 'fancy': 245, 'CURTSEYING': 246, 'air': 247, 'Do': 248, 'manage': 249, 'And': 250, 'ignorant': 251, 'little': 252, 'girl': 253, 'asking': 254, 'No': 255, 'perhaps': 256, 'written': 257, 'else': 258, 'soon': 259, 'talking': 260, 'Dinah': 261, 'miss': 262, 'night': 263, 'cat': 264, 'hope': 265, 'remember': 266, 'saucer': 267, 'milk': 268, 'tea': 269, 'wish': 270, 'mice': 271, 'afraid': 272, 'might': 273, 'catch': 274, 'bat': 275, 'mouse': 276, 'But': 277, 'cats': 278, 'eat': 279, 'bats': 280, 'saying': 281, 'dreamy': 282, 'sometimes': 283, 'answer': 284, 'question': 285, 'matter': 286, 'felt': 287, 'dozing': 288, 'begun': 289, 'dream': 290, 'walking': 291, 'hand': 292, 'earnestly': 293, 'Now': 294, 'tell': 295, 'truth': 296, 'ever': 297, 'thump': 298, 'came': 299, 'heap': 300, 'sticks': 301, 'dry': 302, 'leaves': 303, 'bit': 304, 'hurt': 305, 'jumped': 306, 'overhead': 307, 'long': 308, 'passage': 309, 'sight': 310, 'hurrying': 311, 'lost': 312, 'away': 313, 'wind': 314, 'turned': 315, 'corner': 316, 'ears': 317, 'whiskers': 318, 'behind': 319, 'longer': 320, 'low': 321, 'hall': 322, 'lit': 323, 'row': 324, 'lamps': 325, 'hanging': 326, 'roof': 327, 'doors': 328, 'round': 329, 'locked': 330, 'side': 331, 'trying': 332, 'every': 333, 'door': 334, 'walked': 335, 'sadly': 336, 'middle': 337, 'wondering': 338, 'Suddenly': 339, 'three': 340, 'legged': 341, 'table': 342, 'solid': 343, 'glass': 344, 'except': 345, 'tiny': 346, 'golden': 347, 'key': 348, 'first': 349, 'belong': 350, 'alas': 351, 'locks': 352, 'small': 353, 'rate': 354, 'open': 355, 'However': 356, 'second': 357, 'curtain': 358, 'fifteen': 359, 'inches': 360, 'high': 361, 'lock': 362, 'delight': 363, 'fitted': 364, 'opened': 365, 'led': 366, 'larger': 367, 'rat': 368, 'knelt': 369, 'along': 370, 'loveliest': 371, 'garden': 372, 'longed': 373, 'wander': 374, 'beds': 375, 'bright': 376, 'flowers': 377, 'cool': 378, 'fountains': 379, 'head': 380, 'doorway': 381, 'go': 382, 'poor': 383, 'shoulders': 384, 'shut': 385, 'telescope': 386, 'begin': 387, 'For': 388, 'happened': 389, 'lately': 390, 'indeed': 391, 'really': 392, 'impossible': 393, 'waiting': 394, 'back': 395, 'half': 396, 'hoping': 397, 'find': 398, 'rules': 399, 'shutting': 400, 'telescopes': 401, 'bottle': 402, 'certainly': 403, 'neck': 404, 'paper': 405, 'label': 406, 'DRINK': 407, 'ME': 408, 'beautifully': 409, 'printed': 410, 'letters': 411, 'It': 412, 'Drink': 413, 'wise': 414, 'THAT': 415, 'hurry': 416, 'marked': 417, 'poison': 418, 'read': 419, 'histories': 420, 'children': 421, 'burnt': 422, 'eaten': 423, 'wild': 424, 'beasts': 425, 'unpleasant': 426, 'WOULD': 427, 'simple': 428, 'friends': 429, 'taught': 430, 'red': 431, 'poker': 432, 'burn': 433, 'hold': 434, 'cut': 435, 'finger': 436, 'deeply': 437, 'knife': 438, 'usually': 439, 'bleeds': 440, 'forgotten': 441, 'drink': 442, 'almost': 443, 'certain': 444, 'disagree': 445, 'sooner': 446, 'later': 447, 'NOT': 448, 'ventured': 449, 'taste': 450, 'finding': 451, 'fact': 452, 'mixed': 453, 'flavour': 454, 'cherry': 455, 'tart': 456, 'custard': 457, 'pine': 458, 'apple': 459, 'roast': 460, 'turkey': 461, 'toffee': 462, 'buttered': 463, 'toast': 464, 'finished': 465, 'What': 466, 'curious': 467, 'feeling': 468, 'ten': 469, 'face': 470, 'brightened': 471, 'size': 472, 'lovely': 473, 'however': 474, 'waited': 475, 'minutes': 476, 'shrink': 477, 'nervous': 478, 'altogether': 479, 'candle': 480, 'flame': 481, 'blown': 482, 'thing': 483, 'After': 484, 'decided': 485, 'possibly': 486, 'reach': 487, 'plainly': 488, 'best': 489, 'climb': 490, 'legs': 491, 'slippery': 492, 'sat': 493, 'cried': 494, 'Come': 495, 'crying': 496, 'sharply': 497, 'advise': 498, 'leave': 499, 'minute': 500, 'generally': 501, 'gave': 502, 'advice': 503, 'seldom': 504, 'followed': 505, 'scolded': 506, 'severely': 507, 'bring': 508, 'tears': 509, 'remembered': 510, 'box': 511, 'cheated': 512, 'game': 513, 'croquet': 514, 'playing': 515, 'child': 516, 'fond': 517, 'pretending': 518, 'two': 519, 'pretend': 520, 'hardly': 521, 'enough': 522, 'left': 523, 'ONE': 524, 'respectable': 525, 'person': 526, 'Soon': 527, 'eye': 528, 'lying': 529, 'cake': 530, 'EAT': 531, 'currants': 532, 'makes': 533, 'grow': 534, 'smaller': 535, 'creep': 536, 'care': 537, 'happens': 538, 'ate': 539, 'anxiously': 540, 'holding': 541, 'growing': 542, 'surprised': 543, 'remained': 544, 'sure': 545, 'eats': 546, 'expecting': 547, 'dull': 548, 'life': 549, 'common': 550, 'set': 551, 'work': 552, 'II': 553, 'Pool': 554, 'Tears': 555, 'Curiouser': 556, 'curiouser': 557, 'forgot': 558, 'speak': 559, 'English': 560, 'opening': 561, 'largest': 562, 'Good': 563, 'bye': 564, 'far': 565, 'shoes': 566, 'stockings': 567, 'dears': 568, 'able': 569, 'deal': 570, 'kind': 571, 'want': 572, 'give': 573, 'new': 574, 'pair': 575, 'boots': 576, 'Christmas': 577, 'planning': 578, 'They': 579, 'carrier': 580, 'sending': 581, 'presents': 582, 'odd': 583, 'directions': 584, 'ALICE': 585, 'RIGHT': 586, 'FOOT': 587, 'ESQ': 588, 'HEARTHRUG': 589, 'NEAR': 590, 'THE': 591, 'FENDER': 592, 'WITH': 593, 'LOVE': 594, 'nonsense': 595, 'Just': 596, 'struck': 597, 'nine': 598, 'Poor': 599, 'hopeless': 600, 'cry': 601, 'You': 602, 'ashamed': 603, 'Stop': 604, 'shedding': 605, 'gallons': 606, 'pool': 607, 'reaching': 608, 'heard': 609, 'pattering': 610, 'hastily': 611, 'dried': 612, 'returning': 613, 'splendidly': 614, 'dressed': 615, 'white': 616, 'kid': 617, 'gloves': 618, 'fan': 619, 'trotting': 620, 'muttering': 621, 'Duchess': 622, 'savage': 623, 'kept': 624, 'desperate': 625, 'ready': 626, 'help': 627, 'timid': 628, 'voice': 629, 'If': 630, 'please': 631, 'sir': 632, 'violently': 633, 'dropped': 634, 'skurried': 635, 'darkness': 636, 'hard': 637, 'fanning': 638, 'Dear': 639, 'queer': 640, 'everything': 641, 'yesterday': 642, 'usual': 643, 'changed': 644, 'morning': 645, 'different': 646, 'Who': 647, 'Ah': 648, 'puzzle': 649, 'thinking': 650, 'knew': 651, 'age': 652, 'Ada': 653, 'hair': 654, 'goes': 655, 'ringlets': 656, 'mine': 657, 'Mabel': 658, 'sorts': 659, 'oh': 660, 'knows': 661, 'Besides': 662, 'SHE': 663, 'puzzling': 664, 'try': 665, 'used': 666, 'times': 667, 'five': 668, 'twelve': 669, 'six': 670, 'thirteen': 671, 'seven': 672, 'twenty': 673, 'Multiplication': 674, 'Table': 675, 'signify': 676, 'let': 677, 'Geography': 678, 'London': 679, 'capital': 680, 'Paris': 681, 'Rome': 682, 'wrong': 683, 'doth': 684, 'crossed': 685, 'hands': 686, 'lap': 687, 'repeat': 688, 'sounded': 689, 'hoarse': 690, 'strange': 691, 'crocodile': 692, 'Improve': 693, 'shining': 694, 'tail': 695, 'pour': 696, 'waters': 697, 'Nile': 698, 'On': 699, 'scale': 700, 'cheerfully': 701, 'seems': 702, 'grin': 703, 'neatly': 704, 'spread': 705, 'claws': 706, 'welcome': 707, 'fishes': 708, 'With': 709, 'gently': 710, 'smiling': 711, 'jaws': 712, 'live': 713, 'poky': 714, 'toys': 715, 'play': 716, 'learn': 717, 'stay': 718, 'putting': 719, 'Tell': 720, 'till': 721, 'sudden': 722, 'burst': 723, 'alone': 724, 'As': 725, 'CAN': 726, 'done': 727, 'measure': 728, 'nearly': 729, 'guess': 730, 'shrinking': 731, 'rapidly': 732, 'cause': 733, 'avoid': 734, 'That': 735, 'narrow': 736, 'escape': 737, 'frightened': 738, 'change': 739, 'existence': 740, 'speed': 741, 'worse': 742, 'declare': 743, 'bad': 744, 'foot': 745, 'slipped': 746, 'splash': 747, 'chin': 748, 'salt': 749, 'water': 750, 'Her': 751, 'somehow': 752, 'sea': 753, 'case': 754, 'railway': 755, 'seaside': 756, 'general': 757, 'conclusion': 758, 'wherever': 759, 'coast': 760, 'number': 761, 'bathing': 762, 'machines': 763, 'digging': 764, 'sand': 765, 'wooden': 766, 'spades': 767, 'lodging': 768, 'houses': 769, 'station': 770, 'wept': 771, 'swam': 772, 'punished': 773, 'suppose': 774, 'drowned': 775, 'WILL': 776, 'something': 777, 'splashing': 778, 'nearer': 779, 'walrus': 780, 'hippopotamus': 781, 'Everything': 782, 'talk': 783, 'harm': 784, 'Mouse': 785, 'swimming': 786, 'speaking': 787, 'brother': 788, 'Latin': 789, 'Grammar': 790, 'inquisitively': 791, 'wink': 792, 'Perhaps': 793, 'understand': 794, 'daresay': 795, 'French': 796, 'William': 797, 'Conqueror': 798, 'history': 799, 'clear': 800, 'notion': 801, 'ago': 802, 'Ou': 803, 'est': 804, 'chatte': 805, 'sentence': 806, 'lesson': 807, 'leap': 808, 'quiver': 809, 'fright': 810, 'beg': 811, 'pardon': 812, 'animal': 813, 'feelings': 814, 'Not': 815, 'shrill': 816, 'passionate': 817, 'YOU': 818, 'soothing': 819, 'tone': 820, 'angry': 821, 'yet': 822, 'show': 823, 'quiet': 824, 'lazily': 825, 'sits': 826, 'purring': 827, 'nicely': 828, 'fire': 829, 'licking': 830, 'paws': 831, 'washing': 832, 'soft': 833, 'nurse': 834, 'catching': 835, 'bristling': 836, 'offended': 837, 'We': 838, 'trembling': 839, 'subject': 840, 'Our': 841, 'family': 842, 'always': 843, 'HATED': 844, 'nasty': 845, 'vulgar': 846, 'Don': 847, 'Are': 848, 'dogs': 849, 'eagerly': 850, 'dog': 851, 'eyed': 852, 'terrier': 853, 'curly': 854, 'brown': 855, 'fetch': 856, 'throw': 857, 'sit': 858, 'dinner': 859, 'belongs': 860, 'farmer': 861, 'says': 862, 'useful': 863, 'hundred': 864, 'pounds': 865, 'He': 866, 'kills': 867, 'rats': 868, 'sorrowful': 869, 'commotion': 870, 'called': 871, 'softly': 872, 'When': 873, 'pale': 874, 'passion': 875, 'us': 876, 'shore': 877, 'hate': 878, 'crowded': 879, 'birds': 880, 'animals': 881, 'Duck': 882, 'Dodo': 883, 'Lory': 884, 'Eaglet': 885, 'creatures': 886, 'whole': 887, 'party': 888, 'III': 889, 'Caucus': 890, 'Race': 891, 'Long': 892, 'Tale': 893, 'looking': 894, 'assembled': 895, 'draggled': 896, 'feathers': 897, 'fur': 898, 'clinging': 899, 'dripping': 900, 'wet': 901, 'cross': 902, 'uncomfortable': 903, 'course': 904, 'consultation': 905, 'familiarly': 906, 'known': 907, 'Indeed': 908, 'argument': 909, 'last': 910, 'sulky': 911, 'older': 912, 'better': 913, 'allow': 914, 'knowing': 915, 'old': 916, 'positively': 917, 'refused': 918, 'At': 919, 'authority': 920, 'Sit': 921, 'LL': 922, 'ring': 923, 'fixed': 924, 'cold': 925, 'Ahem': 926, 'important': 927, 'This': 928, 'driest': 929, 'Silence': 930, 'whose': 931, 'favoured': 932, 'pope': 933, 'submitted': 934, 'wanted': 935, 'leaders': 936, 'accustomed': 937, 'usurpation': 938, 'conquest': 939, 'Edwin': 940, 'Morcar': 941, 'earls': 942, 'Mercia': 943, 'Northumbria': 944, 'Ugh': 945, 'shiver': 946, 'frowning': 947, 'politely': 948, 'Did': 949, 'proceed': 950, 'declared': 951, 'Stigand': 952, 'patriotic': 953, 'archbishop': 954, 'Canterbury': 955, 'advisable': 956, 'Found': 957, 'WHAT': 958, 'IT': 959, 'replied': 960, 'crossly': 961, 'means': 962, 'frog': 963, 'worm': 964, 'notice': 965, 'hurriedly': 966, 'Edgar': 967, 'Atheling': 968, 'meet': 969, 'offer': 970, 'crown': 971, 'conduct': 972, 'moderate': 973, 'insolence': 974, 'Normans': 975, 'continued': 976, 'turning': 977, 'melancholy': 978, 'solemnly': 979, 'rising': 980, 'move': 981, 'meeting': 982, 'adjourn': 983, 'immediate': 984, 'adoption': 985, 'energetic': 986, 'remedies': 987, 'Speak': 988, 'meaning': 989, 'believe': 990, 'bent': 991, 'hide': 992, 'smile': 993, 'tittered': 994, 'audibly': 995, 'race': 996, 'IS': 997, 'paused': 998, 'SOMEBODY': 999, 'inclined': 1000, 'explain': 1001, 'winter': 1002, 'circle': 1003, 'exact': 1004, 'shape': 1005, 'placed': 1006, 'One': 1007, 'running': 1008, 'liked': 1009, 'easy': 1010, 'hour': 1011, 'panting': 1012, 'pressed': 1013, 'forehead': 1014, 'position': 1015, 'Shakespeare': 1016, 'rest': 1017, 'silence': 1018, 'EVERYBODY': 1019, 'prizes': 1020, 'chorus': 1021, 'voices': 1022, 'asked': 1023, 'pointing': 1024, 'calling': 1025, 'confused': 1026, 'Prizes': 1027, 'despair': 1028, 'pulled': 1029, 'comfits': 1030, 'luckily': 1031, 'handed': 1032, 'exactly': 1033, 'piece': 1034, 'prize': 1035, 'Of': 1036, 'gravely': 1037, 'Only': 1038, 'thimble': 1039, 'Hand': 1040, 'Then': 1041, 'presented': 1042, 'acceptance': 1043, 'elegant': 1044, 'short': 1045, 'speech': 1046, 'cheered': 1047, 'absurd': 1048, 'grave': 1049, 'dare': 1050, 'laugh': 1051, 'simply': 1052, 'bowed': 1053, 'solemn': 1054, 'caused': 1055, 'noise': 1056, 'confusion': 1057, 'complained': 1058, 'ones': 1059, 'choked': 1060, 'patted': 1061, 'begged': 1062, 'promised': 1063, 'added': 1064, 'whisper': 1065, 'Mine': 1066, 'sad': 1067, 'tale': 1068, 'sighing': 1069, 'call': 1070, 'Fury': 1071, 'met': 1072, 'law': 1073, 'prosecute': 1074, 'denial': 1075, 'trial': 1076, 'Said': 1077, 'cur': 1078, 'Such': 1079, 'Sir': 1080, 'jury': 1081, 'judge': 1082, 'wasting': 1083, 'breath': 1084, 'cunning': 1085, 'condemn': 1086, 'death': 1087, 'attending': 1088, 'humbly': 1089, 'fifth': 1090, 'bend': 1091, 'angrily': 1092, 'knot': 1093, 'undo': 1094, 'insult': 1095, 'mean': 1096, 'pleaded': 1097, 'easily': 1098, 'growled': 1099, 'reply': 1100, 'finish': 1101, 'story': 1102, 'others': 1103, 'joined': 1104, 'Yes': 1105, 'shook': 1106, 'impatiently': 1107, 'quicker': 1108, 'pity': 1109, 'sighed': 1110, 'Crab': 1111, 'daughter': 1112, 'lose': 1113, 'YOUR': 1114, 'temper': 1115, 'Hold': 1116, 'tongue': 1117, 'young': 1118, 'snappishly': 1119, 'patience': 1120, 'oyster': 1121, 'addressing': 1122, 'nobody': 1123, 'particular': 1124, 'venture': 1125, 'pet': 1126, 'bird': 1127, 'sensation': 1128, 'Some': 1129, 'Magpie': 1130, 'wrapping': 1131, 'carefully': 1132, 'remarking': 1133, 'suit': 1134, 'throat': 1135, 'Canary': 1136, 'bed': 1137, 'various': 1138, 'pretexts': 1139, 'moved': 1140, 'mentioned': 1141, 'Nobody': 1142, 'lonely': 1143, 'spirited': 1144, 'footsteps': 1145, 'IV': 1146, 'Sends': 1147, 'Little': 1148, 'Bill': 1149, 'executed': 1150, 'ferrets': 1151, 'Where': 1152, 'guessed': 1153, 'naturedly': 1154, 'hunting': 1155, 'nowhere': 1156, 'since': 1157, 'swim': 1158, 'vanished': 1159, 'completely': 1160, 'Very': 1161, 'Mary': 1162, 'Ann': 1163, 'ARE': 1164, 'Run': 1165, 'Quick': 1166, 'direction': 1167, 'pointed': 1168, 'mistake': 1169, 'housemaid': 1170, 'finds': 1171, 'neat': 1172, 'brass': 1173, 'plate': 1174, 'RABBIT': 1175, 'engraved': 1176, 'knocking': 1177, 'upstairs': 1178, 'lest': 1179, 'real': 1180, 'messages': 1181, 'fancying': 1182, 'Miss': 1183, 'directly': 1184, 'Coming': 1185, 'stop': 1186, 'ordering': 1187, 'By': 1188, 'tidy': 1189, 'room': 1190, 'window': 1191, 'hoped': 1192, 'pairs': 1193, 'stood': 1194, 'nevertheless': 1195, 'uncorked': 1196, 'lips': 1197, 'SOMETHING': 1198, 'interesting': 1199, 'whenever': 1200, 'expected': 1201, 'drunk': 1202, 'pressing': 1203, 'ceiling': 1204, 'stoop': 1205, 'save': 1206, 'broken': 1207, 'Alas': 1208, 'kneel': 1209, 'floor': 1210, 'effect': 1211, 'elbow': 1212, 'arm': 1213, 'curled': 1214, 'Still': 1215, 'resource': 1216, 'chimney': 1217, 'whatever': 1218, 'become': 1219, 'Luckily': 1220, 'magic': 1221, 'full': 1222, 'grew': 1223, 'chance': 1224, 'unhappy': 1225, 'pleasanter': 1226, 'ordered': 1227, 'rabbits': 1228, 'gone': 1229, 'fairy': 1230, 'tales': 1231, 'fancied': 1232, 'write': 1233, 'grown': 1234, 'least': 1235, 'HERE': 1236, 'comfort': 1237, 'woman': 1238, 'foolish': 1239, 'answered': 1240, 'books': 1241, 'taking': 1242, 'outside': 1243, 'stopped': 1244, 'Fetch': 1245, 'trembled': 1246, 'forgetting': 1247, 'reason': 1248, 'inwards': 1249, 'attempt': 1250, 'proved': 1251, 'failure': 1252, 'snatch': 1253, 'shriek': 1254, 'crash': 1255, 'concluded': 1256, 'possible': 1257, 'cucumber': 1258, 'frame': 1259, 'Next': 1260, 'Pat': 1261, 'Sure': 1262, 'Digging': 1263, 'apples': 1264, 'yer': 1265, 'honour': 1266, 'Here': 1267, 'THIS': 1268, 'Sounds': 1269, 'pronounced': 1270, 'arrum': 1271, 'An': 1272, 'goose': 1273, 'fills': 1274, 'business': 1275, 'whispers': 1276, 'coward': 1277, 'TWO': 1278, 'shrieks': 1279, 'sounds': 1280, 'frames': 1281, 'pulling': 1282, 'COULD': 1283, 'hearing': 1284, 'rumbling': 1285, 'cartwheels': 1286, 'together': 1287, 'ladder': 1288, 'lad': 1289, 'em': 1290, 'tie': 1291, 'rope': 1292, 'Will': 1293, 'bear': 1294, 'Mind': 1295, 'loose': 1296, 'slate': 1297, 'Heads': 1298, 'loud': 1299, 'Nay': 1300, 'master': 1301, 'Shy': 1302, 'place': 1303, 'fireplace': 1304, 'THINK': 1305, 'kick': 1306, 'drew': 1307, 'scratching': 1308, 'scrambling': 1309, 'sharp': 1310, 'Catch': 1311, 'Brandy': 1312, 'choke': 1313, 'fellow': 1314, 'Last': 1315, 'feeble': 1316, 'squeaking': 1317, 'thank': 1318, 'ye': 1319, 'flustered': 1320, 'comes': 1321, 'Jack': 1322, 'sky': 1323, 'rocket': 1324, 'dead': 1325, 'instantly': 1326, 'sense': 1327, 'moving': 1328, 'barrowful': 1329, 'doubt': 1330, 'shower': 1331, 'pebbles': 1332, 'rattling': 1333, 'hit': 1334, 'shouted': 1335, 'produced': 1336, 'surprise': 1337, 'cakes': 1338, 'lay': 1339, 'SOME': 1340, 'swallowed': 1341, 'delighted': 1342, 'crowd': 1343, 'Lizard': 1344, 'held': 1345, 'guinea': 1346, 'pigs': 1347, 'giving': 1348, 'rush': 1349, 'appeared': 1350, 'safe': 1351, 'thick': 1352, 'wood': 1353, 'wandered': 1354, 'plan': 1355, 'excellent': 1356, 'arranged': 1357, 'difficulty': 1358, 'smallest': 1359, 'peering': 1360, 'trees': 1361, 'bark': 1362, 'enormous': 1363, 'puppy': 1364, 'feebly': 1365, 'stretching': 1366, 'paw': 1367, 'touch': 1368, 'coaxing': 1369, 'whistle': 1370, 'terribly': 1371, 'hungry': 1372, 'spite': 1373, 'Hardly': 1374, 'picked': 1375, 'stick': 1376, 'whereupon': 1377, 'yelp': 1378, 'rushed': 1379, 'worry': 1380, 'dodged': 1381, 'thistle': 1382, 'keep': 1383, 'run': 1384, 'tumbled': 1385, 'heels': 1386, 'cart': 1387, 'horse': 1388, 'trampled': 1389, 'series': 1390, 'charges': 1391, 'forwards': 1392, 'barking': 1393, 'hoarsely': 1394, 'mouth': 1395, 'faint': 1396, 'leant': 1397, 'buttercup': 1398, 'fanned': 1399, 'teaching': 1400, 'tricks': 1401, 'blades': 1402, 'grass': 1403, 'circumstances': 1404, 'mushroom': 1405, 'height': 1406, 'stretched': 1407, 'tiptoe': 1408, 'edge': 1409, 'immediately': 1410, 'caterpillar': 1411, 'arms': 1412, 'folded': 1413, 'quietly': 1414, 'smoking': 1415, 'hookah': 1416, 'Advice': 1417, 'Caterpillar': 1418, 'addressed': 1419, 'languid': 1420, 'encouraging': 1421, 'shyly': 1422, 'present': 1423, 'sternly': 1424, 'Explain': 1425, 'MYSELF': 1426, 'clearly': 1427, 'sizes': 1428, 'confusing': 1429, 'turn': 1430, 'chrysalis': 1431, 'butterfly': 1432, 'may': 1433, 'contemptuously': 1434, 'brought': 1435, 'irritated': 1436, 'remarks': 1437, 'state': 1438, 'promising': 1439, 'Keep': 1440, 'Is': 1441, 'swallowing': 1442, 'anger': 1443, 'wait': 1444, 'puffed': 1445, 'unfolded': 1446, 'Can': 1447, 'HOW': 1448, 'DOTH': 1449, 'LITTLE': 1450, 'BUSY': 1451, 'BEE': 1452, 'Repeat': 1453, 'OLD': 1454, 'FATHER': 1455, 'WILLIAM': 1456, 'Father': 1457, 'man': 1458, 'incessantly': 1459, 'stand': 1460, 'youth': 1461, 'son': 1462, 'feared': 1463, 'injure': 1464, 'brain': 1465, 'perfectly': 1466, 'none': 1467, 'uncommonly': 1468, 'fat': 1469, 'Yet': 1470, 'somersault': 1471, 'Pray': 1472, 'sage': 1473, 'grey': 1474, 'limbs': 1475, 'supple': 1476, 'ointment': 1477, 'shilling': 1478, 'Allow': 1479, 'sell': 1480, 'couple': 1481, 'weak': 1482, 'tougher': 1483, 'suet': 1484, 'bones': 1485, 'beak': 1486, 'father': 1487, 'argued': 1488, 'wife': 1489, 'muscular': 1490, 'strength': 1491, 'jaw': 1492, 'Has': 1493, 'lasted': 1494, 'steady': 1495, 'balanced': 1496, 'eel': 1497, 'nose': 1498, 'awfully': 1499, 'clever': 1500, 'questions': 1501, 'airs': 1502, 'stuff': 1503, 'Be': 1504, 'QUITE': 1505, 'timidly': 1506, 'altered': 1507, 'decidedly': 1508, 'changing': 1509, 'often': 1510, 'DON': 1511, 'contradicted': 1512, 'losing': 1513, 'content': 1514, 'wretched': 1515, 'rearing': 1516, 'upright': 1517, 'piteous': 1518, 'patiently': 1519, 'chose': 1520, 'yawned': 1521, 'crawled': 1522, 'merely': 1523, 'taller': 1524, 'shorter': 1525, 'thoughtfully': 1526, 'difficult': 1527, 'broke': 1528, 'nibbled': 1529, 'violent': 1530, 'blow': 1531, 'underneath': 1532, 'closely': 1533, 'swallow': 1534, 'morsel': 1535, 'lefthand': 1536, 'free': 1537, 'alarm': 1538, 'immense': 1539, 'length': 1540, 'rise': 1541, 'stalk': 1542, 'green': 1543, 'HAVE': 1544, 'result': 1545, 'follow': 1546, 'shaking': 1547, 'distant': 1548, 'serpent': 1549, 'succeeded': 1550, 'curving': 1551, 'graceful': 1552, 'zigzag': 1553, 'dive': 1554, 'tops': 1555, 'wandering': 1556, 'hiss': 1557, 'draw': 1558, 'pigeon': 1559, 'flown': 1560, 'beating': 1561, 'wings': 1562, 'Serpent': 1563, 'screamed': 1564, 'Pigeon': 1565, 'indignantly': 1566, 'repeated': 1567, 'subdued': 1568, 'sob': 1569, 'roots': 1570, 'banks': 1571, 'hedges': 1572, 'serpents': 1573, 'pleasing': 1574, 'puzzled': 1575, 'hatching': 1576, 'eggs': 1577, 'sleep': 1578, 'weeks': 1579, 'sorry': 1580, 'annoyed': 1581, 'taken': 1582, 'highest': 1583, 'tree': 1584, 'raising': 1585, 'needs': 1586, 'wriggling': 1587, 'invent': 1588, 'doubtfully': 1589, 'changes': 1590, 'deepest': 1591, 'contempt': 1592, 'girls': 1593, 'denying': 1594, 'telling': 1595, 'tasted': 1596, 'egg': 1597, 'truthful': 1598, 'silent': 1599, 'adding': 1600, 'matters': 1601, 'YOURS': 1602, 'raw': 1603, 'settled': 1604, 'nest': 1605, 'crouched': 1606, 'entangled': 1607, 'branches': 1608, 'untwist': 1609, 'pieces': 1610, 'nibbling': 1611, 'bringing': 1612, 'beautiful': 1613, 'Whoever': 1614, 'lives': 1615, 'frighten': 1616, 'wits': 1617, 'righthand': 1618, 'VI': 1619, 'Pig': 1620, 'Pepper': 1621, 'footman': 1622, 'livery': 1623, 'considered': 1624, 'otherwise': 1625, 'judging': 1626, 'fish': 1627, 'rapped': 1628, 'loudly': 1629, 'knuckles': 1630, 'footmen': 1631, 'powdered': 1632, 'crept': 1633, 'Fish': 1634, 'Footman': 1635, 'producing': 1636, 'letter': 1637, 'invitation': 1638, 'Queen': 1639, 'Frog': 1640, 'order': 1641, 'From': 1642, 'curls': 1643, 'laughed': 1644, 'ground': 1645, 'staring': 1646, 'stupidly': 1647, 'knocked': 1648, 'reasons': 1649, 'secondly': 1650, 'inside': 1651, 'extraordinary': 1652, 'within': 1653, 'constant': 1654, 'howling': 1655, 'sneezing': 1656, 'dish': 1657, 'kettle': 1658, 'instance': 1659, 'INSIDE': 1660, 'knock': 1661, 'uncivil': 1662, 'remarked': 1663, 'tomorrow': 1664, 'skimming': 1665, 'grazed': 1666, 'maybe': 1667, 'louder': 1668, 'told': 1669, 'dreadful': 1670, 'muttered': 1671, 'argue': 1672, 'drive': 1673, 'crazy': 1674, 'repeating': 1675, 'remark': 1676, 'variations': 1677, 'days': 1678, 'Anything': 1679, 'whistling': 1680, 'desperately': 1681, 'idiotic': 1682, 'kitchen': 1683, 'smoke': 1684, 'stool': 1685, 'nursing': 1686, 'baby': 1687, 'cook': 1688, 'leaning': 1689, 'stirring': 1690, 'cauldron': 1691, 'soup': 1692, 'pepper': 1693, 'Even': 1694, 'sneezed': 1695, 'occasionally': 1696, 'alternately': 1697, 'pause': 1698, 'sneeze': 1699, 'hearth': 1700, 'grinning': 1701, 'ear': 1702, 'manners': 1703, 'grins': 1704, 'Cheshire': 1705, 'violence': 1706, 'courage': 1707, 'grinned': 1708, 'pleased': 1709, 'introduce': 1710, 'While': 1711, 'fix': 1712, 'throwing': 1713, 'irons': 1714, 'saucepans': 1715, 'plates': 1716, 'dishes': 1717, 'already': 1718, 'blows': 1719, 'PLEASE': 1720, 'jumping': 1721, 'agony': 1722, 'terror': 1723, 'PRECIOUS': 1724, 'unusually': 1725, 'saucepan': 1726, 'flew': 1727, 'carried': 1728, 'everybody': 1729, 'minded': 1730, 'growl': 1731, 'faster': 1732, 'advantage': 1733, 'takes': 1734, 'hours': 1735, 'axis': 1736, 'Talking': 1737, 'axes': 1738, 'chop': 1739, 'glanced': 1740, 'meant': 1741, 'hint': 1742, 'busily': 1743, 'Twenty': 1744, 'bother': 1745, 'abide': 1746, 'figures': 1747, 'singing': 1748, 'lullaby': 1749, 'shake': 1750, 'line': 1751, 'roughly': 1752, 'boy': 1753, 'beat': 1754, 'sneezes': 1755, 'annoy': 1756, 'Because': 1757, 'teases': 1758, 'CHORUS': 1759, 'Wow': 1760, 'wow': 1761, 'sang': 1762, 'verse': 1763, 'song': 1764, 'tossing': 1765, 'howled': 1766, 'thoroughly': 1767, 'enjoy': 1768, 'pleases': 1769, 'flinging': 1770, 'threw': 1771, 'frying': 1772, 'pan': 1773, 'missed': 1774, 'caught': 1775, 'shaped': 1776, 'creature': 1777, 'star': 1778, 'snorting': 1779, 'steam': 1780, 'engine': 1781, 'doubling': 1782, 'straightening': 1783, 'proper': 1784, 'twist': 1785, 'tight': 1786, 'prevent': 1787, 'undoing': 1788, 'IF': 1789, 'kill': 1790, 'murder': 1791, 'grunted': 1792, 'grunt': 1793, 'expressing': 1794, 'snout': 1795, 'also': 1796, 'extremely': 1797, 'sobbing': 1798, 'pig': 1799, 'seriously': 1800, 'sobbed': 1801, 'NO': 1802, 'neither': 1803, 'less': 1804, 'carry': 1805, 'relieved': 1806, 'trot': 1807, 'dreadfully': 1808, 'ugly': 1809, 'handsome': 1810, 'startled': 1811, 'seeing': 1812, 'Cat': 1813, 'bough': 1814, 'yards': 1815, 'natured': 1816, 'teeth': 1817, 'treated': 1818, 'respect': 1819, 'Puss': 1820, 'wider': 1821, 'depends': 1822, 'SOMEWHERE': 1823, 'explanation': 1824, 'denied': 1825, 'waving': 1826, 'Hatter': 1827, 'March': 1828, 'Hare': 1829, 'Visit': 1830, 'mad': 1831, 'To': 1832, 'grant': 1833, 'growls': 1834, 'wags': 1835, 'wag': 1836, 'Therefore': 1837, 'growling': 1838, 'Call': 1839, 'invited': 1840, 'happening': 1841, 'became': 1842, 'appear': 1843, 'hatters': 1844, 'May': 1845, 'raving': 1846, 'branch': 1847, 'fig': 1848, 'appearing': 1849, 'vanishing': 1850, 'giddy': 1851, 'All': 1852, 'ending': 1853, 'farther': 1854, 'chimneys': 1855, 'thatched': 1856, 'raised': 1857, 'towards': 1858, 'Suppose': 1859, 'instead': 1860, 'VII': 1861, 'Mad': 1862, 'Tea': 1863, 'Party': 1864, 'front': 1865, 'Dormouse': 1866, 'fast': 1867, 'asleep': 1868, 'using': 1869, 'cushion': 1870, 'resting': 1871, 'elbows': 1872, 'PLENTY': 1873, 'chair': 1874, 'Have': 1875, 'wine': 1876, 'civil': 1877, 'laid': 1878, 'Your': 1879, 'wants': 1880, 'cutting': 1881, 'personal': 1882, 'severity': 1883, 'rude': 1884, 'wide': 1885, 'SAID': 1886, 'raven': 1887, 'writing': 1888, 'desk': 1889, 'fun': 1890, 'riddles': 1891, 'Exactly': 1892, 'breathe': 1893, 'ravens': 1894, 'desks': 1895, 'break': 1896, 'month': 1897, 'uneasily': 1898, 'fourth': 1899, 'Two': 1900, 'butter': 1901, 'works': 1902, 'BEST': 1903, 'meekly': 1904, 'crumbs': 1905, 'grumbled': 1906, 'bread': 1907, 'gloomily': 1908, 'cup': 1909, 'shoulder': 1910, 'tells': 1911, 'clock': 1912, 'Does': 1913, 'year': 1914, 'readily': 1915, 'stays': 1916, 'MINE': 1917, 'poured': 1918, 'riddle': 1919, 'slightest': 1920, 'Nor': 1921, 'wearily': 1922, 'waste': 1923, 'answers': 1924, 'Time': 1925, 'HIM': 1926, 'cautiously': 1927, 'music': 1928, 'accounts': 1929, 'terms': 1930, 'twinkling': 1931, 'Half': 1932, 'mournfully': 1933, 'quarrelled': 1934, 'HE': 1935, 'spoon': 1936, 'concert': 1937, 'given': 1938, 'Hearts': 1939, 'sing': 1940, 'Twinkle': 1941, 'twinkle': 1942, 'Up': 1943, 'fly': 1944, 'Like': 1945, 'tray': 1946, 'pinch': 1947, 'bawled': 1948, 'murdering': 1949, 'Off': 1950, 'exclaimed': 1951, 'mournful': 1952, 'sigh': 1953, 'wash': 1954, 'whiles': 1955, 'interrupted': 1956, 'yawning': 1957, 'vote': 1958, 'lady': 1959, 'alarmed': 1960, 'proposal': 1961, 'Wake': 1962, 'pinched': 1963, 'fellows': 1964, 'quick': 1965, 'Once': 1966, 'sisters': 1967, 'names': 1968, 'Elsie': 1969, 'Lacie': 1970, 'Tillie': 1971, 'lived': 1972, 'bottom': 1973, 'interest': 1974, 'eating': 1975, 'drinking': 1976, 'treacle': 1977, 'ill': 1978, 'ways': 1979, 'living': 1980, 'Take': 1981, 'LESS': 1982, 'MORE': 1983, 'opinion': 1984, 'triumphantly': 1985, 'helped': 1986, 'Sh': 1987, 'sh': 1988, 'sulkily': 1989, 'interrupt': 1990, 'consented': 1991, 'learning': 1992, 'promise': 1993, 'Treacle': 1994, 'clean': 1995, 'unwillingly': 1996, 'upset': 1997, 'jug': 1998, 'offend': 1999, 'eh': 2000, 'IN': 2001, 'choosing': 2002, 'interrupting': 2003, 'rubbing': 2004, 'manner': 2005, 'begins': 2006, 'closed': 2007, 'doze': 2008, 'woke': 2009, 'traps': 2010, 'moon': 2011, 'memory': 2012, 'muchness': 2013, 'drawing': 2014, 'Really': 2015, 'rudeness': 2016, 'disgust': 2017, 'teapot': 2018, 'THERE': 2019, 'stupidest': 2020, 'leading': 2021, 'today': 2022, 'unlocking': 2023, 'THEN': 2024, 'flower': 2025, 'VIII': 2026, 'Croquet': 2027, 'Ground': 2028, 'rose': 2029, 'entrance': 2030, 'roses': 2031, 'gardeners': 2032, 'painting': 2033, 'Look': 2034, 'Five': 2035, 'paint': 2036, 'Seven': 2037, 'jogged': 2038, 'Always': 2039, 'blame': 2040, 'deserved': 2041, 'beheaded': 2042, 'spoken': 2043, 'tulip': 2044, 'onions': 2045, 'flung': 2046, 'brush': 2047, 'unjust': 2048, 'chanced': 2049, 'watching': 2050, 'checked': 2051, 'RED': 2052, 'afore': 2053, 'flat': 2054, 'faces': 2055, 'eager': 2056, 'soldiers': 2057, 'carrying': 2058, 'clubs': 2059, 'oblong': 2060, 'corners': 2061, 'courtiers': 2062, 'ornamented': 2063, 'diamonds': 2064, 'royal': 2065, 'merrily': 2066, 'couples': 2067, 'hearts': 2068, 'guests': 2069, 'mostly': 2070, 'Kings': 2071, 'Queens': 2072, 'recognised': 2073, 'noticing': 2074, 'Knave': 2075, 'King': 2076, 'crimson': 2077, 'velvet': 2078, 'procession': 2079, 'KING': 2080, 'AND': 2081, 'QUEEN': 2082, 'HEARTS': 2083, 'doubtful': 2084, 'lie': 2085, 'rule': 2086, 'processions': 2087, 'besides': 2088, 'opposite': 2089, 'smiled': 2090, 'Idiot': 2091, 'My': 2092, 'Majesty': 2093, 'pack': 2094, 'cards': 2095, 'THESE': 2096, 'rosetree': 2097, 'pattern': 2098, 'backs': 2099, 'fury': 2100, 'glaring': 2101, 'beast': 2102, 'Nonsense': 2103, 'Consider': 2104, 'Turn': 2105, 'Get': 2106, 'bowing': 2107, 'Leave': 2108, 'humble': 2109, 'knee': 2110, 'meanwhile': 2111, 'examining': 2112, 'remaining': 2113, 'execute': 2114, 'unfortunate': 2115, 'protection': 2116, 'pot': 2117, 'marched': 2118, 'Their': 2119, 'evidently': 2120, 'roared': 2121, 'fine': 2122, 'peeping': 2123, 'Hush': 2124, 'whispered': 2125, 'execution': 2126, 'boxed': 2127, 'scream': 2128, 'laughter': 2129, 'hush': 2130, 'places': 2131, 'thunder': 2132, 'ridges': 2133, 'furrows': 2134, 'balls': 2135, 'hedgehogs': 2136, 'mallets': 2137, 'flamingoes': 2138, 'double': 2139, 'arches': 2140, 'chief': 2141, 'managing': 2142, 'flamingo': 2143, 'body': 2144, 'tucked': 2145, 'comfortably': 2146, 'straightened': 2147, 'hedgehog': 2148, 'expression': 2149, 'bursting': 2150, 'laughing': 2151, 'provoking': 2152, 'unrolled': 2153, 'act': 2154, 'crawling': 2155, 'ridge': 2156, 'furrow': 2157, 'send': 2158, 'doubled': 2159, 'parts': 2160, 'players': 2161, 'played': 2162, 'turns': 2163, 'quarrelling': 2164, 'fighting': 2165, 'furious': 2166, 'stamping': 2167, 'shouting': 2168, 'uneasy': 2169, 'dispute': 2170, 'beheading': 2171, 'alive': 2172, 'appearance': 2173, 'nodded': 2174, 'account': 2175, 'someone': 2176, 'fairly': 2177, 'complaining': 2178, 'quarrel': 2179, 'oneself': 2180, 'attends': 2181, 'arch': 2182, 'croqueted': 2183, 'win': 2184, 'finishing': 2185, 'friend': 2186, 'kiss': 2187, 'likes': 2188, 'impertinent': 2189, 'king': 2190, 'removed': 2191, 'passing': 2192, 'settling': 2193, 'difficulties': 2194, 'executioner': 2195, 'screaming': 2196, 'search': 2197, 'engaged': 2198, 'fight': 2199, 'croqueting': 2200, 'helpless': 2201, 'collected': 2202, 'appealed': 2203, 'settle': 2204, 'arguments': 2205, 'unless': 2206, 'HIS': 2207, 'anxious': 2208, 'HER': 2209, 'prison': 2210, 'arrow': 2211, 'fading': 2212, 'entirely': 2213, 'disappeared': 2214, 'wildly': 2215, 'IX': 2216, 'Mock': 2217, 'Turtle': 2218, 'Story': 2219, 'affectionately': 2220, 'pleasant': 2221, 'hopeful': 2222, 'AT': 2223, 'ALL': 2224, 'Soup': 2225, 'Maybe': 2226, 'tempered': 2227, 'vinegar': 2228, 'sour': 2229, 'camomile': 2230, 'bitter': 2231, 'barley': 2232, 'sugar': 2233, 'sweet': 2234, 'stingy': 2235, 'forget': 2236, 'moral': 2237, 'Tut': 2238, 'tut': 2239, 'squeezed': 2240, 'closer': 2241, 'keeping': 2242, 'uncomfortably': 2243, 'bore': 2244, 'Tis': 2245, 'tis': 2246, 'love': 2247, 'Somebody': 2248, 'minding': 2249, 'morals': 2250, 'waist': 2251, 'Shall': 2252, 'experiment': 2253, 'bite': 2254, 'mustard': 2255, 'Birds': 2256, 'feather': 2257, 'flock': 2258, 'Right': 2259, 'mineral': 2260, 'agree': 2261, 'attended': 2262, 'vegetable': 2263, 'Never': 2264, 'imagine': 2265, 'cheap': 2266, 'birthday': 2267, 'Thinking': 2268, 'dig': 2269, 'worried': 2270, 'died': 2271, 'favourite': 2272, 'linked': 2273, 'tremble': 2274, 'thunderstorm': 2275, 'fair': 2276, 'warning': 2277, 'choice': 2278, 'absence': 2279, 'shade': 2280, 'delay': 2281, 'cost': 2282, 'Those': 2283, 'sentenced': 2284, 'custody': 2285, 'company': 2286, 'pardoned': 2287, 'executions': 2288, 'Gryphon': 2289, 'sun': 2290, 'picture': 2291, 'lazy': 2292, 'leaving': 2293, 'rubbed': 2294, 'watched': 2295, 'chuckled': 2296, 'executes': 2297, 'Everybody': 2298, 'ledge': 2299, 'rock': 2300, 'heart': 2301, 'pitied': 2302, 'sorrow': 2303, 'hollow': 2304, 'EVEN': 2305, 'These': 2306, 'occasional': 2307, 'exclamation': 2308, 'Hjckrrh': 2309, 'heavy': 2310, 'Thank': 2311, 'MUST': 2312, 'calmly': 2313, 'school': 2314, 'Tortoise': 2315, 'sink': 2316, 'Drive': 2317, 'mayn': 2318, 'educations': 2319, 'VE': 2320, 'proud': 2321, 'extras': 2322, 'learned': 2323, 'Certainly': 2324, 'relief': 2325, 'OURS': 2326, 'bill': 2327, 'WASHING': 2328, 'extra': 2329, 'afford': 2330, 'regular': 2331, 'inquired': 2332, 'Reeling': 2333, 'Writhing': 2334, 'Arithmetic': 2335, 'Ambition': 2336, 'Distraction': 2337, 'Uglification': 2338, 'Derision': 2339, 'lifted': 2340, 'uglifying': 2341, 'beautify': 2342, 'prettier': 2343, 'uglify': 2344, 'simpleton': 2345, 'encouraged': 2346, 'Mystery': 2347, 'counting': 2348, 'subjects': 2349, 'flappers': 2350, 'ancient': 2351, 'modern': 2352, 'Seaography': 2353, 'Drawling': 2354, 'conger': 2355, 'week': 2356, 'Stretching': 2357, 'Fainting': 2358, 'Coils': 2359, 'stiff': 2360, 'Hadn': 2361, 'Classics': 2362, 'crab': 2363, 'Laughing': 2364, 'Grief': 2365, 'hid': 2366, 'Ten': 2367, 'lessen': 2368, 'eleventh': 2369, 'holiday': 2370, 'twelfth': 2371, 'games': 2372, 'Lobster': 2373, 'Quadrille': 2374, 'flapper': 2375, 'sobs': 2376, 'Same': 2377, 'bone': 2378, 'punching': 2379, 'recovered': 2380, 'cheeks': 2381, 'introduced': 2382, 'lobster': 2383, 'delightful': 2384, 'dance': 2385, 'form': 2386, 'lines': 2387, 'Seals': 2388, 'turtles': 2389, 'salmon': 2390, 'cleared': 2391, 'jelly': 2392, 'advance': 2393, 'Each': 2394, 'partner': 2395, 'partners': 2396, 'lobsters': 2397, 'retire': 2398, 'bound': 2399, 'Swim': 2400, 'capering': 2401, 'Change': 2402, 'yelled': 2403, 'Back': 2404, 'land': 2405, 'figure': 2406, 'dropping': 2407, 'pretty': 2408, 'dancing': 2409, 'treading': 2410, 'toes': 2411, 'forepaws': 2412, 'mark': 2413, 'whiting': 2414, 'snail': 2415, 'porpoise': 2416, 'See': 2417, 'shingle': 2418, 'join': 2419, 'Too': 2420, 'askance': 2421, 'thanked': 2422, 'kindly': 2423, 'scaly': 2424, 'England': 2425, 'France': 2426, 'beloved': 2427, 'dinn': 2428, 'Dinn': 2429, 'tails': 2430, 'mouths': 2431, 'thrown': 2432, 'DOES': 2433, 'BOOTS': 2434, 'SHOES': 2435, 'shiny': 2436, 'blacking': 2437, 'Boots': 2438, 'Soles': 2439, 'eels': 2440, 'shrimp': 2441, 'thoughts': 2442, 'obliged': 2443, 'anywhere': 2444, 'Wouldn': 2445, 'journey': 2446, 'purpose': 2447, 'adventures': 2448, 'impatient': 2449, 'explanations': 2450, 'gained': 2451, 'listeners': 2452, 'part': 2453, 'Stand': 2454, 'TIS': 2455, 'VOICE': 2456, 'SLUGGARD': 2457, 'baked': 2458, 'duck': 2459, 'eyelids': 2460, 'Trims': 2461, 'belt': 2462, 'buttons': 2463, 'editions': 2464, 'follows': 2465, 'sands': 2466, 'gay': 2467, 'lark': 2468, 'contemptuous': 2469, 'tones': 2470, 'Shark': 2471, 'tide': 2472, 'rises': 2473, 'sharks': 2474, 'around': 2475, 'His': 2476, 'tremulous': 2477, 'uncommon': 2478, 'EVER': 2479, 'explained': 2480, 'Go': 2481, 'persisted': 2482, 'disobey': 2483, 'Owl': 2484, 'Panther': 2485, 'sharing': 2486, 'pie': 2487, 'crust': 2488, 'gravy': 2489, 'meat': 2490, 'share': 2491, 'treat': 2492, 'boon': 2493, 'Was': 2494, 'permitted': 2495, 'received': 2496, 'fork': 2497, 'banquet': 2498, 'Or': 2499, 'Hm': 2500, 'accounting': 2501, 'tastes': 2502, 'Sing': 2503, 'Beautiful': 2504, 'rich': 2505, 'Waiting': 2506, 'tureen': 2507, 'dainties': 2508, 'evening': 2509, 'Beau': 2510, 'ootiful': 2511, 'Soo': 2512, 'oop': 2513, 'cares': 2514, 'Game': 2515, 'Pennyworth': 2516, 'beauti': 2517, 'FUL': 2518, 'SOUP': 2519, 'Chorus': 2520, 'panted': 2521, 'faintly': 2522, 'breeze': 2523, 'XI': 2524, 'Stole': 2525, 'Tarts': 2526, 'seated': 2527, 'throne': 2528, 'arrived': 2529, 'standing': 2530, 'chains': 2531, 'soldier': 2532, 'guard': 2533, 'trumpet': 2534, 'scroll': 2535, 'parchment': 2536, 'court': 2537, 'tarts': 2538, 'refreshments': 2539, 'pass': 2540, 'justice': 2541, 'wig': 2542, 'wore': 2543, 'frontispiece': 2544, 'comfortable': 2545, 'becoming': 2546, 'jurors': 2547, 'rightly': 2548, 'men': 2549, 'slates': 2550, 'Stupid': 2551, 'indignant': 2552, 'spectacles': 2553, 'spell': 2554, 'neighbour': 2555, 'muddle': 2556, 'pencil': 2557, 'squeaked': 2558, 'quickly': 2559, 'juror': 2560, 'Herald': 2561, 'accusation': 2562, 'blew': 2563, 'blasts': 2564, 'summer': 2565, 'stole': 2566, 'verdict': 2567, 'witness': 2568, 'teacup': 2569, 'sent': 2570, 'Fourteenth': 2571, 'Fifteenth': 2572, 'Sixteenth': 2573, 'Write': 2574, 'wrote': 2575, 'dates': 2576, 'reduced': 2577, 'shillings': 2578, 'pence': 2579, 'hat': 2580, 'Stolen': 2581, 'memorandum': 2582, 'hatter': 2583, 'fidgeted': 2584, 'Give': 2585, 'evidence': 2586, 'spot': 2587, 'encourage': 2588, 'shifting': 2589, 'remain': 2590, 'squeeze': 2591, 'boldly': 2592, 'reasonable': 2593, 'pace': 2594, 'ridiculous': 2595, 'fashion': 2596, 'officers': 2597, 'Bring': 2598, 'list': 2599, 'singers': 2600, 'thin': 2601, 'dunce': 2602, 'twinkled': 2603, 'deny': 2604, 'denies': 2605, 'miserable': 2606, 'speaker': 2607, 'suppressed': 2608, 'canvas': 2609, 'bag': 2610, 'tied': 2611, 'strings': 2612, 'newspapers': 2613, 'trials': 2614, 'attempts': 2615, 'applause': 2616, 'understood': 2617, 'lower': 2618, 'SIT': 2619, 'officer': 2620, 'Shan': 2621, 'examine': 2622, 'folding': 2623, 'Collar': 2624, 'shrieked': 2625, 'Behead': 2626, 'Suppress': 2627, 'Pinch': 2628, 'undertone': 2629, 'ache': 2630, 'fumbled': 2631, 'YET': 2632, 'Imagine': 2633, 'XII': 2634, 'Evidence': 2635, 'flurry': 2636, 'tipped': 2637, 'skirt': 2638, 'upsetting': 2639, 'jurymen': 2640, 'sprawling': 2641, 'reminding': 2642, 'globe': 2643, 'goldfish': 2644, 'accidentally': 2645, 'BEG': 2646, 'dismay': 2647, 'accident': 2648, 'vague': 2649, 'die': 2650, 'cannot': 2651, 'emphasis': 2652, 'haste': 2653, 'downwards': 2654, 'unable': 2655, 'signifies': 2656, 'shock': 2657, 'pencils': 2658, 'diligently': 2659, 'overcome': 2660, 'gazing': 2661, 'Nothing': 2662, 'WHATEVER': 2663, 'UNimportant': 2664, 'respectful': 2665, 'unimportant': 2666, 'note': 2667, 'cackled': 2668, 'Rule': 2669, 'Forty': 2670, 'PERSONS': 2671, 'THAN': 2672, 'MILE': 2673, 'HIGH': 2674, 'TO': 2675, 'LEAVE': 2676, 'COURT': 2677, 'mile': 2678, 'Nearly': 2679, 'invented': 2680, 'oldest': 2681, 'Number': 2682, 'prisoner': 2683, 'directed': 2684, 'OUTSIDE': 2685, 'verses': 2686, 'handwriting': 2687, 'queerest': 2688, 'imitated': 2689, 'prove': 2690, 'signed': 2691, 'sign': 2692, 'mischief': 2693, 'honest': 2694, 'clapping': 2695, 'PROVES': 2696, 'guilt': 2697, 'proves': 2698, 'Read': 2699, 'Begin': 2700, 'character': 2701, 'push': 2702, 'returned': 2703, 'Though': 2704, 'Involved': 2705, 'affair': 2706, 'trusts': 2707, 'Before': 2708, 'fit': 2709, 'obstacle': 2710, 'Him': 2711, 'secret': 2712, 'Between': 2713, 'sixpence': 2714, 'atom': 2715, 'attempted': 2716, 'saves': 2717, 'spreading': 2718, 'SWIM': 2719, 'cardboard': 2720, 'WE': 2721, 'KNOW': 2722, 'BE': 2723, 'TRUE': 2724, 'GAVE': 2725, 'THEY': 2726, 'RETURNED': 2727, 'FROM': 2728, 'clearer': 2729, 'BEFORE': 2730, 'HAD': 2731, 'FIT': 2732, 'fits': 2733, 'furiously': 2734, 'inkstand': 2735, 'ink': 2736, 'trickling': 2737, 'pun': 2738, 'consider': 2739, 'twentieth': 2740, 'Sentence': 2741, 'Stuff': 2742, 'purple': 2743, 'flying': 2744, 'brushing': 2745, 'fluttered': 2746, 'kissed': 2747, 'wonderful': 2748, 'setting': 2749, 'dreaming': 2750, 'dreamed': 2751, 'clasped': 2752, 'toss': 2753, 'listened': 2754, 'rustled': 2755, 'splashed': 2756, 'neighbouring': 2757, 'rattle': 2758, 'teacups': 2759, 'shared': 2760, 'meal': 2761, 'crashed': 2762, 'choking': 2763, 'believed': 2764, 'reality': 2765, 'rustling': 2766, 'rippling': 2767, 'reeds': 2768, 'tinkling': 2769, 'sheep': 2770, 'bells': 2771, 'cries': 2772, 'shepherd': 2773, 'noises': 2774, 'clamour': 2775, 'busy': 2776, 'farm': 2777, 'yard': 2778, 'lowing': 2779, 'cattle': 2780, 'Lastly': 2781, 'pictured': 2782, 'riper': 2783, 'years': 2784, 'loving': 2785, 'childhood': 2786, 'gather': 2787, 'THEIR': 2788, 'sorrows': 2789, 'joys': 2790, 'remembering': 2791, 'happy': 2792}\n"
     ]
    }
   ],
   "source": [
    "# Sanity check\n",
    "print(Items_ids)"
   ]
  },
  {
   "cell_type": "code",
   "execution_count": 7,
   "id": "5cf05abf",
   "metadata": {},
   "outputs": [
    {
     "name": "stdout",
     "output_type": "stream",
     "text": [
      "[[0, 1, 2, 3, 4], [5], [6, 7, 8], [0, 9, 10, 11, 12, 13, 14, 15, 16, 17, 18, 13, 19, 20, 21, 22, 18, 23, 0, 24, 20, 25], [26, 27, 28, 29, 30, 31, 32, 33, 34, 35, 36, 37, 38, 39, 40, 41, 42, 43, 44, 45, 46, 47, 48, 49, 7, 50, 51, 52, 53], [54, 15, 55, 56, 0, 57, 55, 58, 59, 60, 7, 61, 62, 63], [62, 63], [64, 65], [23, 66, 67, 68, 69, 70, 71, 72, 73, 7, 74, 75, 76, 77, 78, 79, 80, 81, 82, 83, 0, 84, 85, 86, 87, 28, 88, 89, 90, 91, 92, 93, 94, 95, 96, 97, 52, 87, 98, 99, 70, 100, 101, 102, 90, 103, 104], [105, 106, 107, 108, 0, 88, 27, 109, 10], [110, 90, 103, 108, 111, 112, 113, 59, 114, 48, 48, 0, 107, 57, 115, 116, 117, 118, 29], [119, 29, 118, 120, 121, 122, 70, 108, 123, 124, 125, 126, 127], [128, 129, 123, 130, 131, 132, 100, 133, 82, 134, 29, 135, 136, 137, 18, 138, 139, 140, 20, 141, 142, 143], [144, 145, 146, 147, 138, 148, 149, 150, 151, 152, 153, 154, 112, 155, 146, 156, 157, 158, 159, 160, 147, 137, 120, 161], [162], [23, 0, 163, 64, 57, 15, 164, 165], [166, 167, 57, 168], [169, 61, 133, 170, 120, 171, 172], [173, 174, 175], [6], [176, 163, 177, 178, 179], [124, 180, 181, 182, 70], [183, 184], [185, 45, 186, 187, 188, 189], [190, 100, 42, 191, 192, 181, 57, 100, 0, 193, 194, 195, 196, 197, 198, 199, 55, 200, 201, 202, 203, 147, 204, 205, 200, 206, 61, 207, 208, 209, 124, 210, 211, 212], [0, 213, 210, 211, 91, 23, 214, 215, 216, 61], [217, 218], [124, 64, 163, 208, 219, 189], [166, 220, 221, 178, 222, 223, 224, 225, 226], [110, 227, 57, 228, 229, 230, 147, 231, 70, 232, 208, 233, 64, 234, 235, 236, 237], [238, 239, 240, 241, 242], [129, 243, 244, 245, 246, 117, 247], [248, 57, 30, 249], [250, 251, 252, 253, 57, 254], [255, 88, 234, 256, 64, 100, 257, 186], [6], [54, 15, 258, 0, 259, 218, 260], [261, 262, 58, 263, 57], [261, 264], [265, 266, 267, 268, 269, 70], [261, 63], [270], [54, 271, 247, 272, 273, 274, 275, 112, 276, 237], [277, 278, 279, 280, 124], [250, 0, 218, 10, 228, 35, 108, 281, 282, 196, 59, 248, 278, 279, 280], [248, 278, 279, 280], [283, 248, 280, 279, 278], [100, 284, 91, 285, 58, 286, 59, 160], [144, 287, 288, 289, 290, 291, 292, 292, 261, 281, 293, 294, 261, 295, 296, 297, 279, 275], [48, 298], [298], [299, 142, 300, 301, 302, 303, 163], [0, 304, 305, 306, 85, 107, 82, 132, 307, 106, 308, 309, 49, 7, 205, 310, 311], [54, 107, 312, 313, 108, 0, 112, 314, 70, 60, 61, 315, 316, 62, 317, 318, 65, 45], [144, 53, 319, 315, 316, 7, 320, 89, 116, 308, 321, 322, 323, 324, 325, 326, 327], [54, 328, 329, 322, 330, 0, 59, 147, 331, 332, 333, 334, 335, 336, 337, 338, 297, 10], [339, 299, 142, 252, 340, 341, 342, 33, 343, 344, 15, 345, 346, 347, 348, 0, 349, 23, 273, 350, 147, 328, 322, 351], [91, 352, 102, 348, 353, 354, 42, 355], [356, 357, 70, 329, 299, 142, 321, 358, 135, 319, 252, 334, 359, 360, 361, 129, 252, 347, 348, 362, 152, 363, 364], [0, 365, 334, 116, 366, 353, 309, 58, 367, 368, 103, 369, 82, 370, 309, 371, 372, 297, 139], [166, 373, 10, 132, 322, 374, 222, 375, 376, 377, 378, 379, 30, 170, 10, 380, 381, 170, 380, 42, 382, 23, 383, 0, 42, 252, 22, 24, 384], [62, 270, 30, 385, 112, 386], [57, 30, 237, 387], [388, 100, 180, 59, 195, 389, 390, 0, 289, 57, 195, 391, 392, 393], [54, 71, 22, 394, 252, 334, 108, 395, 342, 396, 397, 273, 398, 106, 348, 354, 18, 399, 400, 223, 112, 401, 70, 116, 252, 402, 403, 183, 0, 329, 404, 402, 405, 406, 216, 407, 408, 409, 410, 102, 411], [412, 29, 61, 413, 414, 252, 0, 125, 415, 416], [255, 123, 349, 183, 100, 37, 417, 418, 419, 194, 214, 252, 420, 421, 212, 422, 423, 424, 425, 426, 195, 427, 266, 428, 399, 429, 430, 431, 31, 432, 433, 434, 308, 435, 436, 55, 437, 438, 439, 440, 88, 441, 442, 58, 402, 417, 418, 443, 444, 445, 446, 447], [356, 402, 448, 417, 418, 0, 449, 450, 451, 214, 452, 196, 453, 454, 455, 456, 457, 458, 459, 460, 461, 462, 31, 463, 464, 259, 465], [], [], [], [466, 467, 468], [183, 0, 185, 400, 112, 386], [250, 391, 469, 360, 361, 470, 471, 23, 208, 472, 125, 252, 334, 473, 372], [128, 474, 475, 476, 100, 125, 477, 287, 252, 478, 273, 179, 237, 183, 0, 125, 479, 112, 480], [124, 112], [250, 129, 245, 481, 480, 112, 480, 482, 30, 266, 297, 89, 483], [484, 451, 15, 389, 485, 125, 372, 351, 383, 0], [212, 334, 116, 441, 252, 347, 348, 108, 395, 342, 116, 30, 486, 487, 30, 100, 72, 488, 344, 129, 489, 490, 147, 491, 342, 492, 11, 332, 383, 252, 483, 493, 494], [495, 22, 496, 112], [183, 0, 228, 497, 498, 499, 500], [144, 501, 502, 200, 503, 199, 504, 505, 283, 506, 507, 508, 509, 51, 510, 332, 511, 317, 512, 513, 514, 515, 467, 516, 517, 518, 519, 223], [277, 22, 23, 383, 0, 520, 519, 223], [169, 521, 522, 523, 130, 524, 525, 526], [527, 528, 120, 252, 344, 511, 529, 342, 365, 116, 353, 530, 216, 531, 408, 409, 417, 532], [162, 279, 183, 0, 533, 534, 367, 487, 348, 533, 534, 535, 536, 334, 91, 59, 10, 372, 537, 538], [144, 539, 252, 304, 183, 540, 173, 59], [173, 59], [541, 292, 171, 380, 34, 59, 542, 72, 543, 398, 544, 472, 545, 501, 538, 147, 546, 530, 0, 212, 58, 59, 547, 15, 59, 195, 126, 71, 72, 548, 36, 549, 382, 550, 59], [26, 551, 552, 259, 465, 530], [], [], [], [5, 553], [110, 554, 555], [556, 557], [494, 0, 58, 543, 107, 72, 558, 559, 200, 560, 561, 112, 562, 386, 297], [563, 564, 85], [82, 85, 71, 443, 310, 45, 565], [62, 383, 252, 85, 124, 160, 566, 567, 568], [545, 569], [64, 152, 570, 565, 44, 185, 249, 489, 59, 185, 571, 23, 0, 256, 224, 59, 572, 382], [190, 100, 573, 574, 575, 576, 333, 577], [250, 108, 578, 42, 249], [579, 185, 382, 580, 23, 220, 221, 581, 582, 147, 85], [250, 583, 584, 123], [585, 586, 587, 588], [589, 590, 591, 592, 593, 585, 594], [62, 63, 595, 260], [596, 380, 597, 327, 322, 452, 598, 85, 361, 145, 252, 347, 348, 83, 372, 334], [599, 0], [412, 58, 30, 529, 147, 331, 123, 372, 147, 528, 10, 600, 297, 493, 218, 601], [602, 68, 603, 183, 0, 152, 253, 112, 273, 29, 61, 382, 496, 59], [604, 107, 295], [277, 108, 605, 606, 509, 102, 607, 329, 191, 360, 118, 608, 396, 322], [484, 70, 609, 252, 610, 85, 209, 611, 612, 51, 100, 131], [412, 49, 7, 613, 614, 615, 575, 616, 617, 618, 147, 292, 102, 619, 299, 620, 370, 152, 416, 621, 299, 62], [622, 622], [62], [623, 624, 394], [0, 287, 625, 626, 234, 627, 147, 7, 299, 187, 218, 321, 628, 629, 630, 631, 632, 110, 7, 84, 633, 634, 616, 617, 618, 619, 635, 313, 636, 637, 30, 382], [0, 145, 619, 618, 322, 31, 624, 638, 70, 108, 260, 639, 63], [166, 640, 641, 32], [250, 642, 195, 108, 643], [124, 644, 263], [190, 57, 212, 645], [443, 57, 266, 468, 252, 646], [277, 127, 285, 647, 109], [648, 415, 152, 649], [250, 218, 650, 421, 651, 652, 100, 30, 644], [545, 653, 183, 654, 655, 308, 656, 657, 382, 656, 545, 658, 237, 659, 195, 660], [661, 252], [662, 663, 660, 63, 664], [665, 237, 195, 666, 237], [190, 100, 191, 667, 668, 669, 191, 667, 670, 671, 191, 667, 672, 660, 63], [64, 88, 10, 673, 354], [356, 674, 675, 676, 677, 665, 678], [679, 680, 681, 681, 680, 682, 682, 415, 683, 444], [185, 644, 658], [665, 61, 166, 684, 252, 685, 686, 687, 281, 197, 218, 688, 629, 689, 690, 691, 216, 178, 666], [166, 684, 252, 692, 693, 694, 695, 250, 696, 697, 698, 699, 333, 347, 700], [166, 701, 702, 703, 166, 704, 705, 706, 250, 707, 252, 708, 709, 710, 711, 712], [545, 208, 216, 183, 383, 0, 51, 136, 509, 108, 185, 658, 64, 382, 713, 714, 252, 172, 127, 715, 716, 660], [297, 180, 197, 717], [255, 33, 28, 658, 718], [412, 22, 719, 225, 281, 495, 63], [64, 123, 61, 647], [720, 349, 112, 526, 178, 718, 721, 158, 258, 660, 63], [494, 0, 722, 723, 509, 270, 427, 160, 225], [55, 11, 724], [725, 183, 82, 686, 543, 100, 160, 147, 7, 252, 616, 617, 618, 260], [166, 726, 727], [23], [185, 542, 353], [144, 212, 108, 342, 728, 116, 729, 30, 730, 519, 85, 361, 125, 731, 732, 259, 116, 733, 619, 541, 634, 611, 70, 734, 731, 313, 479], [735, 230, 736, 737], [183, 0, 200, 570, 738, 722, 739, 229, 398, 205, 740, 372], [52, 741, 395, 252, 334, 351], [252, 334, 385, 252, 347, 348, 529, 344, 342, 195, 742, 297, 23, 383, 516, 88, 353, 88], [250, 743, 744], [725, 183, 216, 745, 746, 106, 107, 747], [748, 749, 750], [751, 349, 213, 752, 182, 753, 754, 382, 395, 755, 183], [0, 756, 549, 178, 757, 758, 759, 382, 560, 760, 398, 761, 762, 763, 753, 421, 764, 765, 766, 767, 324, 768, 769, 319, 755, 770], [356, 259, 33, 607, 509, 771, 598, 85, 361], [270, 494, 58], [183, 0, 772, 332, 398, 59], [64, 773, 774, 775, 509], [735, 776, 640, 483, 545], [356, 641, 640, 32], [596, 609, 777, 778, 607, 252, 59, 772, 779, 130, 349, 23, 185, 780, 781, 510, 353, 259, 33, 276, 746, 112], [176, 22, 23, 0, 559, 276], [782, 59, 57, 174, 783, 354, 784, 332], [26, 218, 785, 237, 59, 607], [11, 786, 785], [0, 23, 185, 208, 59, 787, 276, 88, 727, 483, 510, 89, 788, 789, 790, 276, 276, 276, 276, 276], [110, 785, 82, 228, 791, 71, 792, 147, 252, 51, 183, 15], [793, 794, 560, 23, 0, 795, 796, 276, 178, 797, 798], [388, 203, 799, 0, 800, 801, 308, 802, 133, 389], [26, 218, 803, 804, 805], [349, 806, 796, 807, 18], [110, 785, 502, 722, 808, 750, 71, 809, 810], [62, 811, 812], [494, 0, 611, 272, 305, 383, 813, 814], [72, 558, 112, 278], [815, 112, 278], [494, 785, 816, 817, 629], [176, 818, 112, 278], [162, 256, 183, 0, 819, 820, 821], [250, 822, 270, 30, 823, 264, 261, 57, 95, 245, 278, 30, 100], [144, 63, 824, 483, 0, 108, 396, 772, 825, 607, 826, 827, 828, 829, 830, 831, 832, 470, 214, 833, 483, 834, 680, 147, 835, 271, 660, 811, 812], [494, 0, 70, 785, 836, 287, 444, 185, 392, 837], [838, 783, 228], [838, 391], [494, 785, 839, 179, 695], [725, 42, 783, 840], [841, 842, 843, 844, 278, 845, 321, 846, 195], [847, 677, 60, 235], [391], [183, 0, 152, 416, 739, 840, 25], [848, 517, 849], [110, 785, 284, 0, 108, 850, 54, 214, 252, 851, 187, 172, 112, 823], [252, 376, 852, 853, 237, 660, 308, 854, 855, 654], [250, 856, 195, 857, 858, 811, 859, 659, 195, 266, 396, 860, 861, 237, 862, 863, 43, 864, 865], [866, 862, 867, 868, 660, 63], [494, 0, 869, 820, 272, 837], [388, 785, 786, 313, 637, 30, 382, 39, 72, 870, 607, 108], [26, 871, 872, 785, 63], [248, 178, 395, 783, 278, 849, 91, 112], [873, 785, 609, 315, 329, 772, 121, 395, 470, 72, 874, 875, 0, 23, 183, 321, 839, 629, 190, 876, 10, 877, 295, 799, 794, 878, 278, 849], [412, 361, 70, 382, 607, 45, 72, 879, 880, 881, 182, 882, 883, 884, 885, 194, 467, 886], [0, 366, 59, 887, 888, 772, 877], [5, 889], [890, 891, 892, 893], [579, 391, 640, 894, 888, 895, 14, 880, 896, 897, 881, 898, 899, 53, 900, 901, 902, 903], [110, 349, 285, 904, 10, 302, 905, 476, 71, 72, 73, 0, 398, 260, 906, 907, 549], [908, 72, 308, 909, 884, 910, 315, 911, 42, 61, 912, 185, 237, 913, 0, 42, 914, 24, 915, 916, 884, 917, 918, 295, 652, 183], [919, 910, 785, 71, 526, 920, 222, 871, 921, 204], [922, 259, 130, 302, 522], [579, 493, 102, 923, 785, 337], [0, 624, 51, 540, 924, 287, 545, 42, 274, 744, 925, 10, 302, 259], [926], [183, 785, 927, 247, 626], [928, 929, 483, 237], [930, 329, 631], [797, 798, 931, 733, 932, 933, 259, 934, 560, 935, 936, 65, 58, 937, 938, 939], [940, 941, 942, 943, 944], [945], [183, 884, 946], [811, 812], [183, 785, 947, 948, 949, 559], [815], [183, 884, 611], [23, 183, 785], [950], [940, 941, 942, 943, 944, 951, 170, 952, 953, 954, 955, 116, 956], [957, 958], [183, 882], [957, 959, 785, 960, 228, 961, 904, 237, 962], [237, 962, 29, 522, 398, 483, 183, 882, 501, 963, 964], [110, 285, 954, 398], [110, 785, 965, 285, 966, 108, 116, 956, 382, 967, 968, 969, 797, 970, 971], [797, 972, 349, 973], [277, 974, 975, 166, 45, 63], [976, 977, 0, 244], [725, 901, 297, 183, 0, 978, 820, 221, 302], [105, 754, 183, 883, 979, 980, 85, 981, 982, 983, 984, 985, 986, 987], [988, 560], [183, 885], [237, 989, 396, 308, 216, 990, 91], [250, 885, 991, 380, 992, 993, 880, 994, 995], [466, 125, 61, 183, 883, 837, 820, 489, 483, 10, 876, 302, 42, 890, 996], [466, 997, 890, 996], [183, 0, 935, 58, 237, 883, 998, 23, 999, 68, 559, 147, 258, 71, 1000, 61, 133], [169, 183, 883, 489, 59, 1001], [250, 273, 112, 665, 483, 1002, 32, 295, 883, 159], [128, 417, 996, 904, 196, 1003, 1004, 1005, 286, 183, 888, 1006, 370, 904], [54, 1007, 519, 340, 313, 218, 1008, 1009, 523, 1009, 1010, 237, 996], [356, 1008, 396, 1011, 72, 302, 883, 48, 871, 110, 996], [879, 329, 1012, 254, 277], [928, 285, 883, 30, 284, 24, 152, 570, 23, 493, 308, 70, 147, 436, 1013, 142, 1014, 1015, 439, 100, 1016, 20, 1017, 475, 1018], [919, 910, 883, 183, 1019, 185, 1020], [277, 573, 1020], [72, 1021, 1022, 1023], [169, 663, 904, 183, 883, 1024, 0, 147, 436, 887, 888, 879, 329, 1025, 1026, 59, 1027], [1027], [0, 213, 1028, 160, 292, 93, 1029, 511, 1030, 1031, 749, 750, 212, 1032, 329, 1020], [54, 1033, 147, 1034, 329], [277, 185, 1035, 237, 183, 785], [1036, 904, 883, 960, 1037], [466, 258, 212, 93], [108, 977, 0], [1038, 1039, 183, 0, 336], [1040, 183, 883], [1041, 879, 329, 883, 979, 1042, 1039, 281, 838, 811, 1043, 1044, 1039, 465, 1045, 1046, 1047], [0, 23, 887, 483, 1048, 82, 1049, 1050, 1051, 30, 57, 133, 61, 1052, 1053, 145, 1039, 894, 1054, 30], [110, 127, 483, 279, 1030, 1055, 1056, 1057, 102, 880, 1058, 30, 450, 353, 1059, 1060, 1061, 395], [356, 910, 493, 923, 1062, 785, 295, 777], [602, 1063, 295, 799, 237, 183, 0, 878, 1064, 1065, 396, 272, 42, 837], [1066, 308, 1067, 1068], [183, 785, 977, 0, 1069], [412, 997, 308, 695, 403, 183, 0, 894, 124, 785, 695, 1070, 1067], [250, 624, 664, 785, 787, 213, 1068, 777, 112], [1071, 183, 276, 735, 1072, 172, 190, 876, 382, 1073, 1074, 818, 495, 95, 1075, 838, 185, 1076, 388, 392, 645, 15], [1077, 276, 1078, 1079, 1076, 63, 1080, 709, 1081, 1082, 42, 1083, 1084], [1082, 1081, 1077, 1085, 916, 1071, 665, 887, 733, 1086, 1087], [602, 1088], [183, 785, 0, 507], [466, 650], [811, 812, 183, 0, 1089, 212, 1090, 1091, 57], [448], [494, 785, 497, 1092], [1093], [183, 0, 843, 626, 130, 863, 894, 540], [62, 677, 627, 1094], [64, 15, 196, 183, 785, 45, 291, 313], [602, 1095, 260, 595], [1096], [1097, 383, 0], [277, 1098, 837, 237], [110, 785, 1099, 1100], [238, 178, 395, 1101, 1102], [0, 871, 1103, 1104, 1021, 1105, 631], [785, 1106, 380, 1107, 335, 252, 1108], [466, 1109, 718], [1110, 884, 259, 72, 310, 916, 1111, 145, 201, 281, 1112, 648, 63], [190, 807, 88, 1113, 1114, 1115], [1116, 1117, 239], [183, 1118, 1111, 252, 1119], [602, 522, 665, 1120, 1121], [270, 261, 237], [183, 0, 184, 1122, 1123, 1124], [144, 259, 856, 395], [250, 261, 273, 1125, 234, 285], [183, 884], [0, 960, 850, 843, 626, 783, 1126, 261, 264], [250, 680, 147, 835, 271, 57], [250, 660, 270, 30, 100, 880], [169, 279, 252, 1127, 259, 123], [928, 1046, 1055, 56, 1128, 222, 888], [1129, 880, 83, 147, 916, 1130, 218, 1131, 1132, 1133, 392, 185, 45, 168, 263, 247, 1134, 1135], [1136, 871, 839, 629, 421, 495, 313, 568], [412, 361, 70, 1137], [699, 1138, 1139, 1140, 0, 259, 523, 724], [270, 1141, 261], [183, 978, 820], [1142, 702, 112, 545, 489, 264, 109], [62, 63, 261], [124, 64, 297, 100], [250, 383, 0, 218, 601, 287, 1143, 321, 1144], [105, 252, 474, 609, 252, 610, 1145, 209, 82, 850, 396, 397, 785, 644, 28, 131, 395, 1101, 1102], [5, 1146], [110, 7, 1147, 1148, 1149], [412, 49, 7, 620, 121, 395, 894, 540, 108, 312, 777, 609, 621, 110, 622], [110, 622], [62, 63, 831], [62, 898, 318], [144, 10, 1150, 545, 1151, 1151], [1152, 726, 634, 124], [0, 1153, 107, 894, 619, 575, 616, 617, 618, 200, 1154, 218, 1155, 1156, 89, 641, 71, 644, 1157, 1158, 607, 152, 322, 344, 342, 252, 334, 1159, 1160], [1161, 259, 7, 135, 0, 108, 1155, 871, 821, 820, 169, 1162, 1163, 1164], [1165, 168, 107, 856, 575, 618, 619], [1166], [250, 0, 58, 738, 52, 1167, 1168, 24, 332, 1001, 1169, 33], [866, 145, 1170, 183, 52], [166, 543, 1171], [277, 913, 95, 619, 618, 398], [725, 183, 299, 142, 1172, 252, 172, 334, 376, 1173, 1174, 235], [1175, 1176, 142], [144, 108, 24, 1177, 83, 1178, 152, 156, 1179, 969, 1180, 1162, 1163, 315, 172, 116, 619, 618], [166, 640, 702, 0, 183, 125, 1181, 90], [774, 261, 581, 1181, 127], [250, 218, 1182, 196, 483, 42, 126, 1183, 0], [495, 1184, 10, 626, 224], [1185, 500, 834], [277, 212, 100, 276, 10], [1038, 57, 0, 108, 677, 261, 1186, 172, 218, 1187, 223, 112], [1188, 70, 116, 59, 1189, 252, 1190, 342, 1191, 1192, 619, 519, 340, 1193, 346, 616, 617, 618, 145, 619, 575, 618, 125, 499, 1190, 528, 120, 142, 252, 402, 1194, 187, 894, 344], [54, 406, 70, 216, 407, 408, 1195, 1196, 160, 1197], [237, 1198, 1199, 545, 126, 183, 1200, 279, 442, 133, 100, 402], [265, 130, 534, 102, 392, 72, 11, 346, 252, 483], [412, 391, 58, 446, 1201, 1202, 396, 402, 116, 380, 1203, 1204, 1205, 1206, 404, 1207], [144, 611, 160, 402, 281, 735, 72, 522, 265, 534, 725, 10, 334, 270, 1202, 72, 58], [1208], [65, 270], [144, 108, 542, 542, 259, 1209, 1210, 106, 500, 170, 1190, 129, 1211, 529, 147, 1212, 334, 1213, 1214, 329, 380], [1215, 108, 542, 910, 1216, 160, 147, 1213, 1191, 147, 745, 1217, 183, 294, 1218, 538], [466, 776, 1219], [1220, 0, 252, 1221, 402, 1222, 1211, 1223, 367, 205, 903, 71, 196, 1224, 297, 45, 1190, 124, 287, 1225], [412, 58, 1226, 168, 23, 383, 0, 147, 843, 542, 367, 535, 1227, 271, 1228], [443, 270, 1229, 90, 103, 822, 822, 228, 467, 237, 196, 549], [124, 726, 389], [873, 666, 419, 1230, 1231, 1232, 571, 483, 88, 389, 337, 147], [54, 68, 18, 257, 68], [250, 534, 1233, 147, 1234, 1064, 869, 820, 1235, 1190, 534, 1236], [277, 23, 0, 64, 177, 10, 912], [735, 1237, 147, 59, 88, 916, 1238, 843, 197, 717], [62, 112, 415], [62, 1239, 0], [1240], [166, 717, 197], [169, 521, 1190, 818, 1190, 807, 1241], [250, 108, 1242, 349, 147, 331, 39, 72, 25, 479, 476, 609, 629, 1243, 1244, 204], [1162, 1163], [1162, 1163], [183, 629], [1245, 618, 107], [1041, 299, 252, 610, 85, 165], [0, 651, 7, 131, 123, 1246, 721, 1106, 172, 72, 1247, 192, 667, 102, 7, 1248, 272], [217, 7, 299, 334, 129, 355, 334, 365, 1249, 0, 1212, 1013, 637, 1250, 1251, 1252], [0, 609, 61, 1041, 382, 329, 10, 1191], [415, 23, 0, 394, 721, 1232, 609, 7, 1191, 48, 705, 292, 33, 1253, 247], [144, 10, 434, 133, 609, 252, 1254, 163, 1255, 1207, 344, 1256, 1257, 182, 1258, 1259, 777, 196], [1260, 299, 821, 629, 7, 1261], [1261], [1152], [250, 629, 88, 609, 1262], [1263, 1264, 1265, 1266], [1263, 1264, 391], [183, 7, 1092], [1267], [495, 627, 1268], [1269, 1207, 344], [294, 295, 1261, 1191], [1262, 1213, 1265, 1266], [866, 1270, 1271], [1272, 1213, 1273], [647, 297, 139, 147, 472], [169, 1274, 887, 1191], [1262, 1265, 1266, 1213], [162, 212, 1275, 354, 382, 95, 313], [54, 308, 1018, 0, 30, 60, 1276, 1262, 112, 1265, 1266], [248, 295, 1277], [910, 705, 292, 33, 106, 1253, 247], [928, 70, 1278, 252, 1279, 1280, 1207, 344], [466, 761, 1258, 1281, 185], [23, 0], [124, 127], [725, 1282, 1191, 270, 1283], [545, 572, 718, 320], [144, 475, 70, 24, 1284, 133, 910, 299, 1285, 252, 1286, 232, 200, 180, 1022, 260, 1287, 33, 216, 1152, 1288, 169, 508, 147, 1149, 212, 1149], [856, 1289, 1267, 160, 1290, 316, 255, 1291, 1290, 1287, 349, 487, 396, 361, 522, 822, 62], [29, 522, 1124, 1267, 1149], [274, 434, 1292, 1293, 327, 1294, 1295, 1296, 1297, 62, 131], [1298], [1299, 1255, 294, 412, 1149, 245, 647, 382, 1217, 1300], [818, 735, 1149, 382, 1267, 1149], [1301, 862, 382, 1217], [62], [26, 1149, 212, 178, 1217], [183, 0], [1302, 221, 160, 641, 142, 1149], [1149, 1303, 200, 570, 1304, 736, 545, 1305, 1306, 252], [144, 1307, 745, 565, 1217, 30, 475, 721, 609, 252, 813, 730, 196, 1308, 1309, 1217, 53, 281, 928, 1149, 502, 147, 1310, 1306, 475, 100, 42, 126, 127], [110, 349, 483, 609, 757, 1021, 54, 655, 1149], [7, 629, 370, 1311, 104], [1018, 106, 1057, 1022, 1116, 380, 1312, 847, 1313, 166, 916, 1314], [466, 389], [720, 876], [1315, 299, 252, 1316, 1317, 629, 735, 1149, 23, 0, 162, 521, 237, 255, 1318, 1319, 913, 570, 1320, 295, 237, 777, 1321, 112, 1322, 511, 655, 112, 1323, 1324], [26, 916, 1314], [183, 1103], [838, 185, 433, 172], [183, 7, 629, 0, 871, 1299, 30, 630], [551, 261], [54, 1325, 1018, 1326, 0, 23, 124, 776, 127], [630, 1327, 95, 327], [484, 500, 519, 218, 1328, 0, 609, 7, 61, 1329, 387], [1329, 958], [23, 0, 308, 1330, 127, 107, 1331, 252, 1332, 299, 1333, 1191, 1334, 470], [160, 1186, 183, 1335, 602, 913], [1336, 106, 1325, 1018], [0, 135, 1337, 1332, 977, 252, 1338, 1339, 1210, 376, 213, 299, 380], [630, 279, 147, 1338, 23, 545, 130, 1340, 739, 472, 486, 130, 367, 185, 130, 535, 774], [26, 1341, 147, 1338, 1342, 398, 218, 731, 1184], [725, 259, 353, 522, 10, 334, 52, 172, 116, 72, 1343, 252, 881, 880, 394, 1243], [110, 383, 252, 1344, 1149, 337, 1345, 519, 1346, 1347, 1348, 777, 402], [579, 33, 1349, 0, 107, 1350, 52, 637, 30, 259, 116, 1351, 1352, 1353], [110, 349, 483, 212, 183, 0, 1354, 1353, 534, 208, 472, 357, 483, 398, 59, 473, 372], [57, 489, 1355], [412, 689, 1356, 1355, 1330, 704, 1052, 1357, 1358, 1359, 213, 551, 1360, 540, 222, 1361, 252, 1310, 1362, 380, 33, 123, 152, 416], [1272, 1363, 1364, 894, 102, 329, 51, 1365, 1366, 147, 1367, 332, 1368], [599, 252, 483], [183, 0, 1369, 820, 129, 637, 1370, 1371, 738, 70, 23, 273, 1372, 754, 42, 174, 279, 1373, 1369], [1374, 915, 1375, 252, 304, 1376, 1345, 1364, 1377, 1364, 306, 247, 85, 1378, 363, 1379, 1376, 33, 990, 1380, 0, 1381, 319, 152, 1382, 1383, 1384, 107, 1350, 331, 1364, 33, 106, 1349, 1376, 1385, 380, 1386, 416, 10, 434, 0, 650, 112, 513, 716, 1387, 1388, 547, 333, 107, 1389, 85, 52, 329, 1382, 1364, 218, 1390, 1045, 1391, 1376, 1008, 252, 59, 1392, 70, 308, 59, 395, 1393, 1394, 721, 910, 493, 200, 59, 1012, 1117, 326, 1395, 152, 51, 396, 385], [928, 71, 0, 200, 201, 39, 737, 551, 52, 721, 72, 11, 1084, 721, 1364, 1362, 689, 72, 1396, 209], [250, 822, 63, 252, 1364], [183, 0, 1397, 1398, 1017, 1399, 147, 303, 1009, 1400, 1401, 58, 208, 472], [62, 63], [729, 441, 212, 534], [190, 100, 997, 159], [774, 68, 279, 442, 777, 152, 285], [110, 152, 285, 403], [0, 82, 329, 377, 1402, 1403, 100, 133, 82, 112, 208, 483, 279, 442, 1404], [54, 102, 1405, 542, 187, 1406, 82, 134, 319, 67, 273, 29, 123, 100, 171], [144, 1407, 1408, 17, 1409, 1405, 51, 1410, 1072, 102, 1411, 12, 171, 1412, 1413, 1414, 1415, 308, 1416, 1242, 1359, 965, 133, 258], [5, 1417, 1418], [110, 1418, 0, 82, 70, 1018, 910, 1418, 145, 1416, 1395, 1419, 1420, 35, 629], [647, 818], [183, 1418], [928, 1421, 561, 25], [0, 960, 228, 1422, 521, 237, 632, 1423, 1235, 237, 230, 212, 645, 57, 185, 644, 194, 667, 1157], [466, 1096], [183, 1418, 1424], [1425], [1001, 1426, 272, 632, 183, 0, 100], [100, 183, 1418], [272, 160, 1427, 0, 960, 948, 794, 387, 180, 646, 1428, 32, 1429], [412, 183, 1418], [162, 256, 116, 822, 183, 0, 1430, 1431, 32, 237, 1432, 57, 34, 252, 640], [815, 304, 183, 1418], [162, 256, 814, 1433, 646, 183, 0, 237, 42, 34, 640, 408], [602], [183, 1418, 1434], [647, 818], [173, 1435, 395, 9, 25], [0, 287, 252, 1436, 1418, 39, 55, 1045, 1437, 1307, 183, 1037, 57, 68, 295, 818, 349], [169], [183, 1418], [1267, 106, 664, 285, 0, 30, 57, 200, 1248, 1418, 71, 55, 426, 1438, 28, 315, 313], [495, 395], [1418, 871], [777, 927, 61], [928, 689, 1439, 403, 0, 315, 299, 395], [1440, 1115, 183, 1418], [1441], [183, 0, 1442, 1443, 29, 30], [255, 183, 1418], [0, 23, 273, 29, 1444, 15, 258, 256, 273, 295, 777, 43, 1284], [388, 476, 1445, 313, 24, 787, 910, 1446, 1412, 145, 1416, 1395, 183, 26, 57, 644], [272, 632, 183, 0, 266, 195, 666, 1383, 472, 469, 476, 1287], [1447, 266, 958, 195], [183, 1418], [162, 129, 61, 1448, 1449, 591, 1450, 1451, 1452, 299, 646], [0, 960, 978, 629], [1453, 818, 1164, 1454, 1455, 1456, 183, 1418], [0, 1413, 686, 218], [602, 916, 1457, 797, 1118, 1458, 183, 250, 654, 1219, 616, 250, 822, 1459, 1460, 380, 248, 57, 652, 208], [105, 1461, 1457, 797, 960, 1462, 1463, 273, 1464, 1465, 277, 1466, 545, 1467, 169], [602, 916, 183, 1461, 1141, 250, 1234, 1468, 1469, 1470, 315, 395, 1471, 334, 1472, 1248], [105, 1461, 183, 1473, 1106, 1474, 352, 624, 1475, 1476, 1188, 22, 1477, 147, 1478, 511, 1479, 1480, 1481], [602, 916, 183, 1461, 712, 1482, 388, 133, 1483, 1484, 1470, 465, 1273, 1485, 1486, 1472, 249], [105, 1461, 183, 1487, 145, 1073, 250, 1488, 754, 1489, 250, 1490, 1491, 502, 1492, 1493, 1494, 1017, 549], [602, 916, 183, 1461, 147, 42, 521, 774, 735, 528, 1495, 297, 1470, 1496, 1497, 179, 1498, 466, 33, 1499, 1500], [1240, 340, 1501, 522, 1077, 1487, 573, 1502], [248, 57, 204, 32, 1503], [1504, 1306, 165], [735, 183, 208, 183, 1418], [815, 1505, 208, 272, 183, 0, 1506, 216, 212, 1507], [412, 683, 9, 179, 183, 1418, 1508, 1018, 476], [110, 1418, 349, 559], [466, 472, 572], [1023], [62, 1124, 472, 0, 611, 960, 147, 112, 1509, 1510, 237], [1511, 237, 183, 1418], [0, 183, 15, 88, 58, 1512, 549, 287, 1513, 1115], [848, 1514], [183, 1418], [162, 112, 1450, 367, 632, 28, 183, 0, 340, 360, 1515, 1406], [412, 200, 1406, 391], [183, 1418, 1092, 1516, 1517, 244, 1033, 340, 360, 361], [277, 666], [1097, 383, 0, 1518, 820], [250, 23, 270, 886, 1098, 837], [602, 10, 666, 70, 183, 1418, 160, 1416, 1395, 218, 1415], [928, 70, 0, 475, 1519, 1520, 559], [105, 500, 519, 1418, 145, 1416, 1395, 1521, 16, 1106], [1041, 212, 1405, 1522, 313, 1403, 1523, 1133, 108, 1007, 331, 130, 534, 1524, 331, 130, 534, 1525], [1007, 331, 958], [110, 331, 958], [23, 0], [1036, 1405, 183, 1418, 1023, 184, 106, 107, 310], [0, 544, 894, 1526, 1405, 500, 332, 130, 519, 134, 1466, 329, 116, 1527, 285], [356, 910, 1407, 1412, 329, 565, 42, 382, 1528, 304, 1409, 292], [250], [183, 1529, 252, 208, 292, 304, 665, 1211, 127, 107, 287, 1530, 1531, 1532, 748, 597, 745], [144, 200, 570, 738, 722, 739, 287, 70, 312, 731, 732, 551, 552, 279, 304], [751, 748, 1013, 1533, 745, 521, 1190, 355, 1395, 910, 159, 1534, 1535, 1536, 304], [], [], [], [495, 380, 1537, 910], [183, 0, 820, 363, 644, 1538, 106, 107, 116, 384, 1156, 116, 30, 100, 82, 1539, 1540, 404, 71, 1541, 112, 1542, 753, 1543, 303, 1339, 565], [466, 726, 1543, 1503], [183, 0], [250, 1544, 384, 212], [250, 660, 383, 686, 100], [144, 1328, 244, 1545, 71, 1546, 345, 252, 1547, 222, 1548, 1543, 303], [725, 71, 1224, 45, 686, 380, 129, 10, 380, 1342, 398, 404, 42, 1091, 1098, 1167, 112, 1549], [144, 1550, 1551, 1552, 1553, 125, 1554, 222, 303, 116, 15, 1555, 1361, 1556, 1310, 1557, 33, 1558, 395, 416, 102, 1559, 1560, 470, 1561, 633, 1562], [1563], [1564, 1565], [448, 1549], [183, 0, 1566], [190, 724], [1563, 61], [1567, 1565, 1568, 820, 1064, 571, 1569, 129, 333, 59, 15, 702, 1134], [1235, 213, 260, 183, 0], [129, 1570, 1361, 129, 1571, 129, 1572, 1565, 108, 24, 1088, 1573], [54, 1574], [0, 1575, 23, 22, 281, 133, 721, 1565, 465], [725, 44, 522, 1576, 1577, 183, 1565, 185, 123, 1573, 263, 32], [169, 792, 1578, 340, 1579], [1580, 1581, 183, 0, 9, 100, 989], [250, 1582, 1583, 1584, 1353, 976, 1565, 1585, 629, 1254, 650, 1537, 910, 185, 1586, 178, 1587, 1323], [945, 1563], [277, 448, 1549, 295], [183, 0], [], [162], [958], [183, 1565], [100, 332, 1588, 777], [252, 253, 183, 0, 228, 1589, 510, 761, 1590, 1229, 32], [174, 1102, 391], [183, 1565, 820, 1591, 1592], [89, 200, 180, 252, 1593, 70, 88, 524, 404], [255], [602, 1549, 22, 1594], [774, 1595, 127, 88, 1596, 1597], [1544, 1596, 1577, 403, 183, 0, 1598, 516, 252, 1593, 279, 1577, 72, 58, 1573, 237], [990, 183, 1565, 571, 1549, 61], [928, 574, 213, 0, 72, 1599, 500, 519, 502, 1565, 201, 1600, 602, 894, 1577, 237, 415, 29, 522, 286, 37, 252, 253, 1549], [412, 1601, 200, 570, 408, 183, 0, 611, 894, 1577, 538, 572, 1602, 112, 1603], [162], [183, 1565, 911, 820, 1604, 1605], [0, 1606, 222, 1361, 29, 30, 404, 624, 45, 1607, 222, 1608, 333, 1186, 1609], [484, 510, 205, 1345, 1610, 1405, 686, 551, 552, 1132, 1611, 349, 147, 542, 283, 1524, 283, 1525, 1550, 1612, 643, 1406], [412, 308, 1157, 133, 187, 208, 472, 287, 72, 691, 349, 212, 666, 476, 218, 260, 643], [495, 396, 1355, 727], [166, 664, 1590], [88, 545, 125, 147, 500, 106], [356, 212, 395, 208, 472, 127, 483, 10, 1613, 372, 997, 727, 124], [725, 183, 299, 48, 142, 355, 1303, 252, 172, 191, 85, 361], [1614, 1615, 23, 0, 88, 178, 142, 1268, 472, 1616, 1617], [26, 218, 1611, 1618, 304, 1125, 382, 187, 172, 721, 1435, 598, 360, 361], [5, 1619], [1620, 1621], [388, 500, 519, 1194, 894, 172, 338, 127, 48, 1622, 1623, 299, 1008, 1353, 1624, 1622, 1623, 1625, 1626, 470, 42, 871, 1627, 1628, 1629, 334, 1630], [412, 365, 106, 1622, 1623, 329, 470, 102, 51, 112, 963, 1631, 0, 135, 1632, 654, 1214, 225], [144, 287, 467, 237, 1633, 252, 59, 1353, 204], [110, 1634, 1635, 218, 1636, 1213, 152, 1637, 729, 102, 1032, 281, 1054, 820, 388, 622], [1272, 1638, 1639, 716, 514], [110, 1640, 1635, 1567, 1054, 820, 1509, 1641, 216, 252, 1642, 1639], [1272, 1638, 622, 716, 514], [1041, 1053, 321, 1643, 212, 1607, 1287], [0, 1644, 58, 1384, 395, 1353, 156, 1284, 127, 17, 1634, 1635, 1229, 12, 1645, 187, 334, 1646, 1647, 1323], [0, 108, 1506, 334, 1648], [54, 196, 22, 1177, 183, 1635, 519, 1649], [128, 331, 334, 1650, 39, 1056, 1651, 147, 30, 486, 60], [250, 403, 1652, 1056, 125, 1653, 1654, 1655, 1656, 333, 152, 1255, 1657, 1658, 1207, 1610], [238, 183, 0, 10], [54, 273, 1327, 1177, 1635, 108, 24, 1088, 334, 876], [388, 1659, 1660, 273, 1661, 30, 677, 237], [866, 894, 1323, 70, 787, 0, 23, 1508, 1662], [277, 256, 627, 183, 51, 55, 729, 171, 380], [277, 354, 273, 284, 1501, 166, 10], [1567, 184], [64, 858, 1635, 1663, 721, 1664], [919, 107, 334, 172, 365, 102, 1174, 299, 1665, 111, 1635, 380, 1666, 1498, 1528, 1610, 147, 1361, 319], [127, 32, 1667, 1635, 976, 820, 1033, 15, 389], [166, 10], [1023, 0, 1668, 820], [1164, 10], [183, 1635], [735, 349, 285, 237], [412, 1330, 0, 112, 1669], [412, 392, 1670, 1671, 59, 886, 1672], [412, 522, 1673, 147, 1674], [110, 1635, 71, 57, 200, 201, 1675, 1676, 1677], [64, 858, 183, 1678, 1678], [277], [183, 0], [1679, 112, 183, 1635, 218, 1680], [62, 22, 260, 183, 0, 1681, 1466, 1682], [250, 365, 334, 108], [110, 334, 366, 208, 102, 1683, 1222, 1684, 147, 179, 622, 12, 340, 341, 1685, 337, 1686, 1687, 1688, 1689, 829, 1690, 102, 1691, 71, 1222, 1692], [54, 403, 58, 1693, 1692], [0, 183, 29, 30, 1656], [54, 403, 58, 247], [1694, 622, 1695, 1696, 1687, 1656, 1655, 1697, 24, 107, 1698], [110, 195, 1683, 1699, 1688, 102, 264, 12, 1700, 1701, 1702, 1702], [238, 42, 295, 183, 0, 252, 1506, 72, 545, 37, 200, 1703, 559, 349, 264, 1704, 112], [412, 1705, 264, 183, 622], [1620], [144, 183, 910, 233, 722, 1706, 0, 72, 306, 139, 106, 107, 1419, 1687, 145, 1707, 108], [237, 1705, 278, 843, 1708, 452, 237, 278, 1283, 703], [579, 183, 622, 1290], [237, 0, 183, 948, 468, 72, 1709, 212, 25], [602, 237, 58, 183, 622, 452], [0, 112, 820, 1676, 23, 42, 29, 1710, 840, 25], [1711, 332, 1712, 147, 1688, 145, 1691, 1692, 829, 551, 552, 1713, 641, 1653, 487, 622, 1687, 829, 1714, 299, 349, 505, 1331, 1715, 1716, 1717], [110, 622, 145, 965, 170, 1334, 1687, 1655, 58, 1718, 72, 393, 61, 37, 1719, 305], [62, 1720, 28], [494, 0, 1721, 1722, 1723], [62, 655, 1724, 1498, 1725, 102, 1726, 1727, 53, 729, 1728], [630, 1729, 1730, 1275, 622, 183, 690, 1731, 109, 42, 382, 329, 570, 1732], [173, 42, 448, 1733, 183, 0, 287, 229, 10, 201, 202, 252, 203], [596, 57, 552, 42, 130, 32, 263], [602, 100, 189, 1734, 673, 191, 1735, 1430, 329, 1736], [1737, 1738, 183, 622, 1739, 380], [0, 1740, 228, 540, 1688, 100, 1741, 95, 1742, 1688, 1743, 1690, 1692, 71, 231, 108, 1744, 191, 1735, 1305, 669], [], [62, 1745, 408, 183, 622, 88, 30, 1746, 1747], [250, 218, 1686, 516, 1748, 196, 1749, 1348, 1530, 1750, 179, 333, 1751], [988, 1752, 252, 1753, 250, 1754, 1755, 866, 1756, 1757, 661, 1758], [1759], [105, 1688, 1687, 1104], [1760], [1761], [1761], [1711, 622, 1762, 357, 1763, 1764, 624, 1765, 1687, 633, 383, 252, 483, 1766, 0, 30, 521, 60, 216], [559, 507, 1753, 1754, 1755, 388, 1767, 1768, 110, 1693, 1769], [1759], [1760], [1761], [1761], [1267], [1433, 834, 304, 112], [622, 183, 0, 1770, 1687, 244], [185, 382, 10, 626, 716, 514, 1639, 83, 1190], [110, 1688, 1771, 1772, 1773, 108, 1774], [0, 1775, 1687, 1358, 640, 1776, 252, 1777, 1345, 1412, 491, 584, 112, 1778, 1627, 23, 0], [110, 383, 252, 483, 1779, 112, 1780, 1781, 1775, 624, 1782, 1783, 479, 349, 500, 519, 58, 30, 434], [725, 259, 33, 1784, 59, 1686, 1785, 196, 1093, 1383, 1786, 434, 208, 1702, 523, 745, 1787, 1788, 1728, 355, 247], [1789, 95, 516, 313, 23, 0, 545, 1790, 32, 519, 1791, 499, 319], [144, 183, 910, 216, 1299, 252, 483, 1792, 1100, 523, 1656, 70], [847, 1793, 183, 0, 1784, 59, 1794], [110, 1687, 1792, 0, 82, 540, 470, 100, 286], [54, 30, 1330, 55, 1430, 1498, 58, 112, 1795, 1180, 1498, 1796, 51, 45, 1797, 353, 1687, 479, 0, 112, 123, 483], [277, 256, 1798, 23, 82, 51, 100, 509], [255, 509], [630, 125, 1430, 1799, 63, 183, 0, 1800, 15], [1295], [110, 383, 252, 483, 1801, 1792, 393, 61, 108, 1018], [0, 9, 57, 294, 1777, 10, 168], [1792, 633, 82, 470, 1538], [928, 70, 30, 1802, 1169, 1803, 1804, 1799, 287, 42, 72, 1048, 1805], [26, 551, 252, 1777, 287, 72, 1806, 100, 1807, 313, 1414, 1353], [630, 1234, 183, 42, 33, 1808, 1809, 516, 533, 228, 1810, 1799, 57], [250, 218, 650, 421, 651, 273, 29, 1347, 281, 147, 651, 208, 59, 739, 252, 1811, 1812, 1705, 1813, 12, 1814, 1584, 1815], [110, 1813, 1708, 139, 0], [412, 82, 200, 1816, 23, 205, 55, 308, 706, 152, 180, 1817, 287, 68, 1818, 1819], [1705, 1820, 218, 228, 1506, 237, 37, 42, 112, 235, 474, 1708, 252, 1821], [495, 1709, 565, 23, 0, 108], [176, 295, 631, 59, 68, 382], [735, 1822, 200, 570, 572, 10, 183, 1813], [58, 537, 183, 0], [1041, 286, 59, 382, 183, 1813], [308, 10, 1823, 0, 1064, 1824], [62, 545, 183, 1813, 224, 308, 522], [0, 287, 30, 1825, 129, 106, 285], [466, 196, 223, 713], [105, 415, 1167, 1813, 183, 1826, 208, 1367, 329, 1615, 1827, 415, 1167, 1826, 1367, 1615, 1828, 1829], [1830, 91, 112, 1831], [277, 572, 382, 222, 1831, 223, 0, 1663], [62, 627, 183, 1813, 1831], [1831], [602, 1831], [166, 237, 1831], [183, 0], [602, 185, 183, 1813, 178], [0, 57, 1251, 474, 108, 250, 237, 1831], [1832, 387, 183, 1813, 851, 1831], [602, 1833], [774, 183, 0], [162, 1813, 108, 100, 851, 1834, 821, 1835, 695, 1709], [294, 1731, 1709, 1836, 695, 821], [1837, 1831], [1070, 827, 1838, 183, 0], [1839, 112, 183, 1813], [248, 716, 514, 1639, 32], [112, 58, 183, 0, 1840, 822], [602, 100, 183, 1813, 1159], [0, 58, 543, 45, 666, 640, 195, 1841], [1711, 894, 1303, 48, 1350], [1188, 564, 1842, 1687], [183, 1813], [729, 441, 234], [412, 315, 1799, 0, 1414, 183, 178, 395, 73, 59], [23, 42, 183, 1813, 1159], [0, 475, 252, 396, 547, 100, 1843, 500, 519, 335, 1167, 1828, 1829, 183, 713], [89, 1844, 183, 1828, 1829, 58, 1199, 256, 1845, 1846, 1831, 1235, 1831, 1828], [725, 183, 82, 1813, 12, 1847, 1584], [949, 61, 1799, 1848], [183, 1813], [183, 1799, 960, 0, 270, 1383, 1849, 1850, 48, 130, 147, 72, 1851], [1852, 208, 183, 1813, 70, 1159, 72, 121, 9, 179, 695, 1853, 703, 544, 70, 1017, 1229], [162], [1510, 89, 264, 24, 703, 23, 0, 703, 24, 264], [412, 467, 483, 297, 139, 549], [144, 1229, 58, 1854, 299, 310, 172, 1828, 1829, 23, 185, 208, 172, 1855, 1776, 112, 317, 327, 1856, 898], [412, 102, 172, 112, 382, 779, 721, 1529, 1536, 304, 1405, 1857, 519, 85, 361, 170, 335, 1858, 228, 1506, 281, 1859, 1846, 1831], [443, 270, 1229, 100, 1827, 1860], [5, 1861], [1862, 1863, 1864], [54, 342, 551, 1584, 1865, 172, 1828, 1829, 1827, 269, 1866, 12, 1867, 1868, 519, 1869, 1870, 1871, 1872, 260, 380], [1161, 903, 1866, 23, 0, 1868, 774, 28], [110, 342, 102, 147, 340, 879, 1287, 147, 316, 255, 1190], [255, 1190], [494, 139, 0, 131], [54, 1873, 1190], [183, 0, 1566, 493, 102, 1213, 1874, 147, 179, 342], [1875, 1876, 1828, 1829, 183, 1421, 820], [0, 82, 329, 342, 15, 269], [100, 1876, 1663], [54, 183, 1828, 1829], [1041, 1877, 970, 183, 0, 1092], [412, 1877, 858, 24, 1840, 183, 1828, 1829], [237, 1114, 342, 183, 0, 1878, 152, 180, 340], [1879, 654, 1880, 1881, 183, 1827], [866, 894, 0, 70, 152, 97, 349, 1046], [602, 717, 130, 1882, 1437, 0, 183, 1883, 1884], [110, 1827, 365, 51, 1885, 1284, 1886, 169, 1887, 112, 1888, 1889], [495, 64, 1890], [23, 0], [229, 289, 254, 1891, 990, 730, 1064, 184], [248, 1096, 57, 398, 284], [183, 1828, 1829], [1892, 183, 0], [1041, 61, 1096, 1828, 1829, 108], [0, 611, 960, 1235, 1235, 1096, 61, 483, 237], [815, 483, 304], [183, 1827], [602, 273, 29, 61, 100, 279, 483, 279, 100], [602, 273, 29, 61, 1064, 1828, 1829, 112, 10, 483, 10, 112], [602, 273, 29, 61, 1064, 1866, 71, 260, 1578, 1893, 1578, 483, 1578, 1893], [412, 997, 483, 183, 1827, 25, 634, 888, 493, 1599, 500, 0, 23, 30, 266, 1894, 1888, 1895, 58], [110, 1827, 349, 1896, 1018], [466, 32, 1897], [183, 977, 0, 1582, 94, 93, 894, 1898, 1547, 333, 541, 1702], [0, 1624, 252, 183, 110, 1899], [1900, 1678, 683], [1110, 1827], [1669, 1901, 1134, 1902], [1064, 894, 1092, 1828, 1829], [412, 1903, 1901, 1828, 1829, 1904, 960], [1105, 1905, 185, 212, 29, 1827, 1906, 160, 1907, 438], [110, 1828, 1829, 145, 94, 82, 1908, 114, 1909, 269, 82, 30, 57, 15, 913, 61, 349, 1676, 412, 1903, 1901, 237], [0, 894, 1910, 97], [466, 220, 94], [1663], [412, 1911, 32, 1897, 295, 1912], [169], [1671, 1827], [1913, 1114, 94, 295, 1914], [1036, 904, 0, 960, 1915, 1916, 1914, 308, 70, 1287], [173, 754, 1917, 183, 1827], [0, 287, 1808, 1575], [110, 1827, 1676, 71, 196, 989, 822, 403, 560], [72, 794, 183, 948, 30], [110, 1866, 1868, 183, 1827, 1918, 252, 31, 269, 142, 1498], [110, 1866, 1106, 380, 1107, 183, 24, 561, 51, 1036, 904, 904, 125, 1676], [1875, 1153, 1919, 822], [1827, 183, 977, 0], [255, 573, 0, 960, 284], [1920, 213, 183, 1827], [1921, 183, 1828, 1829], [0, 1110, 1922], [57, 273, 777, 913, 70, 183, 1923, 254, 1891, 1924], [630, 651, 1925, 29, 183, 1827, 783, 1083, 959], [412, 1926], [237, 1096, 183, 0], [1036, 904], [1827, 183, 1765, 380, 1434], [1050, 61, 88, 170, 244, 1925], [793, 0, 1927, 960, 237, 1754, 70, 717, 1928], [648], [1929, 183, 1827], [866, 1460, 1561], [294, 624, 200, 1930, 443, 133, 1009, 1912], [388, 1659, 774, 598, 1912, 645, 70, 387, 197, 1065, 1742, 1925, 329, 655, 1912, 1931], [1932, 161, 147, 70, 859], [270, 1828, 1829, 183, 1065], [735, 42, 215, 403, 183, 0, 1526, 1372, 237], [815, 349, 256, 183, 1827, 30, 1383, 396, 161, 147, 308, 1009], [1441, 59, 818, 249], [0, 1023], [110, 1827, 1106, 380, 1933], [815], [960], [838, 1934, 910, 1828, 1935, 108, 1831, 237, 1024, 269, 1936, 1828, 1829, 152, 1937, 1938, 1639, 1939, 1940], [1941, 1942, 252, 275], [166, 124], [602, 237, 1764, 256], [609, 777, 112, 183, 0], [412, 655, 237, 1827, 976, 59], [1943, 109, 1944, 1945, 269, 1946, 1323], [1941, 1942], [1267, 1866, 1106, 218, 1748, 1578, 1941, 1942, 1942, 1942, 108, 308, 1947, 130, 1186], [162, 521, 465, 349, 1763, 183, 1827, 1639, 306, 1948, 866, 1949, 70], [1950, 380], [166, 1808, 623], [1951, 0], [250, 297, 1157, 1827, 108, 1952, 820, 483, 234], [412, 843, 670, 1912], [376, 213, 299, 0, 380], [1441, 1248, 180, 269, 195, 160], [1023], [1105, 183, 1827, 1953, 843, 269, 70, 70, 1954, 195, 1955], [1041, 1383, 1328, 329, 774], [183, 0], [1892, 183, 1827, 195, 10, 666], [277, 538, 178, 9], [0, 449, 234], [1859, 739, 840, 1828, 1829, 1956, 1957], [45, 11], [1958, 1118, 1959, 1911, 876, 1102], [272, 237, 147, 183, 0, 228, 1960, 1961], [1041, 1866, 64], [494], [1962, 1866], [250, 1963, 134], [110, 1866, 121, 365, 51], [1868, 183, 690, 1316, 629, 609, 333, 233, 1964, 281], [720, 876, 1102], [183, 1828, 1829], [1105, 631], [1097, 0], [250, 1965, 1064, 1827, 1868, 727], [1966, 142, 70, 340, 252, 1967, 1866, 218, 152, 416, 1968, 1969, 1970, 1971, 1972, 1973, 29], [466, 713], [183, 0, 843, 145, 152, 1974, 1501, 1975, 1976], [579, 1972, 1977, 183, 1866, 650, 500, 519], [579, 727, 237, 0, 710, 1663, 1978], [26, 183, 1866, 55, 1978], [0, 129, 245, 1652, 1979, 1980, 42, 112, 1575, 58, 108, 277, 713, 1973, 29], [1981, 269, 1828, 1829, 183, 0, 293], [15, 822, 0, 960, 837, 820, 95], [602, 1096, 95, 1982, 183, 1827, 1010, 95, 1983, 15], [1142, 1023, 1114, 1984, 183, 0], [647, 39, 1882, 1437], [1827, 1023, 1985], [0, 72, 237, 61, 1986, 269, 1907, 1901, 315, 1866, 1567, 285], [169, 713, 1973, 29], [110, 1866, 145, 500, 519, 57, 183, 412, 1977, 29], [54, 483], [0, 9, 1092, 1827, 1828, 1829, 108, 1987], [1988], [1866, 1989, 1663, 630, 1877, 913, 1101, 1102], [255, 631, 382], [0, 183, 1089, 1990], [1050, 61, 1433, 524], [1007, 391], [183, 1866, 1566], [356, 1991, 382], [250, 340, 252, 1967, 1992, 1558, 237], [466, 1558], [183, 0, 72, 1247, 1993], [1994, 183, 1866, 24, 27, 70], [572, 1995, 1909, 1956, 1827, 677, 981, 147, 1303], [866, 1140, 244, 1866, 505, 1828, 1829, 1140, 1866, 1303, 0, 228, 1996, 145, 1303, 1828, 1829], [110, 1827, 147, 212, 1733, 739, 0, 200, 570, 742, 1828, 1829, 1997, 268, 1998, 1174], [0, 270, 1999, 1866, 218, 1927, 277, 794], [1152, 1558, 1977], [602, 1558, 750, 750, 29, 183, 1827, 57, 30, 1558, 1977, 1977, 29, 2000, 36], [277, 2001, 29, 0, 183, 1866, 2002, 965, 910, 1676], [1036, 904, 183, 1866, 29], [928, 284, 1026, 383, 0, 677, 1866, 382, 70, 24, 2003], [579, 1992, 1558, 1866, 108, 1957, 2004, 51, 45, 35, 1307, 2005, 195, 641, 2006], [169], [183, 0], [169], [183, 1828, 1829], [0, 1599], [110, 1866, 2007, 51, 70, 125, 2008, 1963, 1827, 2009, 252, 1254, 108, 2006, 276, 2010, 2011, 2012, 2013, 237, 61, 195, 58, 2013, 297, 100, 483, 2014, 2013], [2015, 234, 183, 0, 58, 1026, 57], [1041, 783, 183, 1827], [928, 1034, 2016, 0, 30, 1294, 212, 152, 2017, 335, 1866, 120, 1868, 1326, 1803, 1103, 145, 1235, 965, 125, 199, 82, 395, 16, 396, 397, 42, 1070, 910, 70, 139, 332, 160, 1866, 2018], [919, 354, 88, 382, 2019], [183, 0, 1375, 59, 1353], [412, 2020, 269, 888, 297, 549], [596, 183, 135, 147, 1361, 334, 2021, 208], [735, 467], [23], [277, 641, 467, 2022], [57, 1433, 29, 382], [250, 108], [1966, 116, 308, 322, 53, 252, 344, 342], [294, 249, 913, 70, 183, 218, 1242, 252, 347, 348, 2023, 334, 366, 372], [1041, 108, 552, 1611, 1405, 624, 1034, 93, 721, 745, 361, 335, 252, 309, 2024, 116, 910, 1613, 372, 222, 376, 2025, 375, 378, 379], [5, 2026], [110, 1639, 2027, 2028], [102, 2029, 1584, 1194, 187, 2030, 372, 2031, 542, 616, 340, 2032, 1743, 2033, 431], [0, 23, 467, 483, 108, 779, 94, 299, 609, 147, 61, 2034, 2035], [847, 382, 778, 2036, 112], [627, 183, 2035, 911, 820, 2037, 2038, 1212], [699, 2037, 82, 183, 735, 208, 2035], [2039, 1339, 2040, 1103], [818, 913, 783], [183, 2035], [609, 1639, 61, 642, 2041, 2042], [466], [183, 147, 2043, 349], [735, 1467, 1114, 1275, 1900], [183, 2037], [1105, 997, 1275], [183, 2035, 295, 1612, 1688, 2044, 1570, 1860, 2045], [2037, 2046, 2047, 289, 162, 2048, 195, 528, 2049, 163, 142, 0, 1194, 2050, 2051, 48, 1103, 82, 329, 1796, 1053, 321], [176, 295, 183, 0, 252, 1506, 2033, 2031], [2035, 2037, 183, 15, 82, 1900], [1900, 218, 321, 629, 169, 452, 100, 1183, 68, 2052, 2029, 1584, 160, 616, 147, 1169, 1639, 398, 225, 435, 237], [26, 100, 1183, 489, 2053, 1321, 919, 107, 2035, 540, 894, 87, 372, 871, 110, 1639], [110, 1639], [340, 2032, 1326, 1771, 2054, 142, 2055], [54, 232, 180, 1145, 0, 82, 329, 2056, 100, 1639], [128, 299, 469, 2057, 2058, 2059, 1776, 112, 340, 2032, 2060, 2054, 686, 85, 2061, 127, 469, 2062, 2063, 2064, 335, 519, 519, 2057], [484, 299, 2065, 421, 469, 252, 568, 299, 1721, 2066, 370, 292, 292, 2067, 2063, 2068], [1260, 299, 2069, 2070, 2071, 2072, 222, 0, 2073, 49, 7, 260, 83, 478, 2005, 711, 641, 183, 108, 24, 2074], [1041, 505, 2075, 1939, 2058, 2076, 971, 2077, 2078, 1870, 910, 215, 2079, 299, 591, 2080, 2081, 2082, 78, 2083], [0, 228, 2084, 37, 68, 2085, 470, 112, 340, 2032, 30, 266, 297, 609, 2086, 2087, 2088, 42, 22, 2079, 23, 223, 2085, 142, 2055, 100], [26, 1194, 205, 475], [873, 2079, 299, 2089, 0, 1244, 82, 1639, 183, 507, 647], [144, 183, 2075, 1939, 1053, 2090, 1100], [2091], [183, 1639, 1765, 380, 1107, 977, 0, 108, 466, 235, 516], [2092, 235, 0, 631, 2093, 183, 0, 948, 1064, 169, 2094, 2095], [272], [250, 2096], [183, 1639, 1024, 340, 2032, 529, 329, 2097, 100, 529, 2055, 2098, 2099, 1017, 2094, 30, 295, 37, 2032, 2057, 2062, 340, 421], [166, 237], [183, 0, 543, 1707], [412, 1275, 1917], [110, 1639, 315, 2077, 2100, 2101, 107, 112, 424, 2102, 1564, 1950, 380], [1950], [2103], [183, 0, 1629, 1508, 1639, 1599], [110, 2076, 1878, 292, 142, 1213, 1506, 183, 2104, 63, 516], [110, 1639, 315, 1092, 313, 183, 2075, 2105], [110, 2075, 1132, 147, 745], [2106], [183, 1639, 816, 1299, 629, 340, 2032, 1326, 306, 218, 2107, 2076, 1639, 2065, 421, 1729, 258], [2108], [1564, 1639], [602, 130, 1851], [250, 977, 2029, 1584, 108, 466, 1544], [1845, 631, 2093, 183, 1900, 2109, 820, 125, 147, 2110, 244, 332], [100], [183, 1639, 2111, 2112, 2031], [1950, 225], [2079, 1140, 340, 2057, 2113, 319, 2114, 2115, 2032, 52, 0, 2116], [602, 2042], [183, 0, 160, 102, 2025, 2117, 1194, 187], [110, 340, 2057, 1354, 500, 519, 894, 1414, 2118, 1103], [848, 225], [1335, 1639], [2119, 225, 1229, 631, 2093], [2057, 1335, 1100], [735, 208], [1335, 1639], [1447, 716, 514], [110, 2057, 1599, 82, 0, 285, 2120, 1741], [1105], [1335, 0], [495], [2121, 1639, 0, 1104, 2079, 338, 58, 42, 126, 127], [412, 2122, 32], [183, 628, 629, 331], [144, 291, 49, 7, 2123, 540, 470], [1161, 183, 0, 622], [2124], [2124], [183, 7, 321, 83, 820], [866, 82, 540, 1910, 244, 1857, 142, 1408, 160, 1395, 53, 1702, 2125, 144, 806, 2126], [466], [183, 0], [949, 61, 466, 1109], [7, 1023], [255, 183, 0, 57, 1109], [183, 466], [144, 2127, 1639, 317, 7, 218], [0, 502, 252, 2128, 2129], [62, 2130], [7, 2125, 738, 820], [110, 1639, 60], [602, 100, 299, 228, 65, 1639, 183], [2106, 2131], [1335, 1639, 629, 2132, 223, 218, 1008, 584, 164, 474, 212, 1604, 500, 519, 513, 218], [0, 23, 88, 89, 467, 514, 1645, 549, 2133, 2134, 2135, 713, 2136, 2137, 713, 2138, 2057, 2139, 1460, 686, 85, 130, 2140], [110, 2141, 1358, 0, 116, 349, 2142, 2143, 1550, 45, 2144, 2145, 313, 2146, 522, 1213, 491, 326, 501, 212, 404, 828, 2147, 125, 573, 2148, 1531, 380, 427, 1785, 329, 123, 470, 1575, 2149, 30, 627, 2150, 2151, 212, 380, 125, 387, 2152, 398, 2148, 2153, 2154, 2155, 313, 2088, 501, 2156, 2157, 59, 759, 935, 2158, 2148, 2159, 2057, 843, 45, 291, 2160, 1645, 0, 259, 299, 758, 1527, 513, 391], [110, 2161, 2162, 24, 394, 2163, 2164, 2165, 2136, 1045, 70, 1639, 2166, 875, 108, 2167, 2168, 1950, 380], [1950, 380], [500], [0, 218, 34, 2169, 545, 822, 2170, 1639, 651, 273, 126, 500, 23, 42, 1219], [579, 1808, 517, 2171, 223, 152, 124, 147, 523, 2172], [144, 894, 59, 737, 338, 37, 30, 10, 313, 24, 89, 135, 467, 2173, 247, 1575, 58, 349, 2050, 500, 519, 33, 703, 183, 412, 1705, 1813, 64, 158, 783], [166, 45], [183, 1813, 259, 1395, 522, 559], [0, 475, 721, 51, 1350, 2174], [412, 22, 787, 23, 721, 317, 178, 1235, 147], [105, 106, 500, 887, 380, 1350, 0, 160, 2143, 218, 2175, 513, 468, 229, 2176, 204], [110, 1813, 71, 57, 522, 310, 1350], [57, 716, 2177, 0, 218, 228, 2178, 820, 2179, 1808, 147, 60, 2180, 559, 221, 399, 1124, 1235, 1123, 2181, 213, 1429, 195, 2172, 1659, 2182, 212, 382, 127, 291, 179, 1645, 2183, 1639, 2148, 52, 313, 139, 657, 131], [166, 112, 1639], [183, 1813, 321, 629], [815, 183, 0, 1797, 596, 135, 1639, 53, 319, 231, 108, 174, 2184, 521, 43, 2185, 513], [110, 1639, 2090, 148], [647, 1164, 260], [183, 2076, 125, 0, 894, 1813, 380, 152, 97], [412, 2186, 657, 1705, 1813, 183, 0, 914, 1710], [112, 123, 183, 2076, 474, 1433, 2187, 292, 2188], [228, 1813, 1663], [847, 2189, 183, 2076, 123, 112], [866, 212, 319, 0, 244], [264, 1433, 123, 2190, 183, 0], [419, 18, 266], [162, 185, 2191, 183, 2076, 1508, 871, 1639, 2192, 107, 2092, 63], [270, 42, 264, 2191], [110, 1639, 147, 59, 2193, 2194, 152, 353], [1950, 380], [183, 24, 170, 894, 329], [856, 2195, 183, 2076, 850, 83], [0, 23, 273, 29, 382, 395, 100, 513, 125, 609, 1639, 629, 209, 2196, 875], [144, 1718, 609, 806, 340, 2161, 1150, 1774, 2163, 112, 123, 195, 513, 1057, 88, 651, 37, 1430], [26, 108, 2197, 2148], [110, 2148, 2198, 2199, 106, 2148, 71, 0, 1356, 201, 2200, 147, 1358, 2143, 1229, 87, 331, 372, 0, 30, 100, 332, 2201, 196, 59, 1944, 1584], [1188, 70, 1775, 2143, 1435, 395, 2199, 2136, 310, 286, 58, 23, 0, 2140, 1229, 331, 1645], [26, 2145, 313, 1213, 273, 737, 108, 395, 252, 25, 2186], [873, 212, 395, 1705, 1813, 543, 398, 72, 102, 1343, 2202, 329, 2170, 125, 2195, 2076, 1639, 260, 1017, 72, 1599, 82, 903], [110, 107, 0, 1350, 2203, 340, 2204, 285, 1567, 2205, 199, 244, 116, 637, 391, 130, 1033, 183], [110, 2195, 909, 435, 380, 2206, 2144, 435, 88, 483, 125, 387, 2207, 70, 549], [110, 2076, 909, 133, 380, 30, 2042, 783, 595], [110, 1639, 909, 777, 727, 1804, 70, 1729, 1150, 329], [412, 910, 1676, 33, 887, 888, 123, 1049, 2208], [0, 30, 57, 15, 258, 61, 412, 860, 622, 913, 234, 2209], [144, 2210, 1639, 183, 2195, 856], [250, 2195, 108, 112, 2211], [110, 1813, 380, 218, 2212, 313, 107, 1229, 70, 178, 395, 622, 2213, 2214, 2076, 2195, 52, 2215, 894, 1017, 888, 108, 395, 513], [5, 2216], [110, 2217, 2218, 2219], [602, 57, 229, 100, 63, 916, 483], [183, 622, 2145, 1213, 2220, 0, 335, 1287], [0, 229, 398, 2221, 1115, 23, 256, 1693, 33, 623, 1072, 1683], [873, 622, 183, 2222, 820, 199, 1693, 1683, 2223, 2224], [2225, 29, 24, 2226, 843, 1693, 533, 223, 31, 2227, 108, 58, 1709, 116, 574, 571, 2086, 2228, 533, 2229, 2230, 533, 2231, 2232, 2233, 195, 130, 421, 2234, 2227], [270, 223, 651, 2235, 237], [144, 72, 441, 622, 70, 252, 1811, 609, 629, 53, 1702], [602, 650, 777, 63, 533, 2236, 783], [295, 2237, 64, 266, 304], [793, 147, 0, 449, 1676], [2238, 2239, 516], [183, 622], [782, 212, 2237, 398], [250, 2240, 2241, 0, 331, 244], [0, 58, 112, 2242, 53, 349, 622, 55, 1809, 1650, 1033, 208, 1406, 1017, 748, 142, 0, 1910, 2243, 1310, 748], [356, 112, 1884, 2244, 29, 30], [110, 513, 125, 228, 913, 183, 59, 2242, 25, 252], [2245, 183, 622, 2237, 62, 2246, 2247, 2246, 2247, 533, 109, 382, 329], [2248, 183, 0, 2125, 727, 1729, 2249, 1275], [648, 29], [412, 962, 58, 483, 183, 622, 764, 1310, 252, 748, 0, 1910, 1064, 2237, 415, 1981, 537, 1327, 1280, 95, 537], [166, 517, 451, 2250, 195], [0, 23], [1050, 61, 338, 160, 1213, 329, 2251, 622, 183, 1698, 1248, 2084, 1115, 2143], [2252, 665, 2253], [1935, 273, 2254, 0, 1927, 960, 468, 2208, 2253, 129], [1161, 175, 183, 622, 2138, 2255, 2254], [250, 2237, 2256, 2257, 2258, 1287], [1038, 2255, 1127, 0, 1663], [2259, 643, 183, 622, 800, 59, 719, 195], [412, 2260, 1305, 183, 0], [1036, 904, 183, 622, 71, 626, 2261, 641, 0, 183, 102, 2255, 657, 187], [250, 2237, 110, 657, 1804], [62, 237], [1951, 0, 2262, 910, 1676, 2263], [412, 123, 112, 147], [72, 2261, 183, 622, 2237, 1504, 42, 221, 112, 160, 1052, 2264, 2265, 1625, 273, 1843, 1103, 273, 1625, 42, 1350, 1625], [57, 794, 913, 0, 183, 948, 257, 72, 1546, 61], [735, 15, 30, 61, 1520, 622, 960, 1709, 820], [1472, 44, 61, 320, 183, 0], [62, 783, 44], [183, 622], [130, 1423, 641, 183, 822], [2266, 196, 1423], [23, 0], [229, 573, 2267, 582, 112], [277, 1125, 61, 1299], [2268], [622, 1023, 106, 2269, 1310, 252, 748], [208, 57, 183, 0, 497, 9, 34, 252, 2270], [596, 58, 208, 183, 622, 1347, 1944], [277, 0, 152, 1337, 622, 629, 2271, 313, 170, 337, 2272, 233, 2237, 1213, 2273, 218, 2274], [0, 82, 1194, 1639, 1865, 1412, 1413, 947, 112, 2275], [2122, 32, 2093], [622, 218, 321, 1482, 629], [294, 573, 2276, 2277, 1335, 1639, 2167, 1645, 244, 91, 380, 185, 396, 70], [1981, 2278], [110, 622, 145, 2278, 1229, 107], [190, 382, 513, 1639, 183, 0, 0, 58, 738, 61, 233, 121, 505, 395, 514, 1645], [110, 2069, 1582, 1733, 1639, 2279, 1871, 2280, 474, 107, 139, 83, 395, 513, 1639, 1523, 1133, 107, 2281, 42, 2282, 1615], [1852, 70, 515, 1639, 88, 523, 2164, 2161, 2168, 1950, 380], [1950, 380], [2283, 2284, 1582, 2285, 2057, 904, 499, 2140, 179, 396, 1011, 2140, 523, 2161, 345, 2076, 1639, 0, 2285, 806, 2126], [1041, 1639, 523, 72, 1084, 183, 0, 1875, 89, 2217, 2218, 822], [255, 183, 0], [170, 237, 2217, 2218], [412, 483, 2217, 2218, 2225, 33, 183, 1639], [88, 139, 147, 609, 147, 183, 0], [495, 183, 1639, 64, 295, 799], [725, 335, 1287, 0, 609, 2076, 61, 321, 629, 2286, 501, 602, 2287], [495, 415, 200, 483], [183, 287, 72, 1225, 761, 2288, 1639, 1227], [579, 259, 299, 142, 2289, 529, 1867, 1868, 2290], [1789, 237, 2289, 123, 2291], [1943, 2292, 483], [183, 1639, 95, 1118, 1959, 100, 2217, 2218, 60, 799], [185, 382, 395, 100, 2288, 1227, 335, 2293, 0, 724, 2289], [0, 72, 112, 123, 1777, 887, 23, 42, 72, 1351, 718, 382, 623, 1639, 475], [110, 2289, 493, 2294, 51, 2295, 1639, 721, 310, 2296], [466, 1890], [183, 2289, 396, 396, 0], [466, 997, 1890], [183, 0], [169, 663, 183, 2289], [412, 245, 88, 2297, 1123, 237], [495], [2298, 862, 178], [23, 0, 108, 121, 88, 1227, 549, 88], [579, 1229, 565, 139, 2217, 2218, 209, 12, 1067, 1143, 252, 2299, 2300, 299, 779, 0, 30, 60, 1069, 2301, 42, 1896], [144, 2302, 437], [466, 2303], [1023, 2289, 2289, 1240, 729, 216, 412, 245, 212, 2303, 237], [495], [26, 108, 2217, 2218, 82, 102, 51, 1222, 509, 183, 15], [928, 1118, 1959, 183, 2289, 1880, 237, 799], [295, 183, 2217, 2218, 118, 2304, 820, 858, 559, 233, 721, 465], [26, 493, 1123, 244, 476], [0, 23, 100, 2305, 1101, 387], [277, 475, 1519], [1966, 183, 2217, 2218, 910, 118, 1953, 1180, 2218], [2306, 216, 505, 308, 1018, 1207, 2307, 2308, 2309], [2289, 1654, 2310, 1798, 2217, 2218], [0, 729, 45, 281, 2311, 632, 1199, 1102, 30, 627, 650, 2312, 178, 493, 205, 183, 15], [873, 252, 2217, 2218, 108, 910, 2313, 199, 205, 1798, 252, 108, 2314, 753], [110, 1301, 916, 2218, 666, 1070, 2315], [169, 1070, 2315, 147], [0, 1023], [838, 871, 2315, 430, 876, 183, 2217, 2218, 1092, 392, 548], [602, 68, 603, 254, 428, 285, 1064, 2289, 493, 1599, 82, 383, 0, 287, 626, 2316, 189], [919, 910, 2289, 183, 2217, 2218, 2317, 916, 1314], [847, 32], [108, 216], [1105, 108, 2314, 753, 199, 2318, 990], [88, 183], [1956, 0], [602, 183, 2217, 2218], [1116, 1117], [1064, 2289, 0, 30, 559], [110, 2217, 2218, 108], [838, 489, 2319, 452, 108, 2314, 333, 32], [2320, 32, 2314, 183, 0, 2321], [709, 2322], [1023, 2217, 2218, 252, 540], [1105, 183, 0, 2323, 796, 1928], [250, 832], [183, 2217, 2218], [2324], [183, 0, 1566], [648], [392, 200, 2314, 183, 2217, 2218, 820, 152, 2325], [294, 2326, 179, 2327, 796, 1928, 2081, 2328, 2329], [602, 935, 58, 183, 0, 1980, 1973, 753], [2330, 717], [183, 2217, 2218, 1953], [145, 2331, 904], [466], [2332, 0], [2333, 2334, 904, 387, 2217, 2218, 960, 646, 1608, 2335, 2336, 2337, 2338, 2339], [88, 609, 2338, 0, 449, 61], [466], [110, 2289, 2340, 831, 1337], [466], [2264, 609, 2341], [1951], [602, 237, 2342, 774], [1105, 183, 0, 1589, 962, 130, 133, 2343], [162, 2289, 108, 237, 2344, 1164, 2345], [0, 34, 2346, 234, 1501, 315, 2217, 2218, 183, 466, 258, 717], [162, 2347, 2217, 2218, 960, 2348, 2349, 2350, 2347, 2351, 2352, 2353, 2354, 2354, 1301, 916, 2355, 1497, 666, 178, 2356, 1935, 430, 876, 2354, 2357, 2358, 2359], [466, 415, 112], [183, 0], [162, 823, 2217, 2218, 183, 2360], [250, 2289, 88, 193], [2361, 70, 183, 2289, 108, 2362, 1301, 199], [866, 916, 2363, 1935], [88, 108, 2217, 2218, 183, 1953, 430, 2364, 2365, 666, 61], [26, 183, 2289, 1069, 1430, 886, 2366, 2055, 831], [250, 180, 1735, 32, 197], [183, 0, 416, 739, 840], [2367, 1735, 349, 32, 183, 2217, 2218, 598, 127], [466, 467, 1355], [1951, 0], [735, 1248, 871, 197, 2289, 1663, 2368, 32, 32], [928, 72, 574, 213, 0, 23, 252, 33, 127, 1676], [1041, 2369, 32, 185, 2370], [1036, 904, 183, 2217, 2218], [250, 249, 2371], [0, 108, 850], [735, 522, 197, 2289, 1956, 485, 820, 295, 777, 2372], [5], [110, 2373, 2374], [110, 2217, 2218, 1110, 437, 1307, 395, 147, 2375, 87, 51], [866, 82, 0, 129, 559, 500, 519, 2376, 1060, 629], [2377, 2378, 1135, 183, 2289, 551, 552, 1547, 2379, 395], [919, 910, 2217, 2218, 2380, 629, 509, 1008, 2381, 108], [602, 1433, 1972, 58, 753, 183, 0, 256, 88, 170, 2382, 2383, 0, 218, 61, 1596, 2051, 611, 183, 255, 88, 213, 2384, 483, 2373, 2374], [255, 391, 183, 0], [466, 196, 2385], [169, 183, 2289, 349, 2386, 1751, 370, 753, 877], [1900, 2387], [494, 2217, 2218], [2388, 2389, 2390, 2391, 2392, 1627, 59], [415, 501, 1734, 70, 1956, 2289], [2393, 16], [2394, 2383, 2395], [494, 2289], [1036, 904, 2217, 2218, 183, 2393, 16, 551, 2396], [739, 2397, 2398, 1641, 976, 2289], [1041, 237, 2217, 2218, 108, 857], [110, 2397], [1335, 2289, 2399, 247], [565, 753], [2400], [1564, 2289], [2105, 1471, 753], [494, 2217, 2218, 2401, 2215], [2402, 2397], [2403, 2289, 171, 629], [2404, 2405, 349, 2406, 183, 2217, 2218, 48, 2407, 629, 519, 886, 1721, 112, 1831, 195, 70, 493, 336, 1414, 82, 0], [412, 185, 2408, 2385, 183, 0, 1506], [176, 112, 100, 252], [183, 2217, 2218], [1161, 58, 391, 183, 0], [495, 677, 665, 349, 2406], [183, 2217, 2218, 2289], [838, 24, 2397, 237], [173, 64, 1940], [62, 818, 1940, 183, 2289], [441, 216], [26, 218, 979, 2409, 329, 329, 0, 333, 2410, 2411, 148, 53, 1826, 2412, 2413, 70, 2217, 2218, 1762, 121, 336], [1293, 224, 252, 1732], [183, 2414, 2415], [54, 2416, 53, 319, 876, 2410, 695], [2417, 850, 2397, 2389, 2393], [579, 394, 2418, 178, 2419, 2385], [1293, 2419, 2385], [1293, 2419, 2385], [602, 392, 801, 2384, 873, 95, 876, 857, 876, 2397, 753], [277, 2415, 960, 2420, 565, 565], [502, 123, 2421, 1077, 2422, 2414, 2423, 42, 2419, 2385], [176, 30, 42, 30, 42, 2419, 2385], [176, 30, 42, 30, 30, 2419, 2385], [466, 1601, 565, 382], [2424, 2186, 960], [54, 106, 877, 237, 142, 331], [110, 2425, 779, 2426, 1041, 1430, 874, 2427, 2415, 178, 2419, 2385], [1293, 2419, 2385], [1293, 2419, 2385], [2311, 1199, 2385, 94, 183, 0, 468, 229, 910, 112, 467, 1764, 2414], [62, 2414, 183, 2217, 2218, 89, 904], [1105, 183, 0, 1510, 89, 2428, 2051, 611], [237, 2429, 1433, 183, 2217, 2218, 89, 1510, 904, 237, 112], [990, 0, 960, 1526], [579, 2430, 2431, 1905], [602, 683, 1905, 183, 2217, 2218, 1905, 42, 1954, 753], [277, 1544, 2430, 2431, 1248, 2217, 2218, 1521, 385, 51, 720, 1248, 183, 2289], [110, 1248, 183, 2289, 427, 382, 2397, 2385], [26, 212, 2432, 753], [26, 163, 308, 59], [26, 212, 2430, 1867, 2431], [26, 10], [735], [2311, 183, 0, 1199], [88, 651, 58, 2414], [295, 112, 183, 2289], [248, 237, 871, 2414], [88, 23, 183, 0], [169], [959, 2433, 591, 2434, 2081, 2435], [2289, 960, 979], [0, 1767, 1575], [1913, 576, 566], [1567, 338, 820], [169, 1114, 566, 727], [183, 2289], [1096, 533, 2436], [0, 82, 1624, 252, 502, 284], [579, 727, 2437, 990], [2438, 566, 753, 2289, 108, 118, 629, 727, 2414], [294, 237], [250, 33], [0, 1023, 820, 152, 97], [2439, 2440, 904, 2289, 960, 228, 1107, 2441, 30, 1669], [630, 2414, 183, 0, 931, 2442, 205, 1008, 1764, 183, 2416, 1440, 395, 631, 572, 818, 876], [579, 2443, 2217, 2218, 183, 414, 1627, 42, 382, 2444, 24, 2416], [2445, 392], [183, 0, 820, 152, 1337], [1036, 904, 183, 2217, 2218, 1627, 299, 408, 1669, 125, 2446, 61, 709, 2416], [847, 1096, 2447], [183, 0], [1096, 61, 2217, 2218, 960, 837, 820], [250, 2289, 1064, 495, 677, 60, 1114, 2448], [30, 295, 2448, 9, 645, 183, 0, 252, 1506, 22, 125, 395, 642, 646, 526], [1425, 183, 2217, 2218], [255], [110, 2448, 349, 183, 2289, 2449, 820, 2450, 95, 1670, 70], [26, 0, 218, 1595, 2448, 70, 349, 139, 49, 7], [144, 252, 478, 349, 519, 886, 212, 53, 147, 331, 365, 51, 2431, 55, 1885, 2451, 1707, 108], [751, 2452, 1466, 824, 721, 212, 2453, 1675, 818, 1164, 1454, 1455, 1456, 1418, 216, 131, 646, 2217, 2218, 1307, 308, 1084, 183, 735, 467], [412, 467, 183, 2289], [412, 299, 646], [2217, 2218, 1567, 1526], [112, 60, 665, 688, 777], [720, 387], [866, 82, 2289, 23, 571, 920, 0], [2454, 688, 2455, 591, 2456, 78, 591, 2457, 183, 2289], [166, 886, 1641, 147, 130, 147, 688, 197], [23, 0, 273, 29, 2314], [356, 212, 218, 688, 380, 1222, 2373, 2374, 521, 651, 281, 216, 299, 640, 391], [2245, 629, 2373, 609, 743, 602, 2458, 855, 185, 2233, 654], [725, 2459, 2460, 1498, 2461, 2462, 2463, 2163, 2411], [447, 2464, 976, 2465, 873, 2466, 302, 2467, 2468, 250, 783, 2469, 2470, 2471, 277, 2472, 2473, 2474, 2475, 2476, 629, 628, 2477, 232], [735, 646, 666, 61, 516, 183, 2289], [162, 88, 609, 183, 2217, 2218, 1280, 2478, 595], [0, 183, 15, 493, 470, 686, 338, 133, 42, 2479, 126, 73, 59], [112, 2480, 183, 2217, 2218], [144, 1001, 183, 2289, 611], [2481, 127, 1763], [277, 2411], [2217, 2218, 2482], [166, 1283, 1430, 1498, 237], [412, 349, 1015, 2409], [0, 183, 1808, 1575, 887, 483, 373, 739, 840], [2481, 127, 1763, 2289, 1567, 1107, 2006, 148, 372], [0, 1050, 2483, 199, 287, 545, 42, 178, 683, 108, 839, 629], [148, 372, 417, 147, 528, 166, 2484, 2485, 2486, 2487], [447, 2464, 976, 2465, 110, 2485, 145, 2487, 2488, 2489, 2490, 1711, 2484, 1657, 2491, 2492], [873, 2487, 465, 2484, 2493, 2494, 2423, 2495, 93, 1936, 1711, 2485, 2496, 438, 2497, 1731, 250, 1256, 2498], [466, 997, 22, 1675, 1503, 2217, 2218, 1956, 1001, 382], [412, 565, 1429, 483, 297, 609], [1105, 57, 913, 499, 183, 2289, 0, 229], [2252, 665, 106, 2406, 2373, 2374], [2289, 108], [2499, 42, 112, 2217, 2218, 1940, 1764], [62, 1764, 631, 2217, 2218, 42, 571, 0, 960, 850, 2289, 183, 228, 837, 820, 2500], [255, 2501, 2502], [2503, 2218, 2225, 916, 1314], [110, 2217, 2218, 1110, 437, 218, 629, 283, 1060, 2376, 1940], [2504, 2225, 2505, 1543, 2506, 31, 2507], [647, 2508, 42, 1205], [2225, 2509, 1613, 2225], [2225, 2509, 1613, 2225], [2510, 2511, 2512, 2513], [2510, 2511, 2512, 2513], [2512, 2513, 2509, 2504, 1613, 2225], [2504, 2225], [647, 2514, 1627, 2515, 1657], [647, 42, 573, 258, 519, 2516, 1613, 2225], [2516, 1613, 2225], [2510, 2511, 2512, 2513], [2510, 2511, 2512, 2513], [2512, 2513, 2509, 2504, 2517, 2518, 2519], [2520], [494, 2289, 2217, 2218, 289, 688, 601, 110, 1076, 9], [609, 209], [495], [494, 2289, 1242, 0, 292, 83, 24, 394, 179, 1764], [466, 1076], [0, 2521, 52, 2289, 1240, 495], [52, 1732, 2522, 299, 1728, 2523, 505, 978, 216], [2512, 2513, 2509, 2504, 1613, 2225], [5, 2524], [647, 2525, 2526], [110, 2076, 1639, 1939, 2527, 2528, 2529, 152, 1343, 895, 659, 252, 880, 425, 29, 887, 2094, 2095, 2075, 2530, 2531, 2532, 331, 2533, 187, 2076, 49, 7, 2534, 147, 292, 2535, 2536], [105, 337, 2537, 342, 102, 1657, 2538, 142, 82, 200, 33, 0, 72, 1372, 123, 270, 10, 1076, 727, 23, 292, 329, 2539], [277, 71, 1224, 218, 894, 641, 2540, 313, 70], [0, 88, 2537, 2541, 419, 1241, 72, 1709, 398, 651, 235, 729, 641], [735, 1082, 183, 152, 2542], [110, 1082, 59, 2076, 2543, 971, 2542, 123, 2544, 572, 100, 123, 2545, 403, 2546], [250, 1081, 511, 23, 0, 669, 886, 2443, 61, 886, 100, 881, 880, 774, 2547], [144, 183, 910, 233, 519, 340, 667, 228, 2321, 23, 2548, 252, 1593, 652, 651, 989], [356, 1081, 2549, 42, 727, 29], [110, 669, 2547, 1888, 1743, 2550], [466], [0, 2125, 2289], [579, 133, 160, 822, 1076, 289], [579, 719, 1968, 2289, 2125, 1100, 156, 2236, 179, 1076], [2551, 195], [0, 218, 1299, 2552, 629, 1244, 611, 49, 7, 494, 930, 2537], [2076, 160, 2553, 82, 540, 329, 130, 260], [0, 30, 100, 29, 894, 384, 2547, 1888, 36, 195], [2550, 30, 170, 130, 147, 237, 2554, 36, 234, 2555, 295], [214, 2556, 2550, 1076], [23, 0], [1007, 2547, 2557, 2558], [928, 904, 0, 30, 1460, 108, 329, 2537, 212, 319, 259, 116, 201, 1242, 313], [144, 2559, 383, 252, 2560, 1149, 1344, 30, 130, 1219, 1155, 2443, 1233, 147, 436, 1017, 32, 252, 22, 523, 2413, 1297], [2561, 419, 2562], [183, 2076], [699, 49, 7, 2563, 340, 2564, 2534, 2153, 2536, 2535, 419, 2465], [110, 1639, 1939, 33, 2538, 1852, 2565, 32, 110, 2075, 1939, 2566, 2538, 250, 145, 72, 313], [2104, 2567, 2076, 183, 1081], [815, 822, 822], [7, 611, 1956], [54, 152, 570, 178], [1839, 349, 2568, 183, 2076, 49, 7, 2563, 340, 2564, 2534, 871, 128, 2568], [110, 349, 2568, 1827], [866, 299, 2569, 147, 292, 1034, 1907, 1901], [811, 812, 2093, 218, 1612, 72, 465, 269, 2570], [602, 68, 465, 183, 2076], [873, 387], [110, 1827, 82, 1828, 1829, 505, 2537, 1213, 1213, 1866], [2571, 1828, 57, 183], [2572, 183, 1828, 1829], [2573, 1064, 1866], [2574, 2076, 183, 1081, 1081, 850, 2575, 340, 2576, 2550, 1064, 2577, 284, 2578, 2579], [1981, 2580, 2076, 183, 1827], [412, 657, 183, 1827], [2581], [2076, 1951, 977, 1081, 1326, 33, 2582, 452], [1383, 1480, 1827, 1064, 1824, 1467], [2583], [1267, 1639, 160, 2553, 218, 1646, 1827, 315, 874, 2584], [2585, 2586, 183, 2076, 478, 1150, 2587], [928, 221, 2588, 2568, 624, 2589, 147, 745, 894, 1898, 1639, 1057, 304, 102, 1034, 2569, 1860, 1907, 1901], [596, 107, 0, 287, 467, 1128, 1575, 200, 570, 33, 9, 534, 367, 23, 349, 42, 10, 499, 2537, 357, 2442, 485, 2590, 308, 1190], [270, 2591], [183, 1866, 12, 127], [521, 1893], [627, 183, 0, 1904, 542], [602, 208, 534, 183, 1866], [847, 783, 595, 183, 0, 2592, 237, 542], [1105, 534, 2593, 2594, 183, 1866, 2595, 2596], [250, 212, 1989, 685, 331, 2537], [1852, 70, 1639, 88, 523, 1646, 1827, 1866, 685, 2537, 183, 147, 2597, 2537, 2598, 2599, 2600, 910, 1937], [1515, 1827, 1246, 1106, 566], [2585, 2586, 2076, 1567, 1092, 1150, 37, 478], [383, 1458, 2093, 1827, 218, 839, 629, 289, 269, 2356, 1907, 1901, 45, 2601, 1931, 269], [110, 1931], [183, 2076], [412, 218, 269, 1827, 960], [1036, 904, 1931, 2006], [183, 2076, 497], [248, 95, 2602], [2481], [383, 1458, 1827, 108, 195, 2603, 1828, 1829, 183], [], [1828, 1829, 1956, 152, 416], [602], [183, 1827], [2604], [183, 1828, 1829], [866, 2605, 183, 2076, 499, 2453], [162, 354, 1866, 183, 1827, 108, 894, 540, 329, 100, 42, 2604, 1866, 1825, 15, 1867, 1868], [484, 976, 1827, 435, 1907, 1901], [277, 1866, 61], [147, 1081, 1023], [735, 266, 183, 1827], [602, 2312, 266, 1663, 2076, 1150], [110, 2606, 1827, 634, 2569, 1907, 1901, 108, 147, 2110], [383, 1458, 2093, 218], [602, 383, 2607, 183, 2076], [1267, 147, 1346, 1347, 1047, 1410, 2608, 2597, 2537], [725, 228, 637, 233, 1001, 727], [579, 102, 2609, 2610, 2611, 1395, 2612, 746, 1346, 1799, 380, 349, 493, 142], [229, 89, 727, 23, 0], [1510, 419, 2613, 179, 2614, 54, 2615, 2616, 1410, 2608, 2597, 2537, 88, 2617, 1741, 721], [630, 237, 1433, 1460, 976, 2076], [382, 2618, 183, 1827, 1210], [1041, 1433, 2619, 2076, 960], [1267, 1346, 1799, 1047, 2608], [495, 465, 1346, 1347], [23, 0], [294, 64, 10, 913], [228, 1101, 269, 183, 1827, 2208, 123, 1639, 19, 2599, 2600], [602, 1433, 382, 183, 2076, 1827, 966, 523, 2537, 24, 170, 394, 160, 566], [95, 380, 1243, 1639, 1064, 147, 2597, 1827, 310, 2620, 30, 10, 334], [1839, 127, 2568], [183, 2076], [110, 127, 2568, 622, 1688], [144, 1728, 1693, 511, 292, 0, 1153, 170, 212, 2537, 59, 223, 187, 334, 218, 1656], [2585, 2586, 183, 2076], [2621, 183, 1688], [110, 2076, 82, 540, 49, 7, 183, 321, 629, 1879, 2093, 185, 902, 2622, 1268, 2568], [162, 185, 185, 2076, 183, 978, 247, 2623, 1412, 947, 1688, 721, 51, 729, 310, 183, 118, 629, 466, 2538, 33], [1621, 2070, 183, 1688], [1994, 183, 35, 629, 319], [2624, 1866, 1639, 2625], [2626, 1866], [2105, 1866, 2537], [2627], [2628], [1950, 318], [388, 476, 887, 2537, 1057, 45, 1866, 315, 70, 1604, 1688, 2214], [2264, 28], [183, 2076, 247, 152, 2325], [1839, 127, 2568], [250, 1064, 2629, 1639, 2015, 63, 818, 185, 902, 2622, 127, 2568], [412, 72, 533, 1014, 2630], [0, 2295, 49, 7, 2631, 2599, 468, 467, 100, 127, 2568, 42, 112, 212, 58, 2586, 2632, 183], [2633, 1337, 49, 7, 419, 171, 816, 252, 629, 235, 0], [5, 2634], [0, 2635], [1267], [494, 0, 72, 1247, 2636, 107, 102, 1234, 910, 476, 306, 416, 2637, 1081, 511, 1409, 2638, 2639, 2640, 225, 1343, 1339, 2641, 2642, 58, 2643, 2644, 2645, 1997, 2356], [62, 2646, 812], [1951, 820, 152, 2647, 218, 46, 2559, 30, 2648, 2644, 624, 1008, 380, 2649, 196, 213, 185, 2202, 160, 395, 1081, 511, 42, 2650], [110, 1076, 2651, 950, 183, 2076, 1049, 629, 2640, 395, 1784, 2131, 2224, 1567, 152, 2652, 894, 637, 0, 183], [0, 82, 1081, 511, 139, 2653, 160, 1344, 380, 2654, 383, 252, 483, 1826, 695, 978, 59, 72, 2655, 981], [144, 259, 212, 160, 208, 2656, 58, 183, 57, 42, 1505, 58, 22, 1076, 147, 59], [725, 259, 1081, 252, 2380, 2657, 1997, 2550, 2658, 116, 1032, 395, 551, 552, 2659, 1233, 799, 2648, 345, 1344, 71, 58, 2660, 133, 858, 1395, 355, 2661, 327, 2537], [466, 237, 1275], [2076, 183, 0], [2662, 183, 0], [2662, 2663], [2482, 2076], [2662, 1218, 183, 0], [735, 927, 2076, 183, 977, 1081], [579, 9, 1233, 2550, 49, 7, 1956, 2664, 2093, 962, 904, 183, 2665, 820, 947, 39, 2055, 244], [2664, 904, 1741, 2076, 611, 183, 108, 2629], [927, 2666, 2666, 927, 332, 233, 689, 489], [1129, 1081, 2575, 927, 2666], [0, 30, 100, 187, 522, 123, 2550, 286, 304, 23], [919, 107, 2076, 70, 1743, 1888, 2667, 18, 2668, 930], [419, 18, 2669, 2670, 519], [2224, 2671, 1983, 2672, 2673, 2674, 2675, 2676, 591, 2677], [2298, 82, 0], [2678, 361, 183, 0], [602, 183, 2076], [2679, 519, 181, 361, 1064, 1639], [162, 382, 354, 183, 0, 2088, 2331, 2086, 2680], [412, 2681, 2086, 18, 183, 2076], [1041, 68, 2682, 1007, 183, 0], [110, 2076, 315, 874, 385, 2667, 18, 611], [2104, 2567, 183, 1081, 321, 839, 629], [54, 2586, 178, 822, 631, 2093, 183, 49, 7, 1721, 152, 416, 405, 1375], [466], [183, 1639], [365, 822, 183, 49, 7, 702, 1637, 257, 2683, 158], [412, 185, 183, 2076, 2206, 257, 1123, 643, 237], [647, 2684], [183, 147, 2640], [412, 2684, 183, 49, 7, 452, 15, 257, 2685], [866, 1446, 405, 244, 1064, 412, 1637, 551, 2686], [848, 2683, 2687], [1023, 106, 2640], [255, 183, 49, 7, 2688, 483], [110, 1081, 82, 1575], [866, 185, 2689, 158, 258, 292, 183, 2076], [110, 1081, 471], [238, 2093, 183, 2075, 1233, 2690, 235, 2691, 179], [630, 2692, 183, 2076, 533, 286, 742], [602, 2312, 1741, 2693, 258, 2691, 235, 112, 2694, 1458], [54, 757, 2695, 686, 349, 392, 1500, 483, 2076, 183, 32], [735, 2696, 2697, 183, 1639], [412, 2698, 15, 196], [183, 0], [169, 170, 237], [2699, 183, 2076], [110, 49, 7, 160, 2553], [1152, 64, 387, 631, 2093], [1023], [2700, 9, 2076, 183, 1037, 382, 721, 178, 179, 1186], [2306, 2686, 49, 7, 419], [579, 1669, 250, 1141, 144, 502, 200, 2701, 277, 183, 30, 1158], [866, 2570, 233, 1229, 838, 237, 175, 630, 2702, 286, 466, 42, 1219], [502, 147, 502, 519, 602, 502, 876, 340, 579, 2703, 2704, 657], [630, 1224, 2705, 2706, 866, 2707, 551, 1537, 1892], [2092, 801, 2708, 2709, 1272, 2710, 299, 2711], [847, 677, 237, 1009, 489, 388, 185, 297, 2712, 624, 1017, 2713], [735, 927, 1034, 2586, 609, 822, 183, 2076, 2004, 686, 677, 1081], [630, 147, 1001, 183, 0, 1234, 102, 910, 476, 304, 272, 2003, 573, 2714], [990, 2715, 989], [110, 1081, 2575, 2550, 663, 990, 2715, 989, 1467, 2716, 1001, 405], [630, 989, 183, 2076, 2717, 109, 44, 237, 665, 398], [250, 822, 237, 108, 2718, 2686, 2110, 894, 147, 528, 221, 100, 989], [1886, 1283, 448, 2719, 1158], [1064, 977, 2075], [110, 2075, 1106, 380, 336], [248, 123, 112], [183], [173, 403, 448, 33, 2213, 2720], [1852, 208, 565, 183, 2076, 108, 621, 2686, 2721, 2722, 959, 2675, 2723, 2724, 1081, 904, 2725, 2209, 524, 2726, 2725, 1926, 1278, 185, 2538, 237], [277, 655, 2726, 2224, 2727, 2728, 1926, 2675, 818, 183, 0], [169], [183, 2076, 1985, 1024, 2538, 342], [2662, 2729, 415], [1041, 2730, 663, 2731, 1268, 2732, 88, 2733, 63, 57], [183, 1639], [2264], [183, 1639, 2734, 1713, 2735, 1344, 244], [110, 2115, 252, 1149, 523, 1888, 1297, 147, 436, 116, 33, 2413, 611, 218, 1869, 2736, 2737, 470, 308, 1494], [1041, 216, 2732, 183, 2076, 894, 329, 2537, 993], [54, 1325, 1018], [412, 2738], [2076, 1064, 837, 820, 1729, 1644, 190, 1081, 2739, 2567, 2076, 183, 2740, 70, 32], [255], [183, 1639], [2741, 349, 2567, 66], [2742, 595], [183, 0, 1629], [110, 213, 806, 349], [1116, 1117], [183, 1639, 977, 2743], [], [183, 0], [1950, 380], [1639, 1335, 171, 629], [1142, 1140], [647, 2514], [183, 0, 1234, 1222, 472, 70], [602, 15, 2094, 2095], [919, 887, 2094, 2029, 247, 299, 2744, 142, 502, 252, 2128, 396, 810, 396, 1443, 129, 1754, 116, 529, 14, 380, 687, 13, 710, 2745, 313, 1325, 303, 2746, 1361, 142, 470], [1962, 0, 63], [183, 13, 169, 308, 1578], [62, 467, 290], [183, 0, 1669, 13, 29, 30, 266, 691, 1, 19, 465, 13, 2747, 183, 412, 230, 467, 290, 63, 403, 1384, 269, 45, 65], [26, 0, 212, 52, 650, 52, 29, 273, 2748, 290], [277, 13, 493, 205, 523, 1689, 380, 292, 2050, 2749, 2290, 650, 252, 0, 2748, 1, 721, 218, 2750, 2596, 290], [128, 2751, 252, 0, 346, 686, 2752, 142, 2110, 376, 2056, 51, 894, 30, 60, 2470, 629, 100, 640, 252, 2753, 380, 1383, 395, 1556, 654, 427, 843, 10, 51, 205, 2754, 71, 204, 887, 1303, 2475, 1842, 2172, 691, 886, 252, 13, 290], [110, 308, 1403, 2755, 85, 49, 7, 83, 738, 785, 2756, 59, 2757, 607, 30, 60, 2758, 2759, 1828, 1829, 429, 2760, 88, 1853, 2761, 816, 629, 1639, 1187, 2115, 2069, 2126, 1799, 1687, 1656, 622, 2110, 1716, 1717, 2762, 2475, 1254, 2289, 1317, 1344, 1297, 2557, 2763, 2608, 1346, 1347, 136, 247, 453, 1548, 2376, 2606, 2217, 2218], [26, 493, 2007, 51, 396, 2764, 2, 199, 651, 355, 42, 739, 548, 2765, 1403, 42, 2766, 314, 607, 2767, 1826, 2768, 1333, 2759, 42, 739, 2769, 2770, 2771, 1639, 816, 2772, 629, 2773, 1753, 1699, 1687, 1254, 2289, 640, 2774, 42, 739, 651, 1026, 2775, 2776, 2777, 2778, 2779, 2780, 209, 42, 95, 1303, 2217, 2218, 2310, 2376], [2781, 2782, 252, 13, 42, 70, 1234, 1238, 42, 1383, 2783, 2784, 428, 2785, 2301, 2786, 42, 2787, 252, 421, 130, 2788, 51, 376, 2056, 180, 691, 1068, 256, 170, 290, 2, 308, 802, 42, 34, 428, 2789, 398, 38, 428, 2790, 2791, 516, 549, 2792, 2565, 1678]]\n"
     ]
    }
   ],
   "source": [
    "# Sanity check\n",
    "print(Transactions_list)"
   ]
  },
  {
   "cell_type": "code",
   "execution_count": 8,
   "id": "2a021072",
   "metadata": {},
   "outputs": [],
   "source": [
    "# Convert to numpy arrays\n",
    "Transactions = np.full((N,M), False, dtype=bool)"
   ]
  },
  {
   "cell_type": "code",
   "execution_count": 9,
   "id": "9d62612d",
   "metadata": {},
   "outputs": [],
   "source": [
    "# Show all columns of array\n",
    "np.set_printoptions(threshold=np.inf)"
   ]
  },
  {
   "cell_type": "code",
   "execution_count": 10,
   "id": "3660ea17",
   "metadata": {},
   "outputs": [
    {
     "name": "stdout",
     "output_type": "stream",
     "text": [
      "[[1 0 0 0 0 0 0 0 0 0 0 0 0 0 0 0 0 0 0 0 0 0 0 0 0 0 0 0 0 1 0 0 0 0 0 0\n",
      "  0 0 0 0 0 0 0 0 0 0 0 0 1 0 0 0 0 0 0 0 0 1 0 1 0 0 0 0 0 0 0 0 0 0 0 0\n",
      "  0 0 0 0 0 0 0 0 0 0 0 0 0 0 0 0 0 0 1 0 0 0 0 0 0 0 0 0 0 0 0 1 0 0 0 1\n",
      "  1 0 1 1 1 1 1 1 1 1 1 0 0 0 0 0 0 0 0 0 0 0 0 0 0 0 0 0 0 0 0 0 0 0 0 0\n",
      "  0 0 0 0 0 0 0 0 0 0 0 0 0 0 0 0 0 0 0 0 0 0 0 0 0 0 0 0 0 0 0 0 0 0 0 0\n",
      "  0 0 0 0 0 0 0 0 0 0 0 0 0 0 0 0 0 0 0 0 0 0 0 0 0 0 0 0 0 0 0 0 0 0 0 0\n",
      "  0 0 0 0 0 0 0 0 0 0 0 0 0 0 0 0 0 0 0 0 0 0 0 0 0 0 0 0 0 0 0 0 0 0 0 0\n",
      "  0 0 0 0 0 0 0 0 0 0 0 0 0 0 0 0 0 0 0 0 0 0 0 0 0 0 0 0 0 0 0 0 0 0 0 0\n",
      "  0 0 0 0 0 0 0 0 0 0 0 0 0 0 0 0 0 0 0 0 0 0 0 0 0 0 0 0 0 0 0 0 0 0 0 0\n",
      "  0 0 0 0 0 0 0 0 0 0 0 0 0 0 0 0 0 0 0 0 0 0 0 0 0 0 0 0 0 0 0 0 0 0 0 0\n",
      "  0 0 0 0 0 0 0 0 0 0 0 0 0 0 0 0 0 0 0 0 0 0 0 0 0 0 0 0 0 0 0 0 0 0 0 0\n",
      "  0 0 0 0 0 0 0 0 0 0 0 0 0 0 0 0 0 0 0 0 0 0 0 0 0 0 0 0 0 0 0 0 0 0 0 0\n",
      "  0 0 0 0 0 0 0 0 0 0 0 0 0 0 0 0 0 0 0 0 0 0 0 0 0 0 0 0 0 0 0 0 0 0 0 0\n",
      "  0 0 0 0 0 0 0 0 0 0 0 0 0 0 0 0 0 0 0 0 0 0 0 0 0 0 0 0 0 0 0 0 0 0 0 0\n",
      "  0 0 0 0 0 0 0 0 0 0 0 0 0 0 0 0 0 0 0 0 0 0 0 0 0 0 0 0 0 0 0 0 0 0 0 0\n",
      "  0 0 0 0 0 0 0 0 0 0 0 0 0 0 0 0 0 0 0 0 0 0 0 0 0 0 0 0 0 0 0 0 0 0 0 0\n",
      "  0 0 0 0 0 0 0 0 0 0 0 0 0 0 0 0 0 0 0 0 0 0 0 0 0 0 0 0 0 0 0 0 0 0 0 0\n",
      "  0 0 0 0 0 0 0 0 0 0 0 0 0 0 0 0 0 0 0 0 0 0 0 0 0 0 0 0 0 0 0 0 0 0 0 0\n",
      "  0 0 0 0 0 0 0 0 0 0 0 0 0 0 0 0 0 0 0 0 0 0 0 0 0 0 0 0 0 0 0 0 0 0 0 0\n",
      "  0 0 0 0 0 0 0 0 0 0 0 0 0 0 0 0 0 0 0 0 0 0 0 0 0 0 0 0 0 0 0 0 0 0 0 0\n",
      "  0 0 0 0 0 0 0 0 0 0 0 0 0 0 0 0 0 0 0 0 0 0 0 0 0 0 0 0 0 0 0 0 0 0 0 0\n",
      "  0 0 0 0 0 0 0 0 0 0 0 0 0 0 0 0 0 0 0 0 0 0 0 0 0 0 0 0 0 0 0 0 0 0 0 0\n",
      "  0 0 0 0 0 0 0 0 0 0 0 0 0 0 0 0 0 0 0 0 0 0 0 0 0 0 0 0 0 0 0 0 0 0 0 0\n",
      "  0 0 0 0 0 0 0 0 0 0 0 0 0 0 0 0 0 0 0 0 0 0 0 0 0 0 0 0 0 0 0 0 0 0 0 0\n",
      "  0 0 0 0 0 0 0 0 0 0 0 0 0 0 0 0 0 0 0 0 0 0 0 0 0 0 0 0 0 0 0 0 0 0 0 0\n",
      "  0 0 0 0 0 0 0 0 0 0 0 0 0 0 0 0 0 0 0 0 0 0 0 0 0 0 0 0 0 0 0 0 0 0 0 0\n",
      "  0 0 0 0 0 0 0 0 0 0 0 0 0 0 0 0 0 0 0 0 0 0 0 0 0 0 0 0 0 0 0 0 0 0 0 0\n",
      "  0 0 0 0 0 0 0 0 0 0 0 0 0 0 0 0 0 0 0 0 0 0 0 0 0 0 0 0 0 0 0 0 0 0 0 0\n",
      "  0 0 0 0 0 0 0 0 0 0 0 0 0 0 0 0 0 0 0 0 0 0 0 0 0 0 0 0 0 0 0 0 0 0 0 0\n",
      "  0 0 0 0 0 0 0 0 0 0 0 0 0 0 0 0 0 0 0 0 0 0 0 0 0 0 0 0 0 0 0 0 0 0 0 0\n",
      "  0 0 0 0 0 0 0 0 0 0 0 0 0 0 0 0 0 0 0 0 0 0 0 0 0 0 0 0 0 0 0 0 0 0 0 0\n",
      "  0 0 0 0 0 0 0 0 0 0 0 0 0 0 0 0 0 0 0 0 0 0 0 0 0 0 0 0 0 0 0 0 0 0 0 0\n",
      "  0 0 0 0 0 0 0 0 0 0 0 0 0 0 0 0 0 0 0 0 0 0 0 0 0 0 0 0 0 0 0 0 0 0 0 0\n",
      "  0 0 0 0 0 0 0 0 0 0 0 0 0 0 0 0 0 0 0 0 0 0 0 0 0 0 0 0 0 0 0 0 0 0 0 0\n",
      "  0 0 0 0 0 0 0 0 0 0 0 0 0 0 0 0 0 0 0 0 0 0 0 0 0 0 0 0 0 0 0 0 0 0 0 0\n",
      "  0 0 0 0 0 0 0 0 0 0 0 0 0 0 0 0 0 0 0 0 0 0 0 0 0 0 0 0 0 0 0 0 0 0 0 0\n",
      "  0 0 0 0 0 0 0 0 0 0 0 0 0 0 0 0 0 0 0 0 0 0 0 0 0 0 0 0 0 0 0 0 0 0 0 0\n",
      "  0 0 0 0 0 0 0 0 0 0 0 0 0 0 0 0 0 0 0 0 0 0 0 0 0 0 0 0 0 0 0 0 0 0 0 0\n",
      "  0 0 0 0 0 0 0 0 0 0 0 0 0 0 0 0 0 0 0 0 0 0 0 0 0 0 0 0 0 0 0 0 0 0 0 0\n",
      "  0 0 0 0 0 0 0 0 0 0 0 0 0 0 0 0 0 0 0 0 0 0 0 0 0 0 0 0 0 0 0 0 0 0 0 0\n",
      "  0 0 0 0 0 0 0 0 0 0 0 0 0 0 0 0 0 0 0 0 0 0 0 0 0 0 0 0 0 0 0 0 0 0 0 0\n",
      "  0 0 0 0 0 0 0 0 0 0 0 0 0 0 0 0 0 0 0 0 0 0 0 0 0 0 0 0 0 0 0 0 0 0 0 0\n",
      "  0 0 0 0 0 0 0 0 0 0 0 0 0 0 0 0 0 0 0 0 0 0 0 0 0 0 0 0 0 0 0 0 0 0 0 0\n",
      "  0 0 0 0 0 0 0 0 0 0 0 0 0 0 0 0 0 0 0 0 0 0 0 0 0 0 0 0 0 0 0 0 0 0 0 0\n",
      "  0 0 0 0 0 0 0 0 0 0 0 0 0 0 0 0 0 0 0 0 0 0 0 0 0 0 0 0 0 0 0 0 0 0 0 0\n",
      "  0 0 0 0 0 0 0 0 0 0 0 0 0 0 0 0 0 0 0 0 0 0 0 0 0 0 0 0 0 0 0 0 0 0 0 0\n",
      "  0 0 0 0 0 0 0 0 0 0 0 0 0 0 0 0 0 0 0 0 0 0 0 0 0 0 0 0 0 0 0 0 0 0 0 0\n",
      "  0 0 0 0 0 0 0 0 0 0 0 0 0 0 0 0 0 0 0 0 0 0 0 0 0 0 0 0 0 0 0 0 0 0 0 0\n",
      "  0 0 0 0 0 0 0 0 0 0 0 0 0 0 0 0 0 0 0 0 0 0 0 0 0 0 0 0 0 0 0 0 0 0 0 0\n",
      "  0 0 0 0 0 0 0 0 0 0 0 0 0 0 0 0 0 0 0 0 0 0 0 0 0 0 0 0 0 0 0 0 0 0 0 0\n",
      "  0 0 0 0 0 0 0 0 0 0 0 0 0 0 0 0 0 0 0 0 0 0 0 0 0 0 0 0 0 0 0 0 0 0 0 0\n",
      "  0 0 0 0 0 0 0 0 0 0 0 0 0 0 0 0 0 0 0 0 0 0 0 0 0 0 0 0 0 0 0 0 0 0 0 0\n",
      "  0 0 0 0 0 0 0 0 0 0 0 0 0 0 0 0 0 0 0 0 0 0 0 0 0 0 0 0 0 0 0 0 0 0 0 0\n",
      "  0 0 0 0 0 0 0 0 0 0 0 0 0 0 0 0 0 0 0 0 0 0 0 0 0 0 0 0 0 0 0 0 0 0 0 0\n",
      "  0 0 0 0 0 0 0 0 0 0 0 0 0 0 0 0 0 0 0 0 0 0 0 0 0 0 0 0 0 0 0 0 0 0 0 0\n",
      "  0 0 0 0 0 0 0 0 0 0 0 0 0 0 0 0 0 0 0 0 0 0 0 0 0 0 0 0 0 0 0 0 0 0 0 0\n",
      "  0 0 0 0 0 0 0 0 0 0 0 0 0 0 0 0 0 0 0 0 0 0 0 0 0 0 0 0 0 0 0 0 0 0 0 0\n",
      "  0 0 0 0 0 0 0 0 0 0 0 0 0 0 0 0 0 0 0 0 0 0 0 0 0 0 0 0 0 0 0 0 0 0 0 0\n",
      "  0 0 0 0 0 0 0 0 0 0 0 0 0 0 0 0 0 0 0 0 0 0 0 0 0 0 0 0 0 0 0 0 0 0 0 0\n",
      "  0 0 0 0 0 0 0 0 0 0 0 0 0 0 0 0 0 0 0 0 0 0 0 0 0 0 0 0 0 0 0 0 0 0 0 0\n",
      "  0 0 0 0 0 0 0 0 0 0 0 0 0 0 0 0 0 0 0 0 0 0 0 0 0 0 0 0 0 0 0 0 0 0 0 0\n",
      "  0 0 0 0 0 0 0 0 0 0 0 0 0 0 0 0 0 0 0 0 0 0 0 0 0 0 0 0 0 0 0 0 0 0 0 0\n",
      "  0 0 0 0 0 0 0 0 0 0 0 0 0 0 0 0 0 0 0 0 0 0 0 0 0 0 0 0 0 0 0 0 0 0 0 0\n",
      "  0 0 0 0 0 0 0 0 0 0 0 0 0 0 0 0 0 0 0 0 0 0 0 0 0 0 0 0 0 0 0 0 0 0 0 0\n",
      "  0 0 0 0 0 0 0 0 0 0 0 0 0 0 0 0 0 0 0 0 0 0 0 0 0 0 0 0 0 0 0 0 0 0 0 0\n",
      "  0 0 0 0 0 0 0 0 0 0 0 0 0 0 0 0 0 0 0 0 0 0 0 0 0 0 0 0 0 0 0 0 0 0 0 0\n",
      "  0 0 0 0 0 0 0 0 0 0 0 0 0 0 0 0 0 0 0 0 0 0 0 0 0 0 0 0 0 0 0 0 0 0 0 0\n",
      "  0 0 0 0 0 0 0 0 0 0 0 0 0 0 0 0 0 0 0 0 0 0 0 0 0 0 0 0 0 0 0 0 0 0 0 0\n",
      "  0 0 0 0 0 0 0 0 0 0 0 0 0 0 0 0 0 0 0 0 0 0 0 0 0 0 0 0 0 0 0 0 0 0 0 0\n",
      "  0 0 0 0 0 0 0 0 0 0 0 0 0 0 0 0 0 0 0 0 0 0 0 0 0 0 0 0 0 0 0 0 0 0 0 0\n",
      "  0 0 0 0 0 0 0 0 0 0 0 0 0 0 0 0 0 0 0 0 0 0 0 0 0 0 0 0 0 0 0 0 0 0 0 0\n",
      "  0 0 0 0 0 0 0 0 0 0 0 0 0 0 0 0 0 0 0 0 0 0 0 0 0 0 0 0 0 0 0 0 0 0 0 0\n",
      "  0 0 0 0 0 0 0 0 0 0 0 0 0 0 0 0 0 0 0 0 0 0 0 0 0 0 0 0 0 0 0 0 0 0 0 0\n",
      "  0 0 0 0 0 0 0 0 0 0 0 0 0 0 0 0 0 0 0 0 0 0 0 0 0 0 0 0 0 0 0 0 0 0 0 0\n",
      "  0 0 0 0 0 0 0 0 0 0 0 0 0 0 0 0 0 0 0 0 0 0 0 0 0 0 0 0 0 0 0 0 0 0 0 0\n",
      "  0 0 0 0 0 0 0 0 0 0 0 0 0 0 0 0 0 0 0 0 0 0 0 0 0 0 0 0 0 0 0 0 0 0 0 0\n",
      "  0 0 0 0 0 0 0 0 0 0 0 0 0 0 0 0 0 0 0 0 0 0 0 0 0 0 0 0 0 0 0 0 0 0 0 0\n",
      "  0 0 0 0 0 0 0 0 0 0 0 0 0 0 0 0 0 0 0 0 0]\n",
      " [0 0 0 0 0 0 0 0 0 0 0 0 0 0 0 0 0 0 0 0 0 0 0 0 0 0 0 0 0 1 0 0 0 0 0 0\n",
      "  0 0 0 0 0 0 0 0 0 0 0 0 0 0 0 0 0 0 0 0 0 0 0 0 0 0 0 0 0 0 0 0 0 0 1 0\n",
      "  0 0 0 0 0 0 0 0 0 0 0 0 0 0 0 0 0 0 0 0 0 0 0 0 0 0 0 0 0 0 0 0 0 0 0 0\n",
      "  1 0 0 0 0 0 0 0 0 0 1 1 1 1 1 1 1 1 1 1 0 0 0 0 0 0 0 0 0 0 0 0 0 0 0 0\n",
      "  0 0 0 0 0 0 0 0 0 0 0 0 0 0 0 0 0 0 0 0 0 0 0 0 0 0 0 0 0 0 0 0 0 0 0 0\n",
      "  0 0 0 0 0 0 0 0 0 0 0 0 0 0 0 0 0 0 0 0 0 0 0 0 0 0 0 0 0 0 0 0 0 0 0 0\n",
      "  0 0 0 0 0 0 0 0 0 0 0 0 0 0 0 0 0 0 0 0 0 0 0 0 0 0 0 0 0 0 0 0 0 0 0 0\n",
      "  0 0 0 0 0 0 0 0 0 0 0 0 0 0 0 0 0 0 0 0 0 0 0 0 0 0 0 0 0 0 0 0 0 0 0 0\n",
      "  0 0 0 0 0 0 0 0 0 0 0 0 0 0 0 0 0 0 0 0 0 0 0 0 0 0 0 0 0 0 0 0 0 0 0 0\n",
      "  0 0 0 0 0 0 0 0 0 0 0 0 0 0 0 0 0 0 0 0 0 0 0 0 0 0 0 0 0 0 0 0 0 0 0 0\n",
      "  0 0 0 0 0 0 0 0 0 0 0 0 0 0 0 0 0 0 0 0 0 0 0 0 0 0 0 0 0 0 0 0 0 0 0 0\n",
      "  0 0 0 0 0 0 0 0 0 0 0 0 0 0 0 0 0 0 0 0 0 0 0 0 0 0 0 0 0 0 0 0 0 0 0 0\n",
      "  0 0 0 0 0 0 0 0 0 0 0 0 0 0 0 0 0 0 0 0 0 0 0 0 0 0 0 0 0 0 0 0 0 0 0 0\n",
      "  0 0 0 0 0 0 0 0 0 0 0 0 0 0 0 0 0 0 0 0 0 0 0 0 0 0 0 0 0 0 0 0 0 0 0 0\n",
      "  0 0 0 0 0 0 0 0 0 0 0 0 0 0 0 0 0 0 0 0 0 0 0 0 0 0 0 0 0 0 0 0 0 0 0 0\n",
      "  0 0 0 0 0 0 0 0 0 0 0 0 0 0 0 0 0 0 0 0 0 0 0 0 0 0 0 0 0 0 0 0 0 0 0 0\n",
      "  0 0 0 0 0 0 0 0 0 0 0 0 0 0 0 0 0 0 0 0 0 0 0 0 0 0 0 0 0 0 0 0 0 0 0 0\n",
      "  0 0 0 0 0 0 0 0 0 0 0 0 0 0 0 0 0 0 0 0 0 0 0 0 0 0 0 0 0 0 0 0 0 0 0 0\n",
      "  0 0 0 0 0 0 0 0 0 0 0 0 0 0 0 0 0 0 0 0 0 0 0 0 0 0 0 0 0 0 0 0 0 0 0 0\n",
      "  0 0 0 0 0 0 0 0 0 0 0 0 0 0 0 0 0 0 0 0 0 0 0 0 0 0 0 0 0 0 0 0 0 0 0 0\n",
      "  0 0 0 0 0 0 0 0 0 0 0 0 0 0 0 0 0 0 0 0 0 0 0 0 0 0 0 0 0 0 0 0 0 0 0 0\n",
      "  0 0 0 0 0 0 0 0 0 0 0 0 0 0 0 0 0 0 0 0 0 0 0 0 0 0 0 0 0 0 0 0 0 0 0 0\n",
      "  0 0 0 0 0 0 0 0 0 0 0 0 0 0 0 0 0 0 0 0 0 0 0 0 0 0 0 0 0 0 0 0 0 0 0 0\n",
      "  0 0 0 0 0 0 0 0 0 0 0 0 0 0 0 0 0 0 0 0 0 0 0 0 0 0 0 0 0 0 0 0 0 0 0 0\n",
      "  0 0 0 0 0 0 0 0 0 0 0 0 0 0 0 0 0 0 0 0 0 0 0 0 0 0 0 0 0 0 0 0 0 0 0 0\n",
      "  0 0 0 0 0 0 0 0 0 0 0 0 0 0 0 0 0 0 0 0 0 0 0 0 0 0 0 0 0 0 0 0 0 0 0 0\n",
      "  0 0 0 0 0 0 0 0 0 0 0 0 0 0 0 0 0 0 0 0 0 0 0 0 0 0 0 0 0 0 0 0 0 0 0 0\n",
      "  0 0 0 0 0 0 0 0 0 0 0 0 0 0 0 0 0 0 0 0 0 0 0 0 0 0 0 0 0 0 0 0 0 0 0 0\n",
      "  0 0 0 0 0 0 0 0 0 0 0 0 0 0 0 0 0 0 0 0 0 0 0 0 0 0 0 0 0 0 0 0 0 0 0 0\n",
      "  0 0 0 0 0 0 0 0 0 0 0 0 0 0 0 0 0 0 0 0 0 0 0 0 0 0 0 0 0 0 0 0 0 0 0 0\n",
      "  0 0 0 0 0 0 0 0 0 0 0 0 0 0 0 0 0 0 0 0 0 0 0 0 0 0 0 0 0 0 0 0 0 0 0 0\n",
      "  0 0 0 0 0 0 0 0 0 0 0 0 0 0 0 0 0 0 0 0 0 0 0 0 0 0 0 0 0 0 0 0 0 0 0 0\n",
      "  0 0 0 0 0 0 0 0 0 0 0 0 0 0 0 0 0 0 0 0 0 0 0 0 0 0 0 0 0 0 0 0 0 0 0 0\n",
      "  0 0 0 0 0 0 0 0 0 0 0 0 0 0 0 0 0 0 0 0 0 0 0 0 0 0 0 0 0 0 0 0 0 0 0 0\n",
      "  0 0 0 0 0 0 0 0 0 0 0 0 0 0 0 0 0 0 0 0 0 0 0 0 0 0 0 0 0 0 0 0 0 0 0 0\n",
      "  0 0 0 0 0 0 0 0 0 0 0 0 0 0 0 0 0 0 0 0 0 0 0 0 0 0 0 0 0 0 0 0 0 0 0 0\n",
      "  0 0 0 0 0 0 0 0 0 0 0 0 0 0 0 0 0 0 0 0 0 0 0 0 0 0 0 0 0 0 0 0 0 0 0 0\n",
      "  0 0 0 0 0 0 0 0 0 0 0 0 0 0 0 0 0 0 0 0 0 0 0 0 0 0 0 0 0 0 0 0 0 0 0 0\n",
      "  0 0 0 0 0 0 0 0 0 0 0 0 0 0 0 0 0 0 0 0 0 0 0 0 0 0 0 0 0 0 0 0 0 0 0 0\n",
      "  0 0 0 0 0 0 0 0 0 0 0 0 0 0 0 0 0 0 0 0 0 0 0 0 0 0 0 0 0 0 0 0 0 0 0 0\n",
      "  0 0 0 0 0 0 0 0 0 0 0 0 0 0 0 0 0 0 0 0 0 0 0 0 0 0 0 0 0 0 0 0 0 0 0 0\n",
      "  0 0 0 0 0 0 0 0 0 0 0 0 0 0 0 0 0 0 0 0 0 0 0 0 0 0 0 0 0 0 0 0 0 0 0 0\n",
      "  0 0 0 0 0 0 0 0 0 0 0 0 0 0 0 0 0 0 0 0 0 0 0 0 0 0 0 0 0 0 0 0 0 0 0 0\n",
      "  0 0 0 0 0 0 0 0 0 0 0 0 0 0 0 0 0 0 0 0 0 0 0 0 0 0 0 0 0 0 0 0 0 0 0 0\n",
      "  0 0 0 0 0 0 0 0 0 0 0 0 0 0 0 0 0 0 0 0 0 0 0 0 0 0 0 0 0 0 0 0 0 0 0 0\n",
      "  0 0 0 0 0 0 0 0 0 0 0 0 0 0 0 0 0 0 0 0 0 0 0 0 0 0 0 0 0 0 0 0 0 0 0 0\n",
      "  0 0 0 0 0 0 0 0 0 0 0 0 0 0 0 0 0 0 0 0 0 0 0 0 0 0 0 0 0 0 0 0 0 0 0 0\n",
      "  0 0 0 0 0 0 0 0 0 0 0 0 0 0 0 0 0 0 0 0 0 0 0 0 0 0 0 0 0 0 0 0 0 0 0 0\n",
      "  0 0 0 0 0 0 0 0 0 0 0 0 0 0 0 0 0 0 0 0 0 0 0 0 0 0 0 0 0 0 0 0 0 0 0 0\n",
      "  0 0 0 0 0 0 0 0 0 0 0 0 0 0 0 0 0 0 0 0 0 0 0 0 0 0 0 0 0 0 0 0 0 0 0 0\n",
      "  0 0 0 0 0 0 0 0 0 0 0 0 0 0 0 0 0 0 0 0 0 0 0 0 0 0 0 0 0 0 0 0 0 0 0 0\n",
      "  0 0 0 0 0 0 0 0 0 0 0 0 0 0 0 0 0 0 0 0 0 0 0 0 0 0 0 0 0 0 0 0 0 0 0 0\n",
      "  0 0 0 0 0 0 0 0 0 0 0 0 0 0 0 0 0 0 0 0 0 0 0 0 0 0 0 0 0 0 0 0 0 0 0 0\n",
      "  0 0 0 0 0 0 0 0 0 0 0 0 0 0 0 0 0 0 0 0 0 0 0 0 0 0 0 0 0 0 0 0 0 0 0 0\n",
      "  0 0 0 0 0 0 0 0 0 0 0 0 0 0 0 0 0 0 0 0 0 0 0 0 0 0 0 0 0 0 0 0 0 0 0 0\n",
      "  0 0 0 0 0 0 0 0 0 0 0 0 0 0 0 0 0 0 0 0 0 0 0 0 0 0 0 0 0 0 0 0 0 0 0 0\n",
      "  0 0 0 0 0 0 0 0 0 0 0 0 0 0 0 0 0 0 0 0 0 0 0 0 0 0 0 0 0 0 0 0 0 0 0 0\n",
      "  0 0 0 0 0 0 0 0 0 0 0 0 0 0 0 0 0 0 0 0 0 0 0 0 0 0 0 0 0 0 0 0 0 0 0 0\n",
      "  0 0 0 0 0 0 0 0 0 0 0 0 0 0 0 0 0 0 0 0 0 0 0 0 0 0 0 0 0 0 0 0 0 0 0 0\n",
      "  0 0 0 0 0 0 0 0 0 0 0 0 0 0 0 0 0 0 0 0 0 0 0 0 0 0 0 0 0 0 0 0 0 0 0 0\n",
      "  0 0 0 0 0 0 0 0 0 0 0 0 0 0 0 0 0 0 0 0 0 0 0 0 0 0 0 0 0 0 0 0 0 0 0 0\n",
      "  0 0 0 0 0 0 0 0 0 0 0 0 0 0 0 0 0 0 0 0 0 0 0 0 0 0 0 0 0 0 0 0 0 0 0 0\n",
      "  0 0 0 0 0 0 0 0 0 0 0 0 0 0 0 0 0 0 0 0 0 0 0 0 0 0 0 0 0 0 0 0 0 0 0 0\n",
      "  0 0 0 0 0 0 0 0 0 0 0 0 0 0 0 0 0 0 0 0 0 0 0 0 0 0 0 0 0 0 0 0 0 0 0 0\n",
      "  0 0 0 0 0 0 0 0 0 0 0 0 0 0 0 0 0 0 0 0 0 0 0 0 0 0 0 0 0 0 0 0 0 0 0 0\n",
      "  0 0 0 0 0 0 0 0 0 0 0 0 0 0 0 0 0 0 0 0 0 0 0 0 0 0 0 0 0 0 0 0 0 0 0 0\n",
      "  0 0 0 0 0 0 0 0 0 0 0 0 0 0 0 0 0 0 0 0 0 0 0 0 0 0 0 0 0 0 0 0 0 0 0 0\n",
      "  0 0 0 0 0 0 0 0 0 0 0 0 0 0 0 0 0 0 0 0 0 0 0 0 0 0 0 0 0 0 0 0 0 0 0 0\n",
      "  0 0 0 0 0 0 0 0 0 0 0 0 0 0 0 0 0 0 0 0 0 0 0 0 0 0 0 0 0 0 0 0 0 0 0 0\n",
      "  0 0 0 0 0 0 0 0 0 0 0 0 0 0 0 0 0 0 0 0 0 0 0 0 0 0 0 0 0 0 0 0 0 0 0 0\n",
      "  0 0 0 0 0 0 0 0 0 0 0 0 0 0 0 0 0 0 0 0 0 0 0 0 0 0 0 0 0 0 0 0 0 0 0 0\n",
      "  0 0 0 0 0 0 0 0 0 0 0 0 0 0 0 0 0 0 0 0 0 0 0 0 0 0 0 0 0 0 0 0 0 0 0 0\n",
      "  0 0 0 0 0 0 0 0 0 0 0 0 0 0 0 0 0 0 0 0 0 0 0 0 0 0 0 0 0 0 0 0 0 0 0 0\n",
      "  0 0 0 0 0 0 0 0 0 0 0 0 0 0 0 0 0 0 0 0 0 0 0 0 0 0 0 0 0 0 0 0 0 0 0 0\n",
      "  0 0 0 0 0 0 0 0 0 0 0 0 0 0 0 0 0 0 0 0 0 0 0 0 0 0 0 0 0 0 0 0 0 0 0 0\n",
      "  0 0 0 0 0 0 0 0 0 0 0 0 0 0 0 0 0 0 0 0 0 0 0 0 0 0 0 0 0 0 0 0 0 0 0 0\n",
      "  0 0 0 0 0 0 0 0 0 0 0 0 0 0 0 0 0 0 0 0 0 0 0 0 0 0 0 0 0 0 0 0 0 0 0 0\n",
      "  0 0 0 0 0 0 0 0 0 0 0 0 0 0 0 0 0 0 0 0 0]]\n"
     ]
    }
   ],
   "source": [
    "# Convert to numpy arrays\n",
    "Transactions = np.full((N,M), False, dtype=bool)\n",
    "\n",
    "for i, t in enumerate(Transactions_list):\n",
    "    for item in t:\n",
    "        Transactions[i][item] = True\n",
    "\n",
    "# Sanity, print row index 10, 11\n",
    "print(f'{Transactions[10:12].astype(int)}')"
   ]
  },
  {
   "cell_type": "code",
   "execution_count": 11,
   "id": "9e5de078",
   "metadata": {},
   "outputs": [],
   "source": [
    "# Transfer files to .csv to be viewed on Weka FPGrowth for analysis\n",
    "Filename = 'input_for_weka.csv'\n",
    "\n",
    "with open(Filename, 'w') as fout:\n",
    "    writer = csv.writer(fout, delimiter=',', quoting=csv.QUOTE_ALL, quotechar=\"'\", lineterminator='\\n')\n",
    "    writer.writerow([Items_names[i] for i in range(M)])\n",
    "    for i in range(N):\n",
    "        writer.writerow(list(map(lambda x: '' if x == False else 'True',  Transactions[i])))"
   ]
  },
  {
   "cell_type": "markdown",
   "id": "89d734e7",
   "metadata": {},
   "source": [
    "### Analysis\n",
    "\n",
    "I ran the Apriori analysis using Weka Explorer’s FPGrowth associator, and generated analyses using the following parameters:\n",
    "\n",
    "| Delta | Lower Bound Min Support | Max Number Of Items | Metric Type | Min Metric | Rules to Find | Rules Found |\n",
    "| --- | --- | --- | --- | --- | --- | --- |\n",
    "| 0.05 | 0.01 | -1 | Confidence | 0.9 | 10 | 7 |\n",
    "| 0.05 | 0.005 | -1 | Confidence | 0.9 | 10 | 13 |\n",
    "| 0.05 | 0.004 | -1 | Confidence | 0.9 | 10 | 20 |\n",
    "| 0.05 | 0.003 | -1 | Confidence | 0.9 | 10 | 38 |\n",
    "| 0.05 | 0.0025 | -1 | Confidence | 0.9 | 10 | 74 |\n",
    "| 0.05 | 0.001 | -1 | Confidence | 0.9 | 10 | 531933 |\n",
    "\n",
    "From my generated table, I wanted to find the “optimal” number of rules found when running an analysis based on confidence intervals. It appears that there is an “optimal” number of rules to be found when altering only the lowerBoundMinSupport to be within the range of 0.01 and 0.001. \n",
    "\n",
    "With lowerBoundMinSupport = 0.01, there were seven rules found. Of those seven, three of the pairs (six total items) were part of the same item set. Example pairs are below: \n",
    "\n",
    "### lowerBoundMinSupport = 0.01\n",
    "| Antecedent | Consequent | Confidence |\n",
    "| --- | --- | --- |\n",
    "| Mock | Turtle | 1 |\n",
    "| White | Rabbit | 1 |\n",
    "| Hare | March | 1 |\n",
    "| said | Turtle | 1 |\n",
    "| said | Mock | 1 |\n",
    "| March | Hare | 0.97 |\n",
    "| Turtle | Mock | 0.97 |\n",
    "\n",
    "It appears that the names of characters such as “Mock Turtle” and “March Hare” appeared most frequently with each other, which makes sense as the story revolves around the main characters. Similarly, speaking roles for these main characters would occur the most frequently, resulting in their names being associated with “said”. \n",
    "\n",
    "Taking a step forward by setting lowerBoundMinSupport = 0.05 results in 13 rules found. Similar to the previous settings, there were pairs of antecedent-consequent compliments. The new additions added were:\n",
    "\n",
    "### lowerBoundMinSupport = 0.005\n",
    "| Antecedent | Consequent | Confidence |\n",
    "| --- | --- | --- |\n",
    "| join | dance | 1 |\n",
    "| said | White | 1 |\n",
    "| said | Hare | 1 |\n",
    "| said, March | Hare | 0.94 |\n",
    "| Of | course | 0.91 |\n",
    "| glass | little | 0.9 |\n",
    "\n",
    "More statements associated with “said” were added. Then, it appears there are multiple instances of the affirmation “Of course”, the act of “join dance”, and descriptions of the “little glass”. These sets appears 9-10 times, compared to the first set which appears 30 times each.\n",
    "\n",
    "When lowerBoundMinSupport = 0.003, rules begin to appear that have approximately nine or less occurrences in the set of associations. This results in more items set Antecdents of size two or greater. Furthermore, associations with \"Alice\" begin to appear more. Sets associated with “Alice” are words such as “thought, get”, “thought, might”, “Turtle”, “White”. At around lowerBoundMinSupport = 0.0025, there begins to appear items set Antecdents of size three or greater; with these sets occurring at a frequency of five or less. "
   ]
  },
  {
   "cell_type": "markdown",
   "id": "5bab2c81",
   "metadata": {},
   "source": [
    "### Compare prediction results from single-layer neural network vs. multi-layer neural network"
   ]
  },
  {
   "cell_type": "code",
   "execution_count": 12,
   "id": "101ebeb7",
   "metadata": {},
   "outputs": [],
   "source": [
    "%matplotlib inline\n",
    "import matplotlib.pyplot as plt\n",
    "import numpy as np\n",
    "from numpy.random import ranf\n",
    "from sklearn.svm import SVC\n",
    "from sklearn.neural_network import MLPClassifier"
   ]
  },
  {
   "cell_type": "markdown",
   "id": "bc6aa0fd",
   "metadata": {},
   "source": [
    "### Load MNIST files"
   ]
  },
  {
   "cell_type": "code",
   "execution_count": 13,
   "id": "8886b2a1",
   "metadata": {},
   "outputs": [
    {
     "name": "stdout",
     "output_type": "stream",
     "text": [
      "Rows= 60000, columns= 784\n",
      "Rows= 10000, columns= 784\n"
     ]
    }
   ],
   "source": [
    "import os\n",
    "import struct\n",
    "import numpy as np\n",
    "import gzip\n",
    " \n",
    "def load_mnist(path, kind='train'):\n",
    "    \"\"\"Load MNIST data from `path`\"\"\"\n",
    "    labels_path = os.path.join(path, \n",
    "                               '%s-labels-idx1-ubyte.gz' % kind)\n",
    "    images_path = os.path.join(path, \n",
    "                               '%s-images-idx3-ubyte.gz' % kind)\n",
    "        \n",
    "    with gzip.open(labels_path, 'rb') as lbpath:\n",
    "        lbpath.read(8)\n",
    "        buffer = lbpath.read()\n",
    "        labels = np.frombuffer(buffer, dtype=np.uint8)\n",
    "\n",
    "    with gzip.open(images_path, 'rb') as imgpath:\n",
    "        imgpath.read(16)\n",
    "        buffer = imgpath.read()\n",
    "        images = np.frombuffer(buffer, \n",
    "                               dtype=np.uint8).reshape(\n",
    "            len(labels), 784)\n",
    " \n",
    "    return images, labels\n",
    "\n",
    "\n",
    "X_train_mnist, y_train_mnist = load_mnist('Datasets/mnist/', kind='train')\n",
    "print(f'Rows= {X_train_mnist.shape[0]}, columns= {X_train_mnist.shape[1]}')\n",
    "\n",
    "X_test_mnist, y_test_mnist = load_mnist('Datasets/mnist', kind='t10k')\n",
    "print(f'Rows= {X_test_mnist.shape[0]}, columns= {X_test_mnist.shape[1]}')"
   ]
  },
  {
   "cell_type": "code",
   "execution_count": 14,
   "id": "55aa1717",
   "metadata": {},
   "outputs": [],
   "source": [
    "class NeuralNetMLP(object):\n",
    "\n",
    "    def __init__(self, n_hidden=30, epochs=100, eta=0.001, minibatch_size=1, seed=None):\n",
    "        self.random = np.random.RandomState(seed)  # used to randomize weights\n",
    "        self.n_hidden = n_hidden  # size of the hidden layer\n",
    "        self.epochs = epochs  # number of iterations\n",
    "        self.eta = eta  # learning rate\n",
    "        self.minibatch_size = minibatch_size  # size of training batch - 1 would not work\n",
    "        self.w_out, self.w_h = None, None\n",
    "    \n",
    "    @staticmethod\n",
    "    def onehot(_y, _n_classes):  # one hot encode the input class y\n",
    "        onehot = np.zeros((_n_classes, _y.shape[0]))\n",
    "        for idx, val in enumerate(_y.astype(int)):\n",
    "            onehot[val, idx] = 1.0\n",
    "        return onehot.T\n",
    "    \n",
    "    @staticmethod\n",
    "    def sigmoid(_z):  # Eq 1\n",
    "        return 1.0 / (1.0 + np.exp(-np.clip(_z, -250, 250)))\n",
    "\n",
    "    def _forward(self, _X):  # Eq 2\n",
    "        \n",
    "        # step 1: net input of hidden layer\n",
    "        z_h = np.dot(_X, self.w_h)\n",
    "        \n",
    "        # step 2: activation of hidden layer\n",
    "        a_h = self.sigmoid(z_h)\n",
    "        \n",
    "        # step 3: net input of output layer\n",
    "        z_out = np.dot(a_h, self.w_out)\n",
    "        \n",
    "        # step 4: activation output layer\n",
    "        a_out = self.sigmoid(z_out)\n",
    "        return z_h, a_h, z_out, a_out\n",
    "\n",
    "    @staticmethod\n",
    "    def compute_cost(y_enc, output):  # Eq 4\n",
    "        term1 = -y_enc * (np.log(output))\n",
    "        term2 = (1.0-y_enc) * np.log(1.0-output)\n",
    "        cost = np.sum(term1 - term2)\n",
    "        return cost\n",
    "\n",
    "    def predict(self, _X):\n",
    "        z_h, a_h, z_out, a_out = self._forward(_X)\n",
    "        ypred = np.argmax(z_out, axis=1)\n",
    "        return ypred\n",
    "\n",
    "    def fit(self, _X_train, _y_train, _X_valid, _y_valid):\n",
    "        import sys\n",
    "        n_output = np.unique(_y_train).shape[0]  # number of class labels\n",
    "        n_features = _X_train.shape[1]\n",
    "        self.w_out = self.random.normal(loc=0.0, scale=0.1, size=(self.n_hidden, n_output))\n",
    "        self.w_h = self.random.normal(loc=0.0, scale=0.1, size=(n_features, self.n_hidden))\n",
    "        y_train_enc = self.onehot(_y_train, n_output)  # one-hot encode original y\n",
    "        for ei in range(self.epochs):  # Ideally must shuffle at every epoch\n",
    "            indices = np.arange(_X_train.shape[0])\n",
    "            for start_idx in range(0, indices.shape[0] - self.minibatch_size + 1, self.minibatch_size):\n",
    "                batch_idx = indices[start_idx:start_idx + self.minibatch_size]               \n",
    "                z_h, a_h, z_out, a_out = self._forward(_X_train[batch_idx])  # neural network model                \n",
    "                sigmoid_derivative_h = a_h * (1.0-a_h)  # Eq 3\n",
    "                delta_out = a_out - y_train_enc[batch_idx]  # Eq 5\n",
    "                delta_h = (np.dot(delta_out, self.w_out.T) * sigmoid_derivative_h)  # Eq 6\n",
    "                grad_w_out = np.dot(a_h.T, delta_out)  # Eq 7\n",
    "                grad_w_h = np.dot(_X_train[batch_idx].T, delta_h)  # Eq 8\n",
    "                self.w_out -= self.eta*grad_w_out  # Eq 9\n",
    "                self.w_h -= self.eta*grad_w_h  # Eq 9\n",
    "\n",
    "            # Evaluation after each epoch during training\n",
    "            z_h, a_h, z_out, a_out = self._forward(_X_train)\n",
    "            cost = self.compute_cost(y_enc=y_train_enc, output=a_out)\n",
    "            y_train_pred = self.predict(_X_train)  # monitoring training progress through reclassification\n",
    "            y_valid_pred = self.predict(_X_valid)  # monitoring training progress through validation\n",
    "            train_acc = ((np.sum(_y_train == y_train_pred)).astype(float) / _X_train.shape[0])\n",
    "            valid_acc = ((np.sum(_y_valid == y_valid_pred)).astype(float) / _X_valid.shape[0])\n",
    "            sys.stderr.write('\\r%d/%d | Cost: %.2f ' '| Train/Valid Acc.: %.2f%%/%.2f%% '%\n",
    "                (ei+1, self.epochs, cost, train_acc*100, valid_acc*100))\n",
    "            sys.stderr.flush()\n",
    "        return self"
   ]
  },
  {
   "cell_type": "markdown",
   "id": "8b96b7b7",
   "metadata": {},
   "source": [
    "### 2-Layer Neural Network"
   ]
  },
  {
   "cell_type": "code",
   "execution_count": 16,
   "id": "f9ccb75f",
   "metadata": {},
   "outputs": [],
   "source": [
    "class NeuralNetMLP_2Layers(object):\n",
    "\n",
    "    def __init__(self, n_hidden=30, epochs=100, eta=0.001, minibatch_size=1, seed=None):\n",
    "        self.random = np.random.RandomState(seed)  # used to randomize weights\n",
    "        self.n_hidden = n_hidden  # size of the hidden layer\n",
    "        self.epochs = epochs  # number of iterations\n",
    "        self.eta = eta  # learning rate\n",
    "        self.minibatch_size = minibatch_size  # size of training batch - 1 would not work\n",
    "        self.w_out, self.w1_h, self.w2_h = None, None, None\n",
    "    \n",
    "    @staticmethod\n",
    "    def onehot(_y, _n_classes):  # one hot encode the input class y\n",
    "        onehot = np.zeros((_n_classes, _y.shape[0]))\n",
    "        for idx, val in enumerate(_y.astype(int)):\n",
    "            onehot[val, idx] = 1.0\n",
    "        return onehot.T\n",
    "    \n",
    "    @staticmethod\n",
    "    def sigmoid(_z):  # Eq 1\n",
    "        return 1.0 / (1.0 + np.exp(-np.clip(_z, -250, 250)))\n",
    "\n",
    "    def _forward(self, _X):  # Eq 2\n",
    "        \n",
    "        # hidden layer 1 output\n",
    "        z1_h = np.dot(_X, self.w1_h)\n",
    "\n",
    "        # activation of hidden layer 1\n",
    "        a1_h = self.sigmoid(z1_h)\n",
    "\n",
    "        # hidden layer 2 output\n",
    "        z2_h = np.dot(a1_h, self.w2_h)\n",
    "\n",
    "        # activation of hidden layer 2\n",
    "        a2_h = self.sigmoid(z2_h)\n",
    "        \n",
    "        # net input of output layer\n",
    "        z_out = np.dot(a2_h, self.w_out)\n",
    "        a_out = self.sigmoid(z_out)\n",
    "        \n",
    "        return z1_h, a1_h, z2_h, a2_h, z_out, a_out\n",
    "\n",
    "    @staticmethod\n",
    "    def compute_cost(y_enc, output):  # Eq 4\n",
    "        term1 = -y_enc * (np.log(output))\n",
    "        term2 = (1.0-y_enc) * np.log(1.0-output)\n",
    "        cost = np.sum(term1 - term2)\n",
    "        return cost\n",
    "\n",
    "    def predict(self, _X):\n",
    "        z1_h, a1_h, z2_h, a2_h, z_out, a_out = self._forward(_X)\n",
    "        ypred = np.argmax(z_out, axis=1)\n",
    "        return ypred\n",
    "\n",
    "    def fit(self, _X_train, _y_train, _X_valid, _y_valid):\n",
    "        import sys\n",
    "        n_output = np.unique(_y_train).shape[0]  # number of class labels\n",
    "        n_features = _X_train.shape[1]\n",
    "        self.w_out = self.random.normal(loc=0.0, scale=0.1, size=(self.n_hidden, n_output))\n",
    "        self.w1_h = self.random.normal(loc=0.0, scale=0.1, size=(n_features, self.n_hidden))\n",
    "        self.w2_h = self.random.normal(loc=0.0, scale=0.1, size=(self.n_hidden, self.n_hidden))\n",
    "        y_train_enc = self.onehot(_y_train, n_output)  # one-hot encode original y\n",
    "        for ei in range(self.epochs):  # Ideally must shuffle at every epoch\n",
    "            indices = np.arange(_X_train.shape[0])\n",
    "            for start_idx in range(0, indices.shape[0] - self.minibatch_size + 1, self.minibatch_size):\n",
    "                batch_idx = indices[start_idx:start_idx + self.minibatch_size]               \n",
    "                z1_h, a1_h, z2_h, a2_h, z_out, a_out = self._forward(_X_train[batch_idx])  # neural network model                \n",
    "                \n",
    "                sigmoid_derivative_h1 = a1_h * (1.0-a1_h)  # Eq 3\n",
    "                sigmoid_derivative_h2 = a2_h * (1.0-a2_h)  # Eq 3\n",
    "                                \n",
    "                delta_out = a_out - y_train_enc[batch_idx]  # Eq 5\n",
    "                \n",
    "                delta_h2 = (np.dot(delta_out, self.w_out.T) * sigmoid_derivative_h2)  # Eq 6\n",
    "                delta_h1 = (np.dot(delta_h2, self.w2_h.T) * sigmoid_derivative_h1)    # Eq 6\n",
    "                                \n",
    "                grad_w2_out = np.dot(a2_h.T, delta_out) # Eq 7\n",
    "                grad_w1_out = np.dot(a1_h.T, delta_h2)  # Eq 7\n",
    "                                  \n",
    "                grad_w1_h = np.dot(_X_train[batch_idx].T, delta_h1)  # Eq 8\n",
    "                grad_w2_h = np.dot(a1_h.T, delta_h2)                 # Eq 8\n",
    "                                \n",
    "                self.w_out -= self.eta*grad_w2_out  # Eq 9\n",
    "                self.w1_h -= self.eta*grad_w1_h     # Eq 9 \n",
    "                self.w2_h -= self.eta*grad_w2_h     # Eq 9\n",
    "                \n",
    "            # Evaluation after each epoch during training\n",
    "            z1_h, a1_h, z2_h, a2_h, z_out, a_out = self._forward(_X_train)\n",
    "            cost = self.compute_cost(y_enc=y_train_enc, output=a_out)\n",
    "            y_train_pred = self.predict(_X_train)  # monitoring training progress through reclassification\n",
    "            y_valid_pred = self.predict(_X_valid)  # monitoring training progress through validation\n",
    "            train_acc = ((np.sum(_y_train == y_train_pred)).astype(float) / _X_train.shape[0])\n",
    "            valid_acc = ((np.sum(_y_valid == y_valid_pred)).astype(float) / _X_valid.shape[0])\n",
    "            sys.stderr.write('\\r%d/%d | Cost: %.2f ' '| Train/Valid Acc.: %.2f%%/%.2f%% '%\n",
    "                (ei+1, self.epochs, cost, train_acc*100, valid_acc*100))\n",
    "            sys.stderr.flush()\n",
    "        return self"
   ]
  },
  {
   "cell_type": "markdown",
   "id": "bf51c10d",
   "metadata": {},
   "source": [
    "### 1-Layer - 300 epochs"
   ]
  },
  {
   "cell_type": "code",
   "execution_count": 15,
   "id": "bdaba72f",
   "metadata": {},
   "outputs": [
    {
     "name": "stderr",
     "output_type": "stream",
     "text": [
      "300/300 | Cost: 32420.83 | Train/Valid Acc.: 90.86%/92.62% "
     ]
    }
   ],
   "source": [
    "# Define and fit the neural network\n",
    "nn = NeuralNetMLP(n_hidden=20, epochs=300, eta=0.0005, minibatch_size=100, seed=1)\n",
    "\n",
    "nn.fit(X_train_mnist[:55000], y_train_mnist[:55000], X_train_mnist[55000:], y_train_mnist[55000:]) ;"
   ]
  },
  {
   "cell_type": "markdown",
   "id": "29c19048",
   "metadata": {},
   "source": [
    "### 2-Layer - 300 epochs"
   ]
  },
  {
   "cell_type": "code",
   "execution_count": 17,
   "id": "49fbb853",
   "metadata": {},
   "outputs": [
    {
     "name": "stderr",
     "output_type": "stream",
     "text": [
      "300/300 | Cost: 27624.69 | Train/Valid Acc.: 91.76%/93.18% "
     ]
    }
   ],
   "source": [
    "# Define and fit the neural network\n",
    "nn = NeuralNetMLP_2Layers(n_hidden=20, epochs=300, eta=0.0005, minibatch_size=100, seed=1)\n",
    "\n",
    "nn.fit(X_train_mnist[:55000], y_train_mnist[:55000], X_train_mnist[55000:], y_train_mnist[55000:]) ;"
   ]
  },
  {
   "cell_type": "markdown",
   "id": "a54b1356",
   "metadata": {},
   "source": [
    "Slightly improved performance with the 2-hidden-layer MLP, with an increase of approximately 1% improvement. "
   ]
  }
 ],
 "metadata": {
  "kernelspec": {
   "display_name": "Python 3 (ipykernel)",
   "language": "python",
   "name": "python3"
  },
  "language_info": {
   "codemirror_mode": {
    "name": "ipython",
    "version": 3
   },
   "file_extension": ".py",
   "mimetype": "text/x-python",
   "name": "python",
   "nbconvert_exporter": "python",
   "pygments_lexer": "ipython3",
   "version": "3.11.9"
  },
  "widgets": {
   "application/vnd.jupyter.widget-state+json": {
    "state": {},
    "version_major": 2,
    "version_minor": 0
   }
  }
 },
 "nbformat": 4,
 "nbformat_minor": 5
}
