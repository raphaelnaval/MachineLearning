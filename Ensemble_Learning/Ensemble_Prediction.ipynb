{
 "cells": [
  {
   "cell_type": "markdown",
   "id": "9918684e",
   "metadata": {},
   "source": [
    "## Purpose:\n",
    "The goal of this project is to use ensemble learners to generate predictions. "
   ]
  },
  {
   "cell_type": "markdown",
   "id": "39a6e9ad",
   "metadata": {},
   "source": [
    "## Pre-processing"
   ]
  },
  {
   "cell_type": "code",
   "execution_count": 1,
   "id": "95de0b6a",
   "metadata": {
    "scrolled": true
   },
   "outputs": [
    {
     "data": {
      "text/html": [
       "<div>\n",
       "<style scoped>\n",
       "    .dataframe tbody tr th:only-of-type {\n",
       "        vertical-align: middle;\n",
       "    }\n",
       "\n",
       "    .dataframe tbody tr th {\n",
       "        vertical-align: top;\n",
       "    }\n",
       "\n",
       "    .dataframe thead th {\n",
       "        text-align: right;\n",
       "    }\n",
       "</style>\n",
       "<table border=\"1\" class=\"dataframe\">\n",
       "  <thead>\n",
       "    <tr style=\"text-align: right;\">\n",
       "      <th></th>\n",
       "      <th>Age</th>\n",
       "      <th>Sex</th>\n",
       "      <th>ChestPainType</th>\n",
       "      <th>RestingBP</th>\n",
       "      <th>Cholesterol</th>\n",
       "      <th>FastingBS</th>\n",
       "      <th>RestingECG</th>\n",
       "      <th>MaxHR</th>\n",
       "      <th>ExerciseAngina</th>\n",
       "      <th>Oldpeak</th>\n",
       "      <th>ST_Slope</th>\n",
       "      <th>HeartDisease</th>\n",
       "    </tr>\n",
       "  </thead>\n",
       "  <tbody>\n",
       "    <tr>\n",
       "      <th>0</th>\n",
       "      <td>40</td>\n",
       "      <td>M</td>\n",
       "      <td>ATA</td>\n",
       "      <td>140</td>\n",
       "      <td>289</td>\n",
       "      <td>0</td>\n",
       "      <td>Normal</td>\n",
       "      <td>172</td>\n",
       "      <td>N</td>\n",
       "      <td>0.0</td>\n",
       "      <td>Up</td>\n",
       "      <td>0</td>\n",
       "    </tr>\n",
       "    <tr>\n",
       "      <th>1</th>\n",
       "      <td>49</td>\n",
       "      <td>F</td>\n",
       "      <td>NAP</td>\n",
       "      <td>160</td>\n",
       "      <td>180</td>\n",
       "      <td>0</td>\n",
       "      <td>Normal</td>\n",
       "      <td>156</td>\n",
       "      <td>N</td>\n",
       "      <td>1.0</td>\n",
       "      <td>Flat</td>\n",
       "      <td>1</td>\n",
       "    </tr>\n",
       "    <tr>\n",
       "      <th>2</th>\n",
       "      <td>37</td>\n",
       "      <td>M</td>\n",
       "      <td>ATA</td>\n",
       "      <td>130</td>\n",
       "      <td>283</td>\n",
       "      <td>0</td>\n",
       "      <td>ST</td>\n",
       "      <td>98</td>\n",
       "      <td>N</td>\n",
       "      <td>0.0</td>\n",
       "      <td>Up</td>\n",
       "      <td>0</td>\n",
       "    </tr>\n",
       "    <tr>\n",
       "      <th>3</th>\n",
       "      <td>48</td>\n",
       "      <td>F</td>\n",
       "      <td>ASY</td>\n",
       "      <td>138</td>\n",
       "      <td>214</td>\n",
       "      <td>0</td>\n",
       "      <td>Normal</td>\n",
       "      <td>108</td>\n",
       "      <td>Y</td>\n",
       "      <td>1.5</td>\n",
       "      <td>Flat</td>\n",
       "      <td>1</td>\n",
       "    </tr>\n",
       "    <tr>\n",
       "      <th>4</th>\n",
       "      <td>54</td>\n",
       "      <td>M</td>\n",
       "      <td>NAP</td>\n",
       "      <td>150</td>\n",
       "      <td>195</td>\n",
       "      <td>0</td>\n",
       "      <td>Normal</td>\n",
       "      <td>122</td>\n",
       "      <td>N</td>\n",
       "      <td>0.0</td>\n",
       "      <td>Up</td>\n",
       "      <td>0</td>\n",
       "    </tr>\n",
       "  </tbody>\n",
       "</table>\n",
       "</div>"
      ],
      "text/plain": [
       "   Age Sex ChestPainType  RestingBP  Cholesterol  FastingBS RestingECG  MaxHR  \\\n",
       "0   40   M           ATA        140          289          0     Normal    172   \n",
       "1   49   F           NAP        160          180          0     Normal    156   \n",
       "2   37   M           ATA        130          283          0         ST     98   \n",
       "3   48   F           ASY        138          214          0     Normal    108   \n",
       "4   54   M           NAP        150          195          0     Normal    122   \n",
       "\n",
       "  ExerciseAngina  Oldpeak ST_Slope  HeartDisease  \n",
       "0              N      0.0       Up             0  \n",
       "1              N      1.0     Flat             1  \n",
       "2              N      0.0       Up             0  \n",
       "3              Y      1.5     Flat             1  \n",
       "4              N      0.0       Up             0  "
      ]
     },
     "execution_count": 1,
     "metadata": {},
     "output_type": "execute_result"
    }
   ],
   "source": [
    "%matplotlib inline\n",
    "import matplotlib.pyplot as plt\n",
    "from IPython.display import display\n",
    "import numpy as np\n",
    "import pandas as pd\n",
    "import seaborn as sns; sns.set(style=\"ticks\", color_codes=True)\n",
    "\n",
    "# Load data file and print data head to check proper loading\n",
    "df = pd.read_csv('Datasets/heart_dataset.csv')\n",
    "df.head()"
   ]
  },
  {
   "cell_type": "code",
   "execution_count": 2,
   "id": "7c6e95ea",
   "metadata": {
    "scrolled": true
   },
   "outputs": [
    {
     "name": "stdout",
     "output_type": "stream",
     "text": [
      "Number of rows: 918\n"
     ]
    }
   ],
   "source": [
    "print(f'Number of rows: {df.shape[0]}')"
   ]
  },
  {
   "cell_type": "code",
   "execution_count": 3,
   "id": "70dab724",
   "metadata": {},
   "outputs": [
    {
     "name": "stdout",
     "output_type": "stream",
     "text": [
      "Training data size = 918\n",
      "Duplicates in TRAINING data = 0\n"
     ]
    }
   ],
   "source": [
    "# Check for duplicates, this adds a new column to the dataset\n",
    "df[\"is_duplicate\"]= df.duplicated()\n",
    "\n",
    "print(f\"Training data size = {len(df)}\")\n",
    "print(f\"Duplicates in TRAINING data = {len(df[df['is_duplicate']==True])}\")"
   ]
  },
  {
   "cell_type": "code",
   "execution_count": 4,
   "id": "8d5acafe",
   "metadata": {},
   "outputs": [
    {
     "name": "stdout",
     "output_type": "stream",
     "text": [
      "Training count = 918\n"
     ]
    }
   ],
   "source": [
    "# Drop the duplicate rows using index\n",
    "index_to_drop = df[df['is_duplicate']==True].index\n",
    "df.drop(index_to_drop, inplace=True)\n",
    "\n",
    "# Remove the duplicate marker column\n",
    "df.drop(columns='is_duplicate', inplace=True)\n",
    "print(f'Training count = {len(df)}')"
   ]
  },
  {
   "cell_type": "code",
   "execution_count": 5,
   "id": "4d7d9fcb",
   "metadata": {},
   "outputs": [
    {
     "data": {
      "text/plain": [
       "Age               False\n",
       "Sex               False\n",
       "ChestPainType     False\n",
       "RestingBP         False\n",
       "Cholesterol       False\n",
       "FastingBS         False\n",
       "RestingECG        False\n",
       "MaxHR             False\n",
       "ExerciseAngina    False\n",
       "Oldpeak           False\n",
       "ST_Slope          False\n",
       "HeartDisease      False\n",
       "dtype: bool"
      ]
     },
     "execution_count": 5,
     "metadata": {},
     "output_type": "execute_result"
    }
   ],
   "source": [
    "# Do we have NaN in our dataset?\n",
    "df.isnull().any()"
   ]
  },
  {
   "cell_type": "code",
   "execution_count": 6,
   "id": "e6b8391c",
   "metadata": {},
   "outputs": [
    {
     "name": "stdout",
     "output_type": "stream",
     "text": [
      "Sex ['M' 'F']\n",
      "ChestPainType ['ATA' 'NAP' 'ASY' 'TA']\n",
      "RestingECG ['Normal' 'ST' 'LVH']\n",
      "ExerciseAngina ['N' 'Y']\n",
      "ST_Slope ['Up' 'Flat' 'Down']\n"
     ]
    }
   ],
   "source": [
    "# Check unique levels and see any marker is used or left out for a missing level\n",
    "for col in df.columns:\n",
    "    if df[col].dtype == object:\n",
    "        print (col, df[col].unique())"
   ]
  },
  {
   "cell_type": "code",
   "execution_count": 7,
   "id": "d97a4f09",
   "metadata": {},
   "outputs": [],
   "source": [
    "# One-hot encoder to convert nominal features into numerical values\n",
    "def encode_onehot(_df, _f):\n",
    "    _df2 = pd.get_dummies(_df[_f], prefix='', prefix_sep='').groupby(level=0, axis=1).max().add_prefix(_f+' - ')\n",
    "    _df3 = pd.concat([_df, _df2], axis=1)\n",
    "    _df3 = _df3.drop([_f], axis=1)\n",
    "    return _df3"
   ]
  },
  {
   "cell_type": "code",
   "execution_count": 8,
   "id": "d8526e34",
   "metadata": {},
   "outputs": [],
   "source": [
    "# One hot encode nominal features\n",
    "df_o = encode_onehot(df, 'Sex')\n",
    "df_o = encode_onehot(df_o, 'ChestPainType')\n",
    "df_o = encode_onehot(df_o, 'RestingECG')\n",
    "df_o = encode_onehot(df_o, 'ExerciseAngina')\n",
    "df_o = encode_onehot(df_o, 'ST_Slope')"
   ]
  },
  {
   "cell_type": "code",
   "execution_count": 9,
   "id": "c33e6e5e",
   "metadata": {},
   "outputs": [
    {
     "data": {
      "text/html": [
       "<div>\n",
       "<style scoped>\n",
       "    .dataframe tbody tr th:only-of-type {\n",
       "        vertical-align: middle;\n",
       "    }\n",
       "\n",
       "    .dataframe tbody tr th {\n",
       "        vertical-align: top;\n",
       "    }\n",
       "\n",
       "    .dataframe thead th {\n",
       "        text-align: right;\n",
       "    }\n",
       "</style>\n",
       "<table border=\"1\" class=\"dataframe\">\n",
       "  <thead>\n",
       "    <tr style=\"text-align: right;\">\n",
       "      <th></th>\n",
       "      <th>Age</th>\n",
       "      <th>RestingBP</th>\n",
       "      <th>Cholesterol</th>\n",
       "      <th>FastingBS</th>\n",
       "      <th>MaxHR</th>\n",
       "      <th>Oldpeak</th>\n",
       "      <th>HeartDisease</th>\n",
       "      <th>Sex - F</th>\n",
       "      <th>Sex - M</th>\n",
       "      <th>ChestPainType - ASY</th>\n",
       "      <th>...</th>\n",
       "      <th>ChestPainType - NAP</th>\n",
       "      <th>ChestPainType - TA</th>\n",
       "      <th>RestingECG - LVH</th>\n",
       "      <th>RestingECG - Normal</th>\n",
       "      <th>RestingECG - ST</th>\n",
       "      <th>ExerciseAngina - N</th>\n",
       "      <th>ExerciseAngina - Y</th>\n",
       "      <th>ST_Slope - Down</th>\n",
       "      <th>ST_Slope - Flat</th>\n",
       "      <th>ST_Slope - Up</th>\n",
       "    </tr>\n",
       "  </thead>\n",
       "  <tbody>\n",
       "    <tr>\n",
       "      <th>0</th>\n",
       "      <td>40.0</td>\n",
       "      <td>140.0</td>\n",
       "      <td>289.0</td>\n",
       "      <td>0.0</td>\n",
       "      <td>172.0</td>\n",
       "      <td>0.0</td>\n",
       "      <td>0.0</td>\n",
       "      <td>0.0</td>\n",
       "      <td>1.0</td>\n",
       "      <td>0.0</td>\n",
       "      <td>...</td>\n",
       "      <td>0.0</td>\n",
       "      <td>0.0</td>\n",
       "      <td>0.0</td>\n",
       "      <td>1.0</td>\n",
       "      <td>0.0</td>\n",
       "      <td>1.0</td>\n",
       "      <td>0.0</td>\n",
       "      <td>0.0</td>\n",
       "      <td>0.0</td>\n",
       "      <td>1.0</td>\n",
       "    </tr>\n",
       "    <tr>\n",
       "      <th>1</th>\n",
       "      <td>49.0</td>\n",
       "      <td>160.0</td>\n",
       "      <td>180.0</td>\n",
       "      <td>0.0</td>\n",
       "      <td>156.0</td>\n",
       "      <td>1.0</td>\n",
       "      <td>1.0</td>\n",
       "      <td>1.0</td>\n",
       "      <td>0.0</td>\n",
       "      <td>0.0</td>\n",
       "      <td>...</td>\n",
       "      <td>1.0</td>\n",
       "      <td>0.0</td>\n",
       "      <td>0.0</td>\n",
       "      <td>1.0</td>\n",
       "      <td>0.0</td>\n",
       "      <td>1.0</td>\n",
       "      <td>0.0</td>\n",
       "      <td>0.0</td>\n",
       "      <td>1.0</td>\n",
       "      <td>0.0</td>\n",
       "    </tr>\n",
       "    <tr>\n",
       "      <th>2</th>\n",
       "      <td>37.0</td>\n",
       "      <td>130.0</td>\n",
       "      <td>283.0</td>\n",
       "      <td>0.0</td>\n",
       "      <td>98.0</td>\n",
       "      <td>0.0</td>\n",
       "      <td>0.0</td>\n",
       "      <td>0.0</td>\n",
       "      <td>1.0</td>\n",
       "      <td>0.0</td>\n",
       "      <td>...</td>\n",
       "      <td>0.0</td>\n",
       "      <td>0.0</td>\n",
       "      <td>0.0</td>\n",
       "      <td>0.0</td>\n",
       "      <td>1.0</td>\n",
       "      <td>1.0</td>\n",
       "      <td>0.0</td>\n",
       "      <td>0.0</td>\n",
       "      <td>0.0</td>\n",
       "      <td>1.0</td>\n",
       "    </tr>\n",
       "    <tr>\n",
       "      <th>3</th>\n",
       "      <td>48.0</td>\n",
       "      <td>138.0</td>\n",
       "      <td>214.0</td>\n",
       "      <td>0.0</td>\n",
       "      <td>108.0</td>\n",
       "      <td>1.5</td>\n",
       "      <td>1.0</td>\n",
       "      <td>1.0</td>\n",
       "      <td>0.0</td>\n",
       "      <td>1.0</td>\n",
       "      <td>...</td>\n",
       "      <td>0.0</td>\n",
       "      <td>0.0</td>\n",
       "      <td>0.0</td>\n",
       "      <td>1.0</td>\n",
       "      <td>0.0</td>\n",
       "      <td>0.0</td>\n",
       "      <td>1.0</td>\n",
       "      <td>0.0</td>\n",
       "      <td>1.0</td>\n",
       "      <td>0.0</td>\n",
       "    </tr>\n",
       "    <tr>\n",
       "      <th>4</th>\n",
       "      <td>54.0</td>\n",
       "      <td>150.0</td>\n",
       "      <td>195.0</td>\n",
       "      <td>0.0</td>\n",
       "      <td>122.0</td>\n",
       "      <td>0.0</td>\n",
       "      <td>0.0</td>\n",
       "      <td>0.0</td>\n",
       "      <td>1.0</td>\n",
       "      <td>0.0</td>\n",
       "      <td>...</td>\n",
       "      <td>1.0</td>\n",
       "      <td>0.0</td>\n",
       "      <td>0.0</td>\n",
       "      <td>1.0</td>\n",
       "      <td>0.0</td>\n",
       "      <td>1.0</td>\n",
       "      <td>0.0</td>\n",
       "      <td>0.0</td>\n",
       "      <td>0.0</td>\n",
       "      <td>1.0</td>\n",
       "    </tr>\n",
       "  </tbody>\n",
       "</table>\n",
       "<p>5 rows × 21 columns</p>\n",
       "</div>"
      ],
      "text/plain": [
       "    Age  RestingBP  Cholesterol  FastingBS  MaxHR  Oldpeak  HeartDisease  \\\n",
       "0  40.0      140.0        289.0        0.0  172.0      0.0           0.0   \n",
       "1  49.0      160.0        180.0        0.0  156.0      1.0           1.0   \n",
       "2  37.0      130.0        283.0        0.0   98.0      0.0           0.0   \n",
       "3  48.0      138.0        214.0        0.0  108.0      1.5           1.0   \n",
       "4  54.0      150.0        195.0        0.0  122.0      0.0           0.0   \n",
       "\n",
       "   Sex - F  Sex - M  ChestPainType - ASY  ...  ChestPainType - NAP  \\\n",
       "0      0.0      1.0                  0.0  ...                  0.0   \n",
       "1      1.0      0.0                  0.0  ...                  1.0   \n",
       "2      0.0      1.0                  0.0  ...                  0.0   \n",
       "3      1.0      0.0                  1.0  ...                  0.0   \n",
       "4      0.0      1.0                  0.0  ...                  1.0   \n",
       "\n",
       "   ChestPainType - TA  RestingECG - LVH  RestingECG - Normal  RestingECG - ST  \\\n",
       "0                 0.0               0.0                  1.0              0.0   \n",
       "1                 0.0               0.0                  1.0              0.0   \n",
       "2                 0.0               0.0                  0.0              1.0   \n",
       "3                 0.0               0.0                  1.0              0.0   \n",
       "4                 0.0               0.0                  1.0              0.0   \n",
       "\n",
       "   ExerciseAngina - N  ExerciseAngina - Y  ST_Slope - Down  ST_Slope - Flat  \\\n",
       "0                 1.0                 0.0              0.0              0.0   \n",
       "1                 1.0                 0.0              0.0              1.0   \n",
       "2                 1.0                 0.0              0.0              0.0   \n",
       "3                 0.0                 1.0              0.0              1.0   \n",
       "4                 1.0                 0.0              0.0              0.0   \n",
       "\n",
       "   ST_Slope - Up  \n",
       "0            1.0  \n",
       "1            0.0  \n",
       "2            1.0  \n",
       "3            0.0  \n",
       "4            1.0  \n",
       "\n",
       "[5 rows x 21 columns]"
      ]
     },
     "execution_count": 9,
     "metadata": {},
     "output_type": "execute_result"
    }
   ],
   "source": [
    "# Check one hot encoding\n",
    "df_o = df_o.astype(float)\n",
    "df_o.head()"
   ]
  },
  {
   "cell_type": "code",
   "execution_count": 10,
   "id": "0ba2bc4d",
   "metadata": {},
   "outputs": [],
   "source": [
    "from sklearn.model_selection import StratifiedKFold\n",
    "from sklearn.metrics import accuracy_score\n",
    "\n",
    "# 10-fold CV evaluation of a classifier\n",
    "def eval_classifier(_clf, _X, _y):\n",
    "    accuracies = []\n",
    "    kf = StratifiedKFold(n_splits=10, shuffle=True, random_state=0)\n",
    "    for train_index, test_index in kf.split(_X, _y):\n",
    "        _clf.fit(_X[train_index], _y[train_index])\n",
    "        y_pred = _clf.predict(_X[test_index])\n",
    "        accuracies += [accuracy_score(_y[test_index], y_pred)]\n",
    "    return np.array(accuracies)"
   ]
  },
  {
   "cell_type": "code",
   "execution_count": 11,
   "id": "c8bcd0d0",
   "metadata": {},
   "outputs": [],
   "source": [
    "# Product datasets containing independent variables and dependent variable\n",
    "X = df_o.loc[:, df_o.columns != 'HeartDisease'].values\n",
    "y = df_o.loc[:, df_o.columns == 'HeartDisease'].values.ravel()"
   ]
  },
  {
   "cell_type": "markdown",
   "id": "3c94480d",
   "metadata": {},
   "source": [
    "### Naive Bayes"
   ]
  },
  {
   "cell_type": "code",
   "execution_count": 12,
   "id": "528ff512",
   "metadata": {},
   "outputs": [
    {
     "name": "stdout",
     "output_type": "stream",
     "text": [
      "Naive Bayes CV accuracy=0.86 ±0.034\n"
     ]
    }
   ],
   "source": [
    "from sklearn.naive_bayes import GaussianNB\n",
    "\n",
    "acc = eval_classifier(GaussianNB(),\n",
    "                      X, y)\n",
    "print(f'Naive Bayes CV accuracy={np.mean(acc):.2f} {chr(177)}{np.std(acc):.3f}')"
   ]
  },
  {
   "cell_type": "markdown",
   "id": "8786db85",
   "metadata": {},
   "source": [
    "### SVC - Linear"
   ]
  },
  {
   "cell_type": "code",
   "execution_count": 13,
   "id": "8be3b093",
   "metadata": {},
   "outputs": [
    {
     "name": "stdout",
     "output_type": "stream",
     "text": [
      "Linear SVC CV accuracy=0.86 ±0.030\n"
     ]
    }
   ],
   "source": [
    "from sklearn.pipeline import make_pipeline\n",
    "from sklearn.preprocessing import StandardScaler\n",
    "from sklearn.svm import SVC\n",
    "\n",
    "svm_linear = make_pipeline(StandardScaler(), \n",
    "                           SVC(kernel='linear', probability=True))\n",
    "\n",
    "acc = eval_classifier(svm_linear,\n",
    "                      X, y)\n",
    "print(f'Linear SVC CV accuracy={np.mean(acc):.2f} {chr(177)}{np.std(acc):.3f}')"
   ]
  },
  {
   "cell_type": "markdown",
   "id": "c2e32ae9",
   "metadata": {},
   "source": [
    "### Neural Network - MLP Classifier"
   ]
  },
  {
   "cell_type": "code",
   "execution_count": 14,
   "id": "763299cd",
   "metadata": {
    "scrolled": true
   },
   "outputs": [
    {
     "name": "stdout",
     "output_type": "stream",
     "text": [
      "Neural Network CV accuracy=0.82 ±0.048\n"
     ]
    }
   ],
   "source": [
    "from sklearn.neural_network import MLPClassifier\n",
    "\n",
    "acc = eval_classifier(MLPClassifier(hidden_layer_sizes=(50,100),max_iter=500),\n",
    "                      X, y)\n",
    "print(f'Neural Network CV accuracy={np.mean(acc):.2f} {chr(177)}{np.std(acc):.3f}')"
   ]
  },
  {
   "cell_type": "markdown",
   "id": "42097cb3",
   "metadata": {},
   "source": [
    "### Decision Tree Classifier"
   ]
  },
  {
   "cell_type": "code",
   "execution_count": 15,
   "id": "c165d90d",
   "metadata": {},
   "outputs": [
    {
     "name": "stdout",
     "output_type": "stream",
     "text": [
      "Decision Tree CV accuracy=0.79 ±0.045\n"
     ]
    }
   ],
   "source": [
    "from sklearn.tree import DecisionTreeClassifier\n",
    "\n",
    "acc = eval_classifier(DecisionTreeClassifier(),\n",
    "                      X, y)\n",
    "print(f'Decision Tree CV accuracy={np.mean(acc):.2f} {chr(177)}{np.std(acc):.3f}')"
   ]
  },
  {
   "cell_type": "markdown",
   "id": "3af3e152",
   "metadata": {},
   "source": [
    "### Random Forest"
   ]
  },
  {
   "cell_type": "code",
   "execution_count": 16,
   "id": "37ad03a4",
   "metadata": {},
   "outputs": [
    {
     "name": "stdout",
     "output_type": "stream",
     "text": [
      "Random Forest CV accuracy=0.88 ±0.039\n"
     ]
    }
   ],
   "source": [
    "from sklearn.ensemble import RandomForestClassifier\n",
    "\n",
    "acc = eval_classifier(RandomForestClassifier(n_estimators=200, max_depth=5, random_state=0, n_jobs=4),\n",
    "                      X, y)\n",
    "print(f'Random Forest CV accuracy={np.mean(acc):.2f} {chr(177)}{np.std(acc):.3f}')"
   ]
  },
  {
   "cell_type": "markdown",
   "id": "e6ecd966",
   "metadata": {},
   "source": [
    "# Question 2"
   ]
  },
  {
   "cell_type": "code",
   "execution_count": 17,
   "id": "ec29ae6c",
   "metadata": {},
   "outputs": [],
   "source": [
    "# Helper arrays to be used for looping through each classifier\n",
    "classifiers = [GaussianNB(), svm_linear, \n",
    "               MLPClassifier(hidden_layer_sizes=(5, 5),max_iter=30, tol=1e-1), DecisionTreeClassifier(max_depth = 5, max_features = 5)]\n",
    "clf_names = [\"Naive Bayes\", \"SVM Linear\", \"MLP Classifier\", \"DecisionTree\"]"
   ]
  },
  {
   "cell_type": "code",
   "execution_count": 18,
   "id": "7b9928cf",
   "metadata": {},
   "outputs": [],
   "source": [
    "from sklearn.model_selection import train_test_split\n",
    "import copy\n",
    "\n",
    "# Generates 100 unique classifiers and returns the array containing them\n",
    "def runner(_clf, _niters):\n",
    "    return [copy.deepcopy(_clf) for _ in range(_niters)]"
   ]
  },
  {
   "cell_type": "code",
   "execution_count": 20,
   "id": "7933e5f5",
   "metadata": {},
   "outputs": [
    {
     "name": "stdout",
     "output_type": "stream",
     "text": [
      "Naive Bayes Ensemble - first classifier accuracy = 0.902 \n",
      "SVM Linear Ensemble - first classifier accuracy = 0.908 \n",
      "MLP Classifier Ensemble - first classifier accuracy = 0.576 \n",
      "DecisionTree Ensemble - first classifier accuracy = 0.826 \n"
     ]
    }
   ],
   "source": [
    "from sklearn.model_selection import train_test_split\n",
    "import warnings\n",
    "\n",
    "# Generates 100 classifiers for each classifer in Question 1. It then prints out the accuracy of the\n",
    "# first classifier in the ensemble. \n",
    "with warnings.catch_warnings():\n",
    "    warnings.simplefilter(\"ignore\")\n",
    "    for counter in range(len(clf_names)):\n",
    "        ensemble_array = runner(classifiers[counter], 100)\n",
    "        X_train, X_test, y_train, y_test = train_test_split(X, y, test_size=0.20, random_state=1)\n",
    "        temp_clf = ensemble_array[0].fit(X_train, y_train)\n",
    "        y_pred = temp_clf.predict(X_test)\n",
    "        acc = [accuracy_score(y_test, y_pred)]\n",
    "    \n",
    "        print(f'{clf_names[counter]} Ensemble - first classifier accuracy = {acc[0]:.3f} ')    "
   ]
  },
  {
   "cell_type": "markdown",
   "id": "3c8cc10a",
   "metadata": {},
   "source": [
    "## Question 3"
   ]
  },
  {
   "cell_type": "code",
   "execution_count": 21,
   "id": "4b2fcdc6",
   "metadata": {},
   "outputs": [],
   "source": [
    "import math \n",
    "import random\n",
    "\n",
    "# Input - _ensemble_array is the array containing multiple copies of a single classifier\n",
    "# Input - _subsample is a float value for subsample training data sizes\n",
    "# This method will fit all iterations of an ensemble with a subset of random values from the training\n",
    "# data set. It will then return an array containing the fitted classifiers obtained from above.\n",
    "def ensemble_fit(_ensemble_array, _X, _y, _subsample):\n",
    "    clf_fitted = []    \n",
    "    for counter in range(len(_ensemble_array)):\n",
    "        X_train, X_test, y_train, y_test = train_test_split(_X, _y, \n",
    "                                                            train_size=_subsample, \n",
    "                                                            stratify = _y, \n",
    "                                                            random_state=counter)\n",
    "        trained_clf = _ensemble_array[counter].fit(X_train, y_train) \n",
    "        clf_fitted.append(trained_clf)\n",
    "    return clf_fitted"
   ]
  },
  {
   "cell_type": "markdown",
   "id": "7201bcbf",
   "metadata": {},
   "source": [
    "## Question 4"
   ]
  },
  {
   "cell_type": "code",
   "execution_count": 22,
   "id": "712478b7",
   "metadata": {},
   "outputs": [],
   "source": [
    "from statistics import mode\n",
    "\n",
    "# Input - _fit_ensemble_array is the array of classifiers that have been fitted with training data\n",
    "# This method will take an ensemble containing fitted classifiers and use it to compute the predicted\n",
    "# outputs for a dataset. It will then return the array of predictions. \n",
    "def ensemble_predict(_fit_ensemble_array, _X):   \n",
    "    y_pred_ensemble, y_prob_ensemble = [], []     \n",
    "    \n",
    "    for counter in range(len(_fit_ensemble_array)):\n",
    "        y_pred_temp = _fit_ensemble_array[counter].predict(_X)\n",
    "        y_pred_ensemble.append(y_pred_temp)  \n",
    "    y_pred = []  \n",
    "    for counter2 in range(len(_X)):\n",
    "        y_pred_temp = map(lambda x: x[counter2], y_pred_ensemble)\n",
    "        final_value = mode(y_pred_temp)\n",
    "        y_pred.append(final_value)\n",
    "        \n",
    "    return y_pred"
   ]
  },
  {
   "cell_type": "markdown",
   "id": "b1a3f90a",
   "metadata": {},
   "source": [
    "## Question 5"
   ]
  },
  {
   "cell_type": "code",
   "execution_count": 23,
   "id": "877ebc60",
   "metadata": {},
   "outputs": [],
   "source": [
    "# Method that will evaluate the accuracy of an ensemble classifier. It will generate an array of \n",
    "# accuracies for the ensemble and return it. \n",
    "def ensemble_evaluate(_clf, _X, _y, _niters, _subsample):\n",
    "    accuracies = []\n",
    "    clf_arrays =  runner(_clf, _niters)\n",
    "    \n",
    "    kf = StratifiedKFold(n_splits=10, shuffle=True, random_state=1)\n",
    "    for train_index, test_index in kf.split(_X, _y):        \n",
    "        fitted_ensemble = ensemble_fit(clf_arrays, _X[train_index], _y[train_index], _subsample)       \n",
    "        y_pred = ensemble_predict(fitted_ensemble, _X[test_index])                   \n",
    "        accuracies += [accuracy_score(_y[test_index], y_pred)]                \n",
    "    return np.array(accuracies)"
   ]
  },
  {
   "cell_type": "code",
   "execution_count": 24,
   "id": "c5164438",
   "metadata": {},
   "outputs": [
    {
     "name": "stdout",
     "output_type": "stream",
     "text": [
      "Naive Bayes - Subsample 0.2 - Acc = 0.858 ±0.045\n",
      "Naive Bayes - Subsample 0.05 - Acc = 0.862 ±0.046\n",
      "Decision Tree - Subsample 0.2 - Acc = 0.870 ±0.038\n",
      "Decision Tree - Subsample 0.05 - Acc = 0.856 ±0.046\n"
     ]
    }
   ],
   "source": [
    "subsample_array = [0.2, 0.05]\n",
    "\n",
    "# Prints out the accuracy and standard deviation of running an ensemble classifier using Naive-Bayes and\n",
    "# DecisionTreeClassifier. It compares the two against one another with the sub-sample sizes 0.2 and 0.05.\n",
    "# Comprehensive breakdown of each classifier is presented in the next question.\n",
    "for count in range(len(subsample_array)):\n",
    "    acc = ensemble_evaluate(GaussianNB(), X, y, 100, subsample_array[count])\n",
    "    print(f'Naive Bayes - Subsample {subsample_array[count]} - Acc = {np.mean(acc):.3f} {chr(177)}{np.std(acc):.3f}')\n",
    "    \n",
    "for count in range(len(subsample_array)):\n",
    "    acc = ensemble_evaluate(DecisionTreeClassifier(), X, y, 100, subsample_array[count])\n",
    "    print(f'Decision Tree - Subsample {subsample_array[count]} - Acc = {np.mean(acc):.3f} {chr(177)}{np.std(acc):.3f}')"
   ]
  },
  {
   "cell_type": "markdown",
   "id": "47e13ff9",
   "metadata": {},
   "source": [
    "## Question 6"
   ]
  },
  {
   "cell_type": "code",
   "execution_count": 25,
   "id": "65048429",
   "metadata": {
    "scrolled": false
   },
   "outputs": [
    {
     "name": "stdout",
     "output_type": "stream",
     "text": [
      "Naive Bayes Ensemble Subsample 0.2 - Acc = 0.858 ±0.045\n",
      "Naive Bayes Regular Subsample 0.2 - Acc = 0.863 ±0.043\n",
      "\n",
      "Naive Bayes Ensemble Subsample 0.1 - Acc = 0.857 ±0.048\n",
      "Naive Bayes Regular Subsample 0.1 - Acc = 0.838 ±0.051\n",
      "\n",
      "Naive Bayes Ensemble Subsample 0.05 - Acc = 0.862 ±0.046\n",
      "Naive Bayes Regular Subsample 0.05 - Acc = 0.838 ±0.057\n",
      "\n",
      "Naive Bayes Ensemble Subsample 0.03 - Acc = 0.865 ±0.047\n",
      "Naive Bayes Regular Subsample 0.03 - Acc = 0.783 ±0.044\n",
      "\n",
      "Naive Bayes Ensemble Subsample 0.01 - Acc = 0.862 ±0.041\n",
      "Naive Bayes Regular Subsample 0.01 - Acc = 0.761 ±0.119\n",
      "\n",
      "Naive Bayes Ensemble Subsample 0.005 - Acc = 0.840 ±0.035\n",
      "Naive Bayes Regular Subsample 0.005 - Acc = 0.651 ±0.154\n",
      "\n"
     ]
    },
    {
     "data": {
      "image/png": "[encoded data removed]",
      "text/plain": [
       "<Figure size 640x480 with 1 Axes>"
      ]
     },
     "metadata": {},
     "output_type": "display_data"
    },
    {
     "name": "stdout",
     "output_type": "stream",
     "text": [
      "SVM Linear Ensemble Subsample 0.2 - Acc = 0.864 ±0.048\n",
      "SVM Linear Regular Subsample 0.2 - Acc = 0.846 ±0.033\n",
      "\n",
      "SVM Linear Ensemble Subsample 0.1 - Acc = 0.861 ±0.043\n",
      "SVM Linear Regular Subsample 0.1 - Acc = 0.812 ±0.038\n",
      "\n",
      "SVM Linear Ensemble Subsample 0.05 - Acc = 0.866 ±0.046\n",
      "SVM Linear Regular Subsample 0.05 - Acc = 0.783 ±0.027\n",
      "\n",
      "SVM Linear Ensemble Subsample 0.03 - Acc = 0.860 ±0.051\n",
      "SVM Linear Regular Subsample 0.03 - Acc = 0.763 ±0.064\n",
      "\n",
      "SVM Linear Ensemble Subsample 0.01 - Acc = 0.852 ±0.034\n",
      "SVM Linear Regular Subsample 0.01 - Acc = 0.763 ±0.093\n",
      "\n",
      "SVM Linear Ensemble Subsample 0.005 - Acc = 0.843 ±0.038\n",
      "SVM Linear Regular Subsample 0.005 - Acc = 0.738 ±0.100\n",
      "\n"
     ]
    },
    {
     "data": {
      "image/png": "[encoded data removed]",
      "text/plain": [
       "<Figure size 640x480 with 1 Axes>"
      ]
     },
     "metadata": {},
     "output_type": "display_data"
    },
    {
     "name": "stdout",
     "output_type": "stream",
     "text": [
      "MLP Classifier Ensemble Subsample 0.2 - Acc = 0.617 ±0.068\n",
      "MLP Classifier Regular Subsample 0.2 - Acc = 0.508 ±0.040\n",
      "\n",
      "MLP Classifier Ensemble Subsample 0.1 - Acc = 0.551 ±0.075\n",
      "MLP Classifier Regular Subsample 0.1 - Acc = 0.520 ±0.062\n",
      "\n",
      "MLP Classifier Ensemble Subsample 0.05 - Acc = 0.580 ±0.059\n",
      "MLP Classifier Regular Subsample 0.05 - Acc = 0.500 ±0.067\n",
      "\n",
      "MLP Classifier Ensemble Subsample 0.03 - Acc = 0.573 ±0.062\n",
      "MLP Classifier Regular Subsample 0.03 - Acc = 0.477 ±0.067\n",
      "\n",
      "MLP Classifier Ensemble Subsample 0.01 - Acc = 0.538 ±0.066\n",
      "MLP Classifier Regular Subsample 0.01 - Acc = 0.515 ±0.103\n",
      "\n",
      "MLP Classifier Ensemble Subsample 0.005 - Acc = 0.492 ±0.059\n",
      "MLP Classifier Regular Subsample 0.005 - Acc = 0.496 ±0.051\n",
      "\n"
     ]
    },
    {
     "data": {
      "image/png": "[encoded data removed]",
      "text/plain": [
       "<Figure size 640x480 with 1 Axes>"
      ]
     },
     "metadata": {},
     "output_type": "display_data"
    },
    {
     "name": "stdout",
     "output_type": "stream",
     "text": [
      "DecisionTree Ensemble Subsample 0.2 - Acc = 0.866 ±0.037\n",
      "DecisionTree Regular Subsample 0.2 - Acc = 0.795 ±0.044\n",
      "\n",
      "DecisionTree Ensemble Subsample 0.1 - Acc = 0.869 ±0.040\n",
      "DecisionTree Regular Subsample 0.1 - Acc = 0.770 ±0.054\n",
      "\n",
      "DecisionTree Ensemble Subsample 0.05 - Acc = 0.858 ±0.038\n",
      "DecisionTree Regular Subsample 0.05 - Acc = 0.787 ±0.053\n",
      "\n",
      "DecisionTree Ensemble Subsample 0.03 - Acc = 0.862 ±0.046\n",
      "DecisionTree Regular Subsample 0.03 - Acc = 0.763 ±0.050\n",
      "\n",
      "DecisionTree Ensemble Subsample 0.01 - Acc = 0.839 ±0.041\n",
      "DecisionTree Regular Subsample 0.01 - Acc = 0.685 ±0.136\n",
      "\n",
      "DecisionTree Ensemble Subsample 0.005 - Acc = 0.830 ±0.048\n",
      "DecisionTree Regular Subsample 0.005 - Acc = 0.628 ±0.144\n",
      "\n"
     ]
    },
    {
     "data": {
      "image/png": "[encoded data removed]",
      "text/plain": [
       "<Figure size 640x480 with 1 Axes>"
      ]
     },
     "metadata": {},
     "output_type": "display_data"
    }
   ],
   "source": [
    "import matplotlib.pyplot as plt\n",
    "\n",
    "# Helper arrays to iterate through each classifier and sub-set value\n",
    "classifiers_ensemble = [GaussianNB(), svm_linear, \n",
    "               MLPClassifier(hidden_layer_sizes=(5, 5),max_iter=30, tol=1e-1), DecisionTreeClassifier(max_depth = 5, max_features = 5)]\n",
    "classifiers_regular = [GaussianNB(), svm_linear, \n",
    "               MLPClassifier(hidden_layer_sizes=(50,100),max_iter=500), DecisionTreeClassifier()]\n",
    "clf_names = [\"Naive Bayes\", \"SVM Linear\", \"MLP Classifier\", \"DecisionTree\"]\n",
    "subsample_array = [0.2, 0.1, 0.05, 0.03, 0.01, 0.005]\n",
    "\n",
    "\n",
    "# Calculate and plot the ensemble classifier accuracies and regular classifier accuracies (with standard \n",
    "# deviations). \n",
    "with warnings.catch_warnings():\n",
    "    warnings.simplefilter(\"ignore\")\n",
    "    for counter1 in range(len(clf_names)):\n",
    "        accuracies_ensemble = []\n",
    "        st_dev_ensemble = []\n",
    "        accuracies_regular = []\n",
    "        st_dev_regular = []\n",
    "        \n",
    "        for counter2 in range(len(subsample_array)):\n",
    "            temp_acc = ensemble_evaluate(classifiers_ensemble[counter1], X, y, 100, subsample_array[counter2])\n",
    "            accuracies_ensemble.append(np.mean(temp_acc))\n",
    "            st_dev_ensemble.append(np.std(temp_acc))\n",
    "            print(f'{clf_names[counter1]} Ensemble Subsample {subsample_array[counter2]} - Acc = {np.mean(temp_acc):.3f} {chr(177)}{np.std(temp_acc):.3f}')\n",
    "            \n",
    "            temp_acc = ensemble_evaluate(classifiers[counter1], X, y, 1, subsample_array[counter2])\n",
    "            accuracies_regular.append(np.mean(temp_acc))\n",
    "            st_dev_regular.append(np.std(temp_acc))\n",
    "            print(f'{clf_names[counter1]} Regular Subsample {subsample_array[counter2]} - Acc = {np.mean(temp_acc):.3f} {chr(177)}{np.std(temp_acc):.3f}\\n')\n",
    "                       \n",
    "        #Generate scatter plot with standard deviation bars\n",
    "        plt.scatter(subsample_array, accuracies_ensemble, label='ensemble')\n",
    "        plt.scatter(subsample_array, accuracies_regular, label='regular')\n",
    "        plt.xlim(0, 0.3)\n",
    "        plt.ylim(0.3, 1.0)\n",
    "        plt.errorbar(subsample_array, accuracies_ensemble, yerr=st_dev_ensemble, fmt=\"o\")\n",
    "        plt.errorbar(subsample_array, accuracies_regular, yerr=st_dev_regular, fmt=\"s\")\n",
    "        plt.title(f'Ensemble vs Regular - {clf_names[counter1]}')\n",
    "        plt.xlabel(\"Subsample ratio\")\n",
    "        plt.ylabel(\"Accuracy (%)\")\n",
    "        plt.legend(loc='lower right')\n",
    "        plt.show()"
   ]
  },
  {
   "cell_type": "markdown",
   "id": "ea8a3baf",
   "metadata": {},
   "source": [
    "### Question 6 Discussion\n",
    "\n",
    "When looking at only the ensemble data, it appears that the best accuracy classifier occurs when the sub-sampling size is not at the extremes. In other words, when the sub-sampling size is between 0.03 – 0.1, the ensemble appears to have the best accuracy. However, this trend of sub-sampling sizes also affects standard deviation. There are lower standard deviations at the extremes, and higher standard deviations in the mid-sizes of sub-sampling. These results would lead me to think that the larger sub-sampling size may result in overfitting while the lower sub-sampling sizes are a result of underfitting. Another observation that I would also note is that the sub-sampling sizes resulted in training sizes of 4-18 dataset values. This variance between training dataset values may also account for this change. Because of the limited sizes, stratification may not necessarily have the same effect between each sub-sample. \n",
    "\n",
    "When comparing the ensemble classifiers with the singular, regular classifiers, there is a stark contrast in standard deviations. This is most likely due to the increased number of iterations in the ensemble training. The increased number of iterations helped to reduce variance by increasing counts for each datapoint. The training data had a greater “confidence” with the increased number of data points. In terms of raw accuracy, it appears that all the ensemble classifiers, with exception to the neural network, performed better than its singular, regular classifier counterpart. I believe the difference in the neural network may be a result of the low number of training values available for it to train on. Because of the low number of training values, it was not able to develop a robust network. Another trend to note is that the ensemble classifiers had better performance when compared to their counterparts at lower sub-sample sizes. Similar to the lower standard deviation found in the ensemble classifiers, this is most likely due to the increased number of data points to help the predictions. \n",
    "\n",
    "If I were to do this problem again, I would be curious to see the effects of increasing and decreasing the number of features would look like. Secondly, I would also look at varying sizes of datasets. Because of the ensemble neural networks low accuracy values, I am curious if there is a size value where accuracy drastically improves.  \n"
   ]
  }
 ],
 "metadata": {
  "kernelspec": {
   "display_name": "Python 3 (ipykernel)",
   "language": "python",
   "name": "python3"
  },
  "language_info": {
   "codemirror_mode": {
    "name": "ipython",
    "version": 3
   },
   "file_extension": ".py",
   "mimetype": "text/x-python",
   "name": "python",
   "nbconvert_exporter": "python",
   "pygments_lexer": "ipython3",
   "version": "3.11.9"
  }
 },
 "nbformat": 4,
 "nbformat_minor": 5
}
