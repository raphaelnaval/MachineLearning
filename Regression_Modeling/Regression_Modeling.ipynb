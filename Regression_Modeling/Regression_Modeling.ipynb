{
 "cells": [
  {
   "cell_type": "markdown",
   "id": "068aa46a",
   "metadata": {},
   "source": [
    "## Purpose:\n",
    "The goal of this assignment is to practice creating regression models to generate predictions based on specific features of the dataset.   "
   ]
  },
  {
   "cell_type": "markdown",
   "id": "4ef491c2",
   "metadata": {},
   "source": [
    "## Pre-processing"
   ]
  },
  {
   "cell_type": "code",
   "execution_count": 1,
   "id": "4d8d7f24",
   "metadata": {},
   "outputs": [
    {
     "data": {
      "text/html": [
       "<div>\n",
       "<style scoped>\n",
       "    .dataframe tbody tr th:only-of-type {\n",
       "        vertical-align: middle;\n",
       "    }\n",
       "\n",
       "    .dataframe tbody tr th {\n",
       "        vertical-align: top;\n",
       "    }\n",
       "\n",
       "    .dataframe thead th {\n",
       "        text-align: right;\n",
       "    }\n",
       "</style>\n",
       "<table border=\"1\" class=\"dataframe\">\n",
       "  <thead>\n",
       "    <tr style=\"text-align: right;\">\n",
       "      <th></th>\n",
       "      <th>country</th>\n",
       "      <th>year</th>\n",
       "      <th>sex</th>\n",
       "      <th>age</th>\n",
       "      <th>suicides_no</th>\n",
       "      <th>population</th>\n",
       "      <th>suicides/100k pop</th>\n",
       "      <th>country-year</th>\n",
       "      <th>HDI for year</th>\n",
       "      <th>gdp_for_year ($)</th>\n",
       "      <th>gdp_per_capita ($)</th>\n",
       "      <th>generation</th>\n",
       "    </tr>\n",
       "  </thead>\n",
       "  <tbody>\n",
       "    <tr>\n",
       "      <th>0</th>\n",
       "      <td>Albania</td>\n",
       "      <td>1987</td>\n",
       "      <td>male</td>\n",
       "      <td>15-24 years</td>\n",
       "      <td>21</td>\n",
       "      <td>312900</td>\n",
       "      <td>6.71</td>\n",
       "      <td>Albania1987</td>\n",
       "      <td>NaN</td>\n",
       "      <td>2,156,624,900</td>\n",
       "      <td>796</td>\n",
       "      <td>Generation X</td>\n",
       "    </tr>\n",
       "    <tr>\n",
       "      <th>1</th>\n",
       "      <td>Albania</td>\n",
       "      <td>1987</td>\n",
       "      <td>male</td>\n",
       "      <td>35-54 years</td>\n",
       "      <td>16</td>\n",
       "      <td>308000</td>\n",
       "      <td>5.19</td>\n",
       "      <td>Albania1987</td>\n",
       "      <td>NaN</td>\n",
       "      <td>2,156,624,900</td>\n",
       "      <td>796</td>\n",
       "      <td>Silent</td>\n",
       "    </tr>\n",
       "    <tr>\n",
       "      <th>2</th>\n",
       "      <td>Albania</td>\n",
       "      <td>1987</td>\n",
       "      <td>female</td>\n",
       "      <td>15-24 years</td>\n",
       "      <td>14</td>\n",
       "      <td>289700</td>\n",
       "      <td>4.83</td>\n",
       "      <td>Albania1987</td>\n",
       "      <td>NaN</td>\n",
       "      <td>2,156,624,900</td>\n",
       "      <td>796</td>\n",
       "      <td>Generation X</td>\n",
       "    </tr>\n",
       "    <tr>\n",
       "      <th>3</th>\n",
       "      <td>Albania</td>\n",
       "      <td>1987</td>\n",
       "      <td>male</td>\n",
       "      <td>75+ years</td>\n",
       "      <td>1</td>\n",
       "      <td>21800</td>\n",
       "      <td>4.59</td>\n",
       "      <td>Albania1987</td>\n",
       "      <td>NaN</td>\n",
       "      <td>2,156,624,900</td>\n",
       "      <td>796</td>\n",
       "      <td>G.I. Generation</td>\n",
       "    </tr>\n",
       "    <tr>\n",
       "      <th>4</th>\n",
       "      <td>Albania</td>\n",
       "      <td>1987</td>\n",
       "      <td>male</td>\n",
       "      <td>25-34 years</td>\n",
       "      <td>9</td>\n",
       "      <td>274300</td>\n",
       "      <td>3.28</td>\n",
       "      <td>Albania1987</td>\n",
       "      <td>NaN</td>\n",
       "      <td>2,156,624,900</td>\n",
       "      <td>796</td>\n",
       "      <td>Boomers</td>\n",
       "    </tr>\n",
       "  </tbody>\n",
       "</table>\n",
       "</div>"
      ],
      "text/plain": [
       "   country  year     sex          age  suicides_no  population  \\\n",
       "0  Albania  1987    male  15-24 years           21      312900   \n",
       "1  Albania  1987    male  35-54 years           16      308000   \n",
       "2  Albania  1987  female  15-24 years           14      289700   \n",
       "3  Albania  1987    male    75+ years            1       21800   \n",
       "4  Albania  1987    male  25-34 years            9      274300   \n",
       "\n",
       "   suicides/100k pop country-year  HDI for year  gdp_for_year ($)   \\\n",
       "0               6.71  Albania1987           NaN      2,156,624,900   \n",
       "1               5.19  Albania1987           NaN      2,156,624,900   \n",
       "2               4.83  Albania1987           NaN      2,156,624,900   \n",
       "3               4.59  Albania1987           NaN      2,156,624,900   \n",
       "4               3.28  Albania1987           NaN      2,156,624,900   \n",
       "\n",
       "   gdp_per_capita ($)       generation  \n",
       "0                 796     Generation X  \n",
       "1                 796           Silent  \n",
       "2                 796     Generation X  \n",
       "3                 796  G.I. Generation  \n",
       "4                 796          Boomers  "
      ]
     },
     "execution_count": 1,
     "metadata": {},
     "output_type": "execute_result"
    }
   ],
   "source": [
    "%matplotlib inline\n",
    "import matplotlib.pyplot as plt\n",
    "from IPython.display import display\n",
    "import numpy as np\n",
    "import pandas as pd\n",
    "import seaborn as sns; sns.set(style=\"ticks\", color_codes=True)\n",
    "\n",
    "# Load data file and print data head to check proper loading\n",
    "df = pd.read_csv('Datasets/master.csv')\n",
    "df.head()"
   ]
  },
  {
   "cell_type": "code",
   "execution_count": 2,
   "id": "68b794d4",
   "metadata": {},
   "outputs": [],
   "source": [
    "# Renaming the columns to provide simpler category names\n",
    "df.columns = ['CNTRY', 'YR', 'SEX', 'AGE', 'SUIC_NUM', \n",
    "              'POP', 'SUIC_PER100K_POP', 'CNTRY_YR',\n",
    "              'HDI', 'GDP_FOR_YR', 'GDP_PER_CAP', 'GEN']"
   ]
  },
  {
   "cell_type": "code",
   "execution_count": 3,
   "id": "39285de6",
   "metadata": {},
   "outputs": [],
   "source": [
    "# 'HDI' removed due to large quantity of missing values\n",
    "# Country-related values were removed due to redundancy \n",
    "del(df['CNTRY'])\n",
    "del(df['YR'])\n",
    "del(df['CNTRY_YR'])\n",
    "del(df['HDI'])\n",
    "del(df['GDP_FOR_YR'])\n",
    "del(df['GDP_PER_CAP'])"
   ]
  },
  {
   "cell_type": "code",
   "execution_count": 4,
   "id": "f3926a4f",
   "metadata": {},
   "outputs": [
    {
     "data": {
      "text/html": [
       "<div>\n",
       "<style scoped>\n",
       "    .dataframe tbody tr th:only-of-type {\n",
       "        vertical-align: middle;\n",
       "    }\n",
       "\n",
       "    .dataframe tbody tr th {\n",
       "        vertical-align: top;\n",
       "    }\n",
       "\n",
       "    .dataframe thead th {\n",
       "        text-align: right;\n",
       "    }\n",
       "</style>\n",
       "<table border=\"1\" class=\"dataframe\">\n",
       "  <thead>\n",
       "    <tr style=\"text-align: right;\">\n",
       "      <th></th>\n",
       "      <th>SEX</th>\n",
       "      <th>AGE</th>\n",
       "      <th>SUIC_NUM</th>\n",
       "      <th>POP</th>\n",
       "      <th>SUIC_PER100K_POP</th>\n",
       "      <th>GEN</th>\n",
       "    </tr>\n",
       "  </thead>\n",
       "  <tbody>\n",
       "    <tr>\n",
       "      <th>0</th>\n",
       "      <td>male</td>\n",
       "      <td>15-24 years</td>\n",
       "      <td>21</td>\n",
       "      <td>312900</td>\n",
       "      <td>6.71</td>\n",
       "      <td>Generation X</td>\n",
       "    </tr>\n",
       "    <tr>\n",
       "      <th>1</th>\n",
       "      <td>male</td>\n",
       "      <td>35-54 years</td>\n",
       "      <td>16</td>\n",
       "      <td>308000</td>\n",
       "      <td>5.19</td>\n",
       "      <td>Silent</td>\n",
       "    </tr>\n",
       "    <tr>\n",
       "      <th>2</th>\n",
       "      <td>female</td>\n",
       "      <td>15-24 years</td>\n",
       "      <td>14</td>\n",
       "      <td>289700</td>\n",
       "      <td>4.83</td>\n",
       "      <td>Generation X</td>\n",
       "    </tr>\n",
       "    <tr>\n",
       "      <th>3</th>\n",
       "      <td>male</td>\n",
       "      <td>75+ years</td>\n",
       "      <td>1</td>\n",
       "      <td>21800</td>\n",
       "      <td>4.59</td>\n",
       "      <td>G.I. Generation</td>\n",
       "    </tr>\n",
       "    <tr>\n",
       "      <th>4</th>\n",
       "      <td>male</td>\n",
       "      <td>25-34 years</td>\n",
       "      <td>9</td>\n",
       "      <td>274300</td>\n",
       "      <td>3.28</td>\n",
       "      <td>Boomers</td>\n",
       "    </tr>\n",
       "  </tbody>\n",
       "</table>\n",
       "</div>"
      ],
      "text/plain": [
       "      SEX          AGE  SUIC_NUM     POP  SUIC_PER100K_POP              GEN\n",
       "0    male  15-24 years        21  312900              6.71     Generation X\n",
       "1    male  35-54 years        16  308000              5.19           Silent\n",
       "2  female  15-24 years        14  289700              4.83     Generation X\n",
       "3    male    75+ years         1   21800              4.59  G.I. Generation\n",
       "4    male  25-34 years         9  274300              3.28          Boomers"
      ]
     },
     "execution_count": 4,
     "metadata": {},
     "output_type": "execute_result"
    }
   ],
   "source": [
    "# Check to make sure feature removal was performed correctly\n",
    "df.head()"
   ]
  },
  {
   "cell_type": "code",
   "execution_count": 5,
   "id": "d019bede",
   "metadata": {},
   "outputs": [
    {
     "name": "stdout",
     "output_type": "stream",
     "text": [
      "Training data size = 27820\n",
      "Duplicates in TRAINING data = 204\n"
     ]
    }
   ],
   "source": [
    "# Check for duplicates, this adds a new column to the dataset\n",
    "df[\"is_duplicate\"]= df.duplicated()\n",
    "\n",
    "print(f\"Training data size = {len(df)}\")\n",
    "print(f\"Duplicates in TRAINING data = {len(df[df['is_duplicate']==True])}\")"
   ]
  },
  {
   "cell_type": "code",
   "execution_count": 6,
   "id": "79ab48af",
   "metadata": {},
   "outputs": [
    {
     "name": "stdout",
     "output_type": "stream",
     "text": [
      "Training count = 27616\n"
     ]
    }
   ],
   "source": [
    "# Drop the duplicate rows using index\n",
    "index_to_drop = df[df['is_duplicate']==True].index\n",
    "df.drop(index_to_drop, inplace=True)\n",
    "\n",
    "# Remove the duplicate marker column\n",
    "df.drop(columns='is_duplicate', inplace=True)\n",
    "print(f'Training count = {len(df)}')"
   ]
  },
  {
   "cell_type": "code",
   "execution_count": 7,
   "id": "215adb6d",
   "metadata": {},
   "outputs": [
    {
     "data": {
      "text/plain": [
       "SEX                 False\n",
       "AGE                 False\n",
       "SUIC_NUM            False\n",
       "POP                 False\n",
       "SUIC_PER100K_POP    False\n",
       "GEN                 False\n",
       "dtype: bool"
      ]
     },
     "execution_count": 7,
     "metadata": {},
     "output_type": "execute_result"
    }
   ],
   "source": [
    "# Do we have NaN in our dataset?\n",
    "df.isnull().any()"
   ]
  },
  {
   "cell_type": "code",
   "execution_count": 8,
   "id": "99f1bdaa",
   "metadata": {},
   "outputs": [
    {
     "name": "stdout",
     "output_type": "stream",
     "text": [
      "SEX ['male' 'female']\n",
      "AGE ['15-24 years' '35-54 years' '75+ years' '25-34 years' '55-74 years'\n",
      " '5-14 years']\n",
      "GEN ['Generation X' 'Silent' 'G.I. Generation' 'Boomers' 'Millenials'\n",
      " 'Generation Z']\n"
     ]
    }
   ],
   "source": [
    "# Check unique levels and see what markers are used\n",
    "for col in df.columns:\n",
    "    if df[col].dtype == object:\n",
    "        print (col, df[col].unique())"
   ]
  },
  {
   "cell_type": "code",
   "execution_count": 9,
   "id": "ffa2f69d",
   "metadata": {},
   "outputs": [],
   "source": [
    "# One-hot encoder to convert nominal features into numerical values\n",
    "def encode_onehot(_df, _f):\n",
    "    _df2 = pd.get_dummies(_df[_f], prefix='', prefix_sep='').groupby(level=0, axis=1).max().add_prefix(_f+' - ')\n",
    "    _df3 = pd.concat([_df, _df2], axis=1)\n",
    "    _df3 = _df3.drop([_f], axis=1)\n",
    "    return _df3"
   ]
  },
  {
   "cell_type": "code",
   "execution_count": 10,
   "id": "e1921c99",
   "metadata": {
    "scrolled": true
   },
   "outputs": [],
   "source": [
    "from sklearn import preprocessing \n",
    "\n",
    "# One hot encode nominal features\n",
    "df_o = encode_onehot(df, 'SEX')\n",
    "df_o = encode_onehot(df_o, 'AGE')\n",
    "df_o = encode_onehot(df_o, 'GEN')"
   ]
  },
  {
   "cell_type": "code",
   "execution_count": 11,
   "id": "e90be047",
   "metadata": {},
   "outputs": [
    {
     "data": {
      "text/html": [
       "<div>\n",
       "<style scoped>\n",
       "    .dataframe tbody tr th:only-of-type {\n",
       "        vertical-align: middle;\n",
       "    }\n",
       "\n",
       "    .dataframe tbody tr th {\n",
       "        vertical-align: top;\n",
       "    }\n",
       "\n",
       "    .dataframe thead th {\n",
       "        text-align: right;\n",
       "    }\n",
       "</style>\n",
       "<table border=\"1\" class=\"dataframe\">\n",
       "  <thead>\n",
       "    <tr style=\"text-align: right;\">\n",
       "      <th></th>\n",
       "      <th>SUIC_NUM</th>\n",
       "      <th>POP</th>\n",
       "      <th>SUIC_PER100K_POP</th>\n",
       "      <th>SEX - female</th>\n",
       "      <th>SEX - male</th>\n",
       "      <th>AGE - 15-24 years</th>\n",
       "      <th>AGE - 25-34 years</th>\n",
       "      <th>AGE - 35-54 years</th>\n",
       "      <th>AGE - 5-14 years</th>\n",
       "      <th>AGE - 55-74 years</th>\n",
       "      <th>AGE - 75+ years</th>\n",
       "      <th>GEN - Boomers</th>\n",
       "      <th>GEN - G.I. Generation</th>\n",
       "      <th>GEN - Generation X</th>\n",
       "      <th>GEN - Generation Z</th>\n",
       "      <th>GEN - Millenials</th>\n",
       "      <th>GEN - Silent</th>\n",
       "    </tr>\n",
       "  </thead>\n",
       "  <tbody>\n",
       "    <tr>\n",
       "      <th>0</th>\n",
       "      <td>21</td>\n",
       "      <td>312900</td>\n",
       "      <td>6.71</td>\n",
       "      <td>False</td>\n",
       "      <td>True</td>\n",
       "      <td>True</td>\n",
       "      <td>False</td>\n",
       "      <td>False</td>\n",
       "      <td>False</td>\n",
       "      <td>False</td>\n",
       "      <td>False</td>\n",
       "      <td>False</td>\n",
       "      <td>False</td>\n",
       "      <td>True</td>\n",
       "      <td>False</td>\n",
       "      <td>False</td>\n",
       "      <td>False</td>\n",
       "    </tr>\n",
       "    <tr>\n",
       "      <th>1</th>\n",
       "      <td>16</td>\n",
       "      <td>308000</td>\n",
       "      <td>5.19</td>\n",
       "      <td>False</td>\n",
       "      <td>True</td>\n",
       "      <td>False</td>\n",
       "      <td>False</td>\n",
       "      <td>True</td>\n",
       "      <td>False</td>\n",
       "      <td>False</td>\n",
       "      <td>False</td>\n",
       "      <td>False</td>\n",
       "      <td>False</td>\n",
       "      <td>False</td>\n",
       "      <td>False</td>\n",
       "      <td>False</td>\n",
       "      <td>True</td>\n",
       "    </tr>\n",
       "    <tr>\n",
       "      <th>2</th>\n",
       "      <td>14</td>\n",
       "      <td>289700</td>\n",
       "      <td>4.83</td>\n",
       "      <td>True</td>\n",
       "      <td>False</td>\n",
       "      <td>True</td>\n",
       "      <td>False</td>\n",
       "      <td>False</td>\n",
       "      <td>False</td>\n",
       "      <td>False</td>\n",
       "      <td>False</td>\n",
       "      <td>False</td>\n",
       "      <td>False</td>\n",
       "      <td>True</td>\n",
       "      <td>False</td>\n",
       "      <td>False</td>\n",
       "      <td>False</td>\n",
       "    </tr>\n",
       "    <tr>\n",
       "      <th>3</th>\n",
       "      <td>1</td>\n",
       "      <td>21800</td>\n",
       "      <td>4.59</td>\n",
       "      <td>False</td>\n",
       "      <td>True</td>\n",
       "      <td>False</td>\n",
       "      <td>False</td>\n",
       "      <td>False</td>\n",
       "      <td>False</td>\n",
       "      <td>False</td>\n",
       "      <td>True</td>\n",
       "      <td>False</td>\n",
       "      <td>True</td>\n",
       "      <td>False</td>\n",
       "      <td>False</td>\n",
       "      <td>False</td>\n",
       "      <td>False</td>\n",
       "    </tr>\n",
       "    <tr>\n",
       "      <th>4</th>\n",
       "      <td>9</td>\n",
       "      <td>274300</td>\n",
       "      <td>3.28</td>\n",
       "      <td>False</td>\n",
       "      <td>True</td>\n",
       "      <td>False</td>\n",
       "      <td>True</td>\n",
       "      <td>False</td>\n",
       "      <td>False</td>\n",
       "      <td>False</td>\n",
       "      <td>False</td>\n",
       "      <td>True</td>\n",
       "      <td>False</td>\n",
       "      <td>False</td>\n",
       "      <td>False</td>\n",
       "      <td>False</td>\n",
       "      <td>False</td>\n",
       "    </tr>\n",
       "  </tbody>\n",
       "</table>\n",
       "</div>"
      ],
      "text/plain": [
       "   SUIC_NUM     POP  SUIC_PER100K_POP  SEX - female  SEX - male  \\\n",
       "0        21  312900              6.71         False        True   \n",
       "1        16  308000              5.19         False        True   \n",
       "2        14  289700              4.83          True       False   \n",
       "3         1   21800              4.59         False        True   \n",
       "4         9  274300              3.28         False        True   \n",
       "\n",
       "   AGE - 15-24 years  AGE - 25-34 years  AGE - 35-54 years  AGE - 5-14 years  \\\n",
       "0               True              False              False             False   \n",
       "1              False              False               True             False   \n",
       "2               True              False              False             False   \n",
       "3              False              False              False             False   \n",
       "4              False               True              False             False   \n",
       "\n",
       "   AGE - 55-74 years  AGE - 75+ years  GEN - Boomers  GEN - G.I. Generation  \\\n",
       "0              False            False          False                  False   \n",
       "1              False            False          False                  False   \n",
       "2              False            False          False                  False   \n",
       "3              False             True          False                   True   \n",
       "4              False            False           True                  False   \n",
       "\n",
       "   GEN - Generation X  GEN - Generation Z  GEN - Millenials  GEN - Silent  \n",
       "0                True               False             False         False  \n",
       "1               False               False             False          True  \n",
       "2                True               False             False         False  \n",
       "3               False               False             False         False  \n",
       "4               False               False             False         False  "
      ]
     },
     "execution_count": 11,
     "metadata": {},
     "output_type": "execute_result"
    }
   ],
   "source": [
    "# Check that one hot encoding was performed correctly\n",
    "df_o.head()"
   ]
  },
  {
   "cell_type": "markdown",
   "id": "72b5f970",
   "metadata": {},
   "source": [
    "### Develop a linear regression model to model targets of age 20, male, and generation X. "
   ]
  },
  {
   "cell_type": "code",
   "execution_count": 12,
   "id": "a348a9fb",
   "metadata": {},
   "outputs": [],
   "source": [
    "# Prepare the input X matrix and target y vector\n",
    "X_q1 = df_o.loc[:, df_o.columns != 'SUIC_PER100K_POP'].values\n",
    "y_q1 = df_o.loc[ :, df_o.columns == 'SUIC_PER100K_POP'].values.ravel()"
   ]
  },
  {
   "cell_type": "code",
   "execution_count": 13,
   "id": "6400dac1",
   "metadata": {
    "scrolled": true
   },
   "outputs": [
    {
     "name": "stdout",
     "output_type": "stream",
     "text": [
      "SUIC_NUM                     21\n",
      "POP                      312900\n",
      "SUIC_PER100K_POP           6.71\n",
      "SEX - female              False\n",
      "SEX - male                 True\n",
      "AGE - 15-24 years          True\n",
      "AGE - 25-34 years         False\n",
      "AGE - 35-54 years         False\n",
      "AGE - 5-14 years          False\n",
      "AGE - 55-74 years         False\n",
      "AGE - 75+ years           False\n",
      "GEN - Boomers             False\n",
      "GEN - G.I. Generation     False\n",
      "GEN - Generation X         True\n",
      "GEN - Generation Z        False\n",
      "GEN - Millenials          False\n",
      "GEN - Silent              False\n",
      "Name: 0, dtype: object\n"
     ]
    }
   ],
   "source": [
    "# Obtain the order of feature column names to create a target prediction unit\n",
    "print(df_o.iloc[0])"
   ]
  },
  {
   "cell_type": "code",
   "execution_count": 14,
   "id": "83d74bce",
   "metadata": {},
   "outputs": [],
   "source": [
    "# Calculating the mean values for two categories that will be imputed in the target prediction unit\n",
    "mean_suic_num = df_o[\"SUIC_NUM\"].mean()\n",
    "mean_pop = df_o[\"POP\"].mean()"
   ]
  },
  {
   "cell_type": "code",
   "execution_count": 15,
   "id": "1752abdb",
   "metadata": {},
   "outputs": [],
   "source": [
    "# Generate the prediction unit \n",
    "# Age 20, male, Generation X\n",
    "predict_q1 = [[mean_suic_num,\n",
    "               mean_pop,\n",
    "               False,\n",
    "               True, # Male\n",
    "               True, # 15-24 years\n",
    "               False,\n",
    "               False,\n",
    "               False,\n",
    "               False,\n",
    "               False,\n",
    "               False,\n",
    "               False,\n",
    "               True, # Generation X\n",
    "               False,\n",
    "               False,\n",
    "               False]]"
   ]
  },
  {
   "cell_type": "code",
   "execution_count": 16,
   "id": "ff8ef85a",
   "metadata": {
    "scrolled": true
   },
   "outputs": [
    {
     "data": {
      "text/html": [
       "<style>#sk-container-id-1 {color: black;}#sk-container-id-1 pre{padding: 0;}#sk-container-id-1 div.sk-toggleable {background-color: white;}#sk-container-id-1 label.sk-toggleable__label {cursor: pointer;display: block;width: 100%;margin-bottom: 0;padding: 0.3em;box-sizing: border-box;text-align: center;}#sk-container-id-1 label.sk-toggleable__label-arrow:before {content: \"▸\";float: left;margin-right: 0.25em;color: #696969;}#sk-container-id-1 label.sk-toggleable__label-arrow:hover:before {color: black;}#sk-container-id-1 div.sk-estimator:hover label.sk-toggleable__label-arrow:before {color: black;}#sk-container-id-1 div.sk-toggleable__content {max-height: 0;max-width: 0;overflow: hidden;text-align: left;background-color: #f0f8ff;}#sk-container-id-1 div.sk-toggleable__content pre {margin: 0.2em;color: black;border-radius: 0.25em;background-color: #f0f8ff;}#sk-container-id-1 input.sk-toggleable__control:checked~div.sk-toggleable__content {max-height: 200px;max-width: 100%;overflow: auto;}#sk-container-id-1 input.sk-toggleable__control:checked~label.sk-toggleable__label-arrow:before {content: \"▾\";}#sk-container-id-1 div.sk-estimator input.sk-toggleable__control:checked~label.sk-toggleable__label {background-color: #d4ebff;}#sk-container-id-1 div.sk-label input.sk-toggleable__control:checked~label.sk-toggleable__label {background-color: #d4ebff;}#sk-container-id-1 input.sk-hidden--visually {border: 0;clip: rect(1px 1px 1px 1px);clip: rect(1px, 1px, 1px, 1px);height: 1px;margin: -1px;overflow: hidden;padding: 0;position: absolute;width: 1px;}#sk-container-id-1 div.sk-estimator {font-family: monospace;background-color: #f0f8ff;border: 1px dotted black;border-radius: 0.25em;box-sizing: border-box;margin-bottom: 0.5em;}#sk-container-id-1 div.sk-estimator:hover {background-color: #d4ebff;}#sk-container-id-1 div.sk-parallel-item::after {content: \"\";width: 100%;border-bottom: 1px solid gray;flex-grow: 1;}#sk-container-id-1 div.sk-label:hover label.sk-toggleable__label {background-color: #d4ebff;}#sk-container-id-1 div.sk-serial::before {content: \"\";position: absolute;border-left: 1px solid gray;box-sizing: border-box;top: 0;bottom: 0;left: 50%;z-index: 0;}#sk-container-id-1 div.sk-serial {display: flex;flex-direction: column;align-items: center;background-color: white;padding-right: 0.2em;padding-left: 0.2em;position: relative;}#sk-container-id-1 div.sk-item {position: relative;z-index: 1;}#sk-container-id-1 div.sk-parallel {display: flex;align-items: stretch;justify-content: center;background-color: white;position: relative;}#sk-container-id-1 div.sk-item::before, #sk-container-id-1 div.sk-parallel-item::before {content: \"\";position: absolute;border-left: 1px solid gray;box-sizing: border-box;top: 0;bottom: 0;left: 50%;z-index: -1;}#sk-container-id-1 div.sk-parallel-item {display: flex;flex-direction: column;z-index: 1;position: relative;background-color: white;}#sk-container-id-1 div.sk-parallel-item:first-child::after {align-self: flex-end;width: 50%;}#sk-container-id-1 div.sk-parallel-item:last-child::after {align-self: flex-start;width: 50%;}#sk-container-id-1 div.sk-parallel-item:only-child::after {width: 0;}#sk-container-id-1 div.sk-dashed-wrapped {border: 1px dashed gray;margin: 0 0.4em 0.5em 0.4em;box-sizing: border-box;padding-bottom: 0.4em;background-color: white;}#sk-container-id-1 div.sk-label label {font-family: monospace;font-weight: bold;display: inline-block;line-height: 1.2em;}#sk-container-id-1 div.sk-label-container {text-align: center;}#sk-container-id-1 div.sk-container {/* jupyter's `normalize.less` sets `[hidden] { display: none; }` but bootstrap.min.css set `[hidden] { display: none !important; }` so we also need the `!important` here to be able to override the default hidden behavior on the sphinx rendered scikit-learn.org. See: https://github.com/scikit-learn/scikit-learn/issues/21755 */display: inline-block !important;position: relative;}#sk-container-id-1 div.sk-text-repr-fallback {display: none;}</style><div id=\"sk-container-id-1\" class=\"sk-top-container\"><div class=\"sk-text-repr-fallback\"><pre>LinearRegression()</pre><b>In a Jupyter environment, please rerun this cell to show the HTML representation or trust the notebook. <br />On GitHub, the HTML representation is unable to render, please try loading this page with nbviewer.org.</b></div><div class=\"sk-container\" hidden><div class=\"sk-item\"><div class=\"sk-estimator sk-toggleable\"><input class=\"sk-toggleable__control sk-hidden--visually\" id=\"sk-estimator-id-1\" type=\"checkbox\" checked><label for=\"sk-estimator-id-1\" class=\"sk-toggleable__label sk-toggleable__label-arrow\">LinearRegression</label><div class=\"sk-toggleable__content\"><pre>LinearRegression()</pre></div></div></div></div></div>"
      ],
      "text/plain": [
       "LinearRegression()"
      ]
     },
     "execution_count": 16,
     "metadata": {},
     "output_type": "execute_result"
    }
   ],
   "source": [
    "from sklearn.linear_model import LinearRegression\n",
    "from sklearn.preprocessing import PolynomialFeatures\n",
    "from sklearn.model_selection import train_test_split\n",
    "\n",
    "# Linear Regression training with all values in the dataset\n",
    "lin_reg_q1 = LinearRegression()\n",
    "lin_reg_q1.fit(X_q1, y_q1)"
   ]
  },
  {
   "cell_type": "code",
   "execution_count": 17,
   "id": "a8a97a71",
   "metadata": {},
   "outputs": [],
   "source": [
    "# Generate the sub-population of age 20, male, Generation X\n",
    "\n",
    "X_df = df_o.loc[:, df_o.columns != 'SUIC_PER100K_POP']\n",
    "y_df = df_o.loc[ :, df_o.columns]\n",
    "filter_X_df = X_df.loc[(X_df[\"SEX - male\"] == True) &\n",
    "                     (X_df[\"GEN - Generation X\"] == True) &\n",
    "                     (X_df[\"AGE - 15-24 years\"] == True)]\n",
    "filter_y_df = y_df.loc[(y_df[\"SEX - male\"] == True) &\n",
    "                     (y_df[\"GEN - Generation X\"] == True) &\n",
    "                     (y_df[\"AGE - 15-24 years\"] == True)]\n",
    "filter_y_df_final = filter_y_df.loc[ :, filter_y_df.columns == 'SUIC_PER100K_POP']\n",
    "X_test = filter_X_df.values\n",
    "y_test = filter_y_df_final.values.ravel()"
   ]
  },
  {
   "cell_type": "code",
   "execution_count": 18,
   "id": "e6f1f93a",
   "metadata": {
    "scrolled": false
   },
   "outputs": [],
   "source": [
    "from sklearn.metrics import mean_absolute_error\n",
    "from sklearn.metrics import mean_squared_error\n",
    "from sklearn.metrics import r2_score\n",
    "\n",
    "# Predict the target sub-population and obtain metrics for prediction\n",
    "y_pred = lin_reg_q1.predict(X_test)\n",
    "mae_q1 = mean_absolute_error(y_test, y_pred) "
   ]
  },
  {
   "cell_type": "code",
   "execution_count": 19,
   "id": "b7b40da5",
   "metadata": {},
   "outputs": [
    {
     "name": "stdout",
     "output_type": "stream",
     "text": [
      "Mean Absolute Error: 8.512 \n",
      "Predicted Value = [16.51877515]\n"
     ]
    }
   ],
   "source": [
    "from sklearn.metrics import r2_score\n",
    "\n",
    "# Predict the value for the singuler target prediction unit\n",
    "predict_q1 = lin_reg_q1.predict(predict_q1)\n",
    "print(f'Mean Absolute Error: {mae_q1:.3f} \\nPredicted Value = {predict_q1}')"
   ]
  },
  {
   "cell_type": "markdown",
   "id": "47babad9",
   "metadata": {},
   "source": [
    "#### Regression coefficients \n",
    "\n",
    "There are 16 regression coefficients, 14 are one-hot encoded features and two are for numerical values."
   ]
  },
  {
   "cell_type": "code",
   "execution_count": 20,
   "id": "31e7a3ee",
   "metadata": {
    "scrolled": false
   },
   "outputs": [
    {
     "data": {
      "text/plain": [
       "array([ 7.16064593e-03, -8.31623301e-07, -6.48579116e+00,  6.48579116e+00,\n",
       "       -2.54806174e+00, -3.34527997e-01,  9.82803695e-01, -9.44131932e+00,\n",
       "        1.89687352e+00,  9.44423184e+00,  3.95694604e-02,  3.36912811e+00,\n",
       "       -4.79156915e-01, -1.43060317e+00, -1.50981851e+00,  1.08810269e-02])"
      ]
     },
     "execution_count": 20,
     "metadata": {},
     "output_type": "execute_result"
    }
   ],
   "source": [
    "# Print the coefficients in the linear regression model\n",
    "lin_reg_q1.coef_"
   ]
  },
  {
   "cell_type": "markdown",
   "id": "4f693ae3",
   "metadata": {},
   "source": [
    "### Develop a new model but convert categorical values in numerical values"
   ]
  },
  {
   "cell_type": "code",
   "execution_count": 21,
   "id": "4a982291",
   "metadata": {},
   "outputs": [
    {
     "data": {
      "text/html": [
       "<div>\n",
       "<style scoped>\n",
       "    .dataframe tbody tr th:only-of-type {\n",
       "        vertical-align: middle;\n",
       "    }\n",
       "\n",
       "    .dataframe tbody tr th {\n",
       "        vertical-align: top;\n",
       "    }\n",
       "\n",
       "    .dataframe thead th {\n",
       "        text-align: right;\n",
       "    }\n",
       "</style>\n",
       "<table border=\"1\" class=\"dataframe\">\n",
       "  <thead>\n",
       "    <tr style=\"text-align: right;\">\n",
       "      <th></th>\n",
       "      <th>SEX</th>\n",
       "      <th>AGE</th>\n",
       "      <th>SUIC_NUM</th>\n",
       "      <th>POP</th>\n",
       "      <th>SUIC_PER100K_POP</th>\n",
       "      <th>GEN</th>\n",
       "    </tr>\n",
       "  </thead>\n",
       "  <tbody>\n",
       "    <tr>\n",
       "      <th>0</th>\n",
       "      <td>male</td>\n",
       "      <td>15-24 years</td>\n",
       "      <td>21</td>\n",
       "      <td>312900</td>\n",
       "      <td>6.71</td>\n",
       "      <td>Generation X</td>\n",
       "    </tr>\n",
       "    <tr>\n",
       "      <th>1</th>\n",
       "      <td>male</td>\n",
       "      <td>35-54 years</td>\n",
       "      <td>16</td>\n",
       "      <td>308000</td>\n",
       "      <td>5.19</td>\n",
       "      <td>Silent</td>\n",
       "    </tr>\n",
       "    <tr>\n",
       "      <th>2</th>\n",
       "      <td>female</td>\n",
       "      <td>15-24 years</td>\n",
       "      <td>14</td>\n",
       "      <td>289700</td>\n",
       "      <td>4.83</td>\n",
       "      <td>Generation X</td>\n",
       "    </tr>\n",
       "    <tr>\n",
       "      <th>3</th>\n",
       "      <td>male</td>\n",
       "      <td>75+ years</td>\n",
       "      <td>1</td>\n",
       "      <td>21800</td>\n",
       "      <td>4.59</td>\n",
       "      <td>G.I. Generation</td>\n",
       "    </tr>\n",
       "    <tr>\n",
       "      <th>4</th>\n",
       "      <td>male</td>\n",
       "      <td>25-34 years</td>\n",
       "      <td>9</td>\n",
       "      <td>274300</td>\n",
       "      <td>3.28</td>\n",
       "      <td>Boomers</td>\n",
       "    </tr>\n",
       "  </tbody>\n",
       "</table>\n",
       "</div>"
      ],
      "text/plain": [
       "      SEX          AGE  SUIC_NUM     POP  SUIC_PER100K_POP              GEN\n",
       "0    male  15-24 years        21  312900              6.71     Generation X\n",
       "1    male  35-54 years        16  308000              5.19           Silent\n",
       "2  female  15-24 years        14  289700              4.83     Generation X\n",
       "3    male    75+ years         1   21800              4.59  G.I. Generation\n",
       "4    male  25-34 years         9  274300              3.28          Boomers"
      ]
     },
     "execution_count": 21,
     "metadata": {},
     "output_type": "execute_result"
    }
   ],
   "source": [
    "# Generate a deep copy of the pre-processed data and check that it was properly copied\n",
    "df_q2 = df.copy(deep=True)\n",
    "df_q2.head()"
   ]
  },
  {
   "cell_type": "code",
   "execution_count": 22,
   "id": "d1dc6f9a",
   "metadata": {},
   "outputs": [],
   "source": [
    "# Convert the categorical values of the dataset into numerical values\n",
    "# Age and generation values were generated based on averaging the years in the categories range\n",
    "df_q2['AGE'].replace(['15-24 years', '35-54 years', '75+ years',\n",
    "                         '25-34 years', '55-74 years', '5-14 years'],\n",
    "                       [19.5, 44.5, 87.5, 29.5, 64.5, 9.5], inplace=True)\n",
    "\n",
    "df_q2['GEN'].replace(['Generation X', 'Silent', 'G.I. Generation', \n",
    "                        'Boomers', 'Millenials', 'Generation Z'],\n",
    "                       [1972.5, 1936.5, 1924.5, 1955, 1988.5, 2004.5], inplace=True)\n",
    "\n",
    "df_q2['SEX'].replace(['male', 'female'],\n",
    "                      [0, 1], inplace=True)"
   ]
  },
  {
   "cell_type": "code",
   "execution_count": 23,
   "id": "59c1c632",
   "metadata": {},
   "outputs": [
    {
     "data": {
      "text/html": [
       "<div>\n",
       "<style scoped>\n",
       "    .dataframe tbody tr th:only-of-type {\n",
       "        vertical-align: middle;\n",
       "    }\n",
       "\n",
       "    .dataframe tbody tr th {\n",
       "        vertical-align: top;\n",
       "    }\n",
       "\n",
       "    .dataframe thead th {\n",
       "        text-align: right;\n",
       "    }\n",
       "</style>\n",
       "<table border=\"1\" class=\"dataframe\">\n",
       "  <thead>\n",
       "    <tr style=\"text-align: right;\">\n",
       "      <th></th>\n",
       "      <th>SEX</th>\n",
       "      <th>AGE</th>\n",
       "      <th>SUIC_NUM</th>\n",
       "      <th>POP</th>\n",
       "      <th>SUIC_PER100K_POP</th>\n",
       "      <th>GEN</th>\n",
       "    </tr>\n",
       "  </thead>\n",
       "  <tbody>\n",
       "    <tr>\n",
       "      <th>0</th>\n",
       "      <td>0</td>\n",
       "      <td>19.5</td>\n",
       "      <td>21</td>\n",
       "      <td>312900</td>\n",
       "      <td>6.71</td>\n",
       "      <td>1972.5</td>\n",
       "    </tr>\n",
       "    <tr>\n",
       "      <th>1</th>\n",
       "      <td>0</td>\n",
       "      <td>44.5</td>\n",
       "      <td>16</td>\n",
       "      <td>308000</td>\n",
       "      <td>5.19</td>\n",
       "      <td>1936.5</td>\n",
       "    </tr>\n",
       "    <tr>\n",
       "      <th>2</th>\n",
       "      <td>1</td>\n",
       "      <td>19.5</td>\n",
       "      <td>14</td>\n",
       "      <td>289700</td>\n",
       "      <td>4.83</td>\n",
       "      <td>1972.5</td>\n",
       "    </tr>\n",
       "    <tr>\n",
       "      <th>3</th>\n",
       "      <td>0</td>\n",
       "      <td>87.5</td>\n",
       "      <td>1</td>\n",
       "      <td>21800</td>\n",
       "      <td>4.59</td>\n",
       "      <td>1924.5</td>\n",
       "    </tr>\n",
       "    <tr>\n",
       "      <th>4</th>\n",
       "      <td>0</td>\n",
       "      <td>29.5</td>\n",
       "      <td>9</td>\n",
       "      <td>274300</td>\n",
       "      <td>3.28</td>\n",
       "      <td>1955.0</td>\n",
       "    </tr>\n",
       "  </tbody>\n",
       "</table>\n",
       "</div>"
      ],
      "text/plain": [
       "   SEX   AGE  SUIC_NUM     POP  SUIC_PER100K_POP     GEN\n",
       "0    0  19.5        21  312900              6.71  1972.5\n",
       "1    0  44.5        16  308000              5.19  1936.5\n",
       "2    1  19.5        14  289700              4.83  1972.5\n",
       "3    0  87.5         1   21800              4.59  1924.5\n",
       "4    0  29.5         9  274300              3.28  1955.0"
      ]
     },
     "execution_count": 23,
     "metadata": {},
     "output_type": "execute_result"
    }
   ],
   "source": [
    "# Check that numerical conversions were properly done\n",
    "df_q2.head()"
   ]
  },
  {
   "cell_type": "code",
   "execution_count": 24,
   "id": "6691a526",
   "metadata": {},
   "outputs": [],
   "source": [
    "# Generate the prediction unit \n",
    "# Age 20, male, Generation X\n",
    "\n",
    "predict_q2 = [[0, 20, mean_suic_num, mean_pop, 1972.5]]"
   ]
  },
  {
   "cell_type": "code",
   "execution_count": 25,
   "id": "472baa41",
   "metadata": {},
   "outputs": [],
   "source": [
    "# Prepare the input X matrix and target y vector\n",
    "X_q2 = df_q2.loc[:, df_q2.columns != 'SUIC_PER100K_POP'].values\n",
    "y_q2 = df_q2.loc[ :, df_q2.columns == 'SUIC_PER100K_POP'].values.ravel()"
   ]
  },
  {
   "cell_type": "code",
   "execution_count": 26,
   "id": "043a33b9",
   "metadata": {},
   "outputs": [
    {
     "data": {
      "text/html": [
       "<style>#sk-container-id-2 {color: black;}#sk-container-id-2 pre{padding: 0;}#sk-container-id-2 div.sk-toggleable {background-color: white;}#sk-container-id-2 label.sk-toggleable__label {cursor: pointer;display: block;width: 100%;margin-bottom: 0;padding: 0.3em;box-sizing: border-box;text-align: center;}#sk-container-id-2 label.sk-toggleable__label-arrow:before {content: \"▸\";float: left;margin-right: 0.25em;color: #696969;}#sk-container-id-2 label.sk-toggleable__label-arrow:hover:before {color: black;}#sk-container-id-2 div.sk-estimator:hover label.sk-toggleable__label-arrow:before {color: black;}#sk-container-id-2 div.sk-toggleable__content {max-height: 0;max-width: 0;overflow: hidden;text-align: left;background-color: #f0f8ff;}#sk-container-id-2 div.sk-toggleable__content pre {margin: 0.2em;color: black;border-radius: 0.25em;background-color: #f0f8ff;}#sk-container-id-2 input.sk-toggleable__control:checked~div.sk-toggleable__content {max-height: 200px;max-width: 100%;overflow: auto;}#sk-container-id-2 input.sk-toggleable__control:checked~label.sk-toggleable__label-arrow:before {content: \"▾\";}#sk-container-id-2 div.sk-estimator input.sk-toggleable__control:checked~label.sk-toggleable__label {background-color: #d4ebff;}#sk-container-id-2 div.sk-label input.sk-toggleable__control:checked~label.sk-toggleable__label {background-color: #d4ebff;}#sk-container-id-2 input.sk-hidden--visually {border: 0;clip: rect(1px 1px 1px 1px);clip: rect(1px, 1px, 1px, 1px);height: 1px;margin: -1px;overflow: hidden;padding: 0;position: absolute;width: 1px;}#sk-container-id-2 div.sk-estimator {font-family: monospace;background-color: #f0f8ff;border: 1px dotted black;border-radius: 0.25em;box-sizing: border-box;margin-bottom: 0.5em;}#sk-container-id-2 div.sk-estimator:hover {background-color: #d4ebff;}#sk-container-id-2 div.sk-parallel-item::after {content: \"\";width: 100%;border-bottom: 1px solid gray;flex-grow: 1;}#sk-container-id-2 div.sk-label:hover label.sk-toggleable__label {background-color: #d4ebff;}#sk-container-id-2 div.sk-serial::before {content: \"\";position: absolute;border-left: 1px solid gray;box-sizing: border-box;top: 0;bottom: 0;left: 50%;z-index: 0;}#sk-container-id-2 div.sk-serial {display: flex;flex-direction: column;align-items: center;background-color: white;padding-right: 0.2em;padding-left: 0.2em;position: relative;}#sk-container-id-2 div.sk-item {position: relative;z-index: 1;}#sk-container-id-2 div.sk-parallel {display: flex;align-items: stretch;justify-content: center;background-color: white;position: relative;}#sk-container-id-2 div.sk-item::before, #sk-container-id-2 div.sk-parallel-item::before {content: \"\";position: absolute;border-left: 1px solid gray;box-sizing: border-box;top: 0;bottom: 0;left: 50%;z-index: -1;}#sk-container-id-2 div.sk-parallel-item {display: flex;flex-direction: column;z-index: 1;position: relative;background-color: white;}#sk-container-id-2 div.sk-parallel-item:first-child::after {align-self: flex-end;width: 50%;}#sk-container-id-2 div.sk-parallel-item:last-child::after {align-self: flex-start;width: 50%;}#sk-container-id-2 div.sk-parallel-item:only-child::after {width: 0;}#sk-container-id-2 div.sk-dashed-wrapped {border: 1px dashed gray;margin: 0 0.4em 0.5em 0.4em;box-sizing: border-box;padding-bottom: 0.4em;background-color: white;}#sk-container-id-2 div.sk-label label {font-family: monospace;font-weight: bold;display: inline-block;line-height: 1.2em;}#sk-container-id-2 div.sk-label-container {text-align: center;}#sk-container-id-2 div.sk-container {/* jupyter's `normalize.less` sets `[hidden] { display: none; }` but bootstrap.min.css set `[hidden] { display: none !important; }` so we also need the `!important` here to be able to override the default hidden behavior on the sphinx rendered scikit-learn.org. See: https://github.com/scikit-learn/scikit-learn/issues/21755 */display: inline-block !important;position: relative;}#sk-container-id-2 div.sk-text-repr-fallback {display: none;}</style><div id=\"sk-container-id-2\" class=\"sk-top-container\"><div class=\"sk-text-repr-fallback\"><pre>LinearRegression()</pre><b>In a Jupyter environment, please rerun this cell to show the HTML representation or trust the notebook. <br />On GitHub, the HTML representation is unable to render, please try loading this page with nbviewer.org.</b></div><div class=\"sk-container\" hidden><div class=\"sk-item\"><div class=\"sk-estimator sk-toggleable\"><input class=\"sk-toggleable__control sk-hidden--visually\" id=\"sk-estimator-id-2\" type=\"checkbox\" checked><label for=\"sk-estimator-id-2\" class=\"sk-toggleable__label sk-toggleable__label-arrow\">LinearRegression</label><div class=\"sk-toggleable__content\"><pre>LinearRegression()</pre></div></div></div></div></div>"
      ],
      "text/plain": [
       "LinearRegression()"
      ]
     },
     "execution_count": 26,
     "metadata": {},
     "output_type": "execute_result"
    }
   ],
   "source": [
    "from sklearn.linear_model import LinearRegression\n",
    "from sklearn.preprocessing import PolynomialFeatures\n",
    "from sklearn.model_selection import train_test_split\n",
    "from sklearn.metrics import mean_absolute_error\n",
    "\n",
    "# Linear Regression\n",
    "lin_reg_q2 = LinearRegression()\n",
    "lin_reg_q2.fit(X_q2, y_q2)"
   ]
  },
  {
   "cell_type": "code",
   "execution_count": 27,
   "id": "dafeda92",
   "metadata": {},
   "outputs": [],
   "source": [
    "# Generate the sub-population of age 20, male, Generation X\n",
    "\n",
    "X_df = df_q2.loc[:, df_q2.columns != 'SUIC_PER100K_POP']\n",
    "y_df = df_q2.loc[ :, df_q2.columns]\n",
    "filter_X_df = X_df.loc[(X_df[\"SEX\"] == 0) &\n",
    "                     (X_df[\"GEN\"] == 1972.5) &\n",
    "                     (X_df[\"AGE\"] == 19.5)]\n",
    "filter_y_df = y_df.loc[(y_df[\"SEX\"] == 0) &\n",
    "                     (y_df[\"GEN\"] == 1972.5) &\n",
    "                     (y_df[\"AGE\"] == 19.5)]\n",
    "filter_y_df_final = filter_y_df.loc[ :, filter_y_df.columns == 'SUIC_PER100K_POP']\n",
    "X_test = filter_X_df.values\n",
    "y_test = filter_y_df_final.values.ravel()"
   ]
  },
  {
   "cell_type": "code",
   "execution_count": 28,
   "id": "f4a22533",
   "metadata": {},
   "outputs": [],
   "source": [
    "# Predict the target sub-population and obtain metrics for prediction\n",
    "y_pred = lin_reg_q2.predict(X_test)\n",
    "mae_q2 = mean_absolute_error(y_test, y_pred) "
   ]
  },
  {
   "cell_type": "code",
   "execution_count": 29,
   "id": "ed3c7495",
   "metadata": {},
   "outputs": [
    {
     "name": "stdout",
     "output_type": "stream",
     "text": [
      "Mean Absolute Error: 7.763 \n",
      "Predicted Value = [14.44021591]\n"
     ]
    }
   ],
   "source": [
    "from sklearn.metrics import r2_score\n",
    "\n",
    "# Predict the value for the singuler target prediction unit\n",
    "predict_q2 = lin_reg_q2.predict(predict_q2)\n",
    "print(f'Mean Absolute Error: {mae_q2:.3f} \\nPredicted Value = {predict_q2}')"
   ]
  },
  {
   "cell_type": "markdown",
   "id": "928a3282",
   "metadata": {},
   "source": [
    "#### Regression coefficients \n",
    "\n",
    "There are 5 regression coefficients, one for each of the five features"
   ]
  },
  {
   "cell_type": "code",
   "execution_count": 30,
   "id": "c29e519d",
   "metadata": {},
   "outputs": [
    {
     "data": {
      "text/plain": [
       "array([-1.29359666e+01,  2.00446071e-01,  7.28783483e-03, -8.58614104e-07,\n",
       "       -3.77206363e-02])"
      ]
     },
     "execution_count": 30,
     "metadata": {},
     "output_type": "execute_result"
    }
   ],
   "source": [
    "# Print the coefficients in the linear regression model\n",
    "lin_reg_q2.coef_"
   ]
  },
  {
   "cell_type": "markdown",
   "id": "f495da06",
   "metadata": {},
   "source": [
    "### What are the differences between the model with categorical values vs. the model with numerical values?"
   ]
  },
  {
   "cell_type": "markdown",
   "id": "4e441eec",
   "metadata": {},
   "source": [
    "In MAE of one-hot encoded regression was 8.512 compared to the MAE of the numerical version of 7.763, approximately a 9.20% difference. In other words, if we were to perform any future predictions between these two models, we can expect approximately a 9.2% difference between the two values. With regards to calculating suicides per 100,000 people, this can go up to as high as 20 units (maximum value in dataset is 224.97).  With the mean value of 12.9, this can become problematic when predicting values."
   ]
  },
  {
   "cell_type": "markdown",
   "id": "69891e74",
   "metadata": {},
   "source": [
    "### Identify prediction for specified target"
   ]
  },
  {
   "cell_type": "code",
   "execution_count": 31,
   "id": "ce1ada63",
   "metadata": {},
   "outputs": [],
   "source": [
    "# Generate the prediction unit \n",
    "# Age 33, male, generation Alpha\n",
    "predict_onehot_q4 = [[mean_suic_num,\n",
    "               mean_pop,\n",
    "               False,\n",
    "               True, # Male\n",
    "               False,\n",
    "               True, # Age 25-34 years\n",
    "               False,\n",
    "               False,\n",
    "               False,\n",
    "               False,\n",
    "               False,\n",
    "               False,\n",
    "               False,\n",
    "               False,\n",
    "               False,\n",
    "               False]]"
   ]
  },
  {
   "cell_type": "code",
   "execution_count": 32,
   "id": "0038d9d8",
   "metadata": {},
   "outputs": [
    {
     "name": "stdout",
     "output_type": "stream",
     "text": [
      "Predicted Value - One Hot Encoding = [19.21146581]\n"
     ]
    }
   ],
   "source": [
    "predict_onehot_q4 = lin_reg_q1.predict(predict_onehot_q4)\n",
    "print(f'Predicted Value - One Hot Encoding = {predict_onehot_q4}')"
   ]
  },
  {
   "cell_type": "code",
   "execution_count": 33,
   "id": "3618a6a2",
   "metadata": {},
   "outputs": [
    {
     "name": "stdout",
     "output_type": "stream",
     "text": [
      "Predicted Value - Numerical = [15.34858621]\n"
     ]
    }
   ],
   "source": [
    "# Generate the prediction unit \n",
    "# Age 33, male, generation Alpha\n",
    "predict_numerical_q4 = [[0, 33, mean_suic_num, mean_pop, 2017.5]]\n",
    "\n",
    "predict_numerical_q4 = lin_reg_q2.predict(predict_numerical_q4)\n",
    "print(f'Predicted Value - Numerical = {predict_numerical_q4}')"
   ]
  },
  {
   "cell_type": "markdown",
   "id": "d3f0f920",
   "metadata": {},
   "source": [
    "### Discussion"
   ]
  },
  {
   "cell_type": "markdown",
   "id": "67eea097",
   "metadata": {},
   "source": [
    "One advantage of using regression is that it provides an equation. This equation has coefficients for the independent variables, and these can be translated to a more easily interpretable model. This is also useful because it allows the user to view the range of values and how the independent variable affects the model. In comparison, classification with nominal features may not necessarily be easily interpreted due to the type of classifier used. For example, a neural network may not be as easy to visualize compared to a linear equation, and distinguishing the effect of independent variables on the classification may be more nuanced than raw numbers. "
   ]
  },
  {
   "cell_type": "markdown",
   "id": "6c7dc9f2",
   "metadata": {},
   "source": [
    "One advantage of using regular numerical values is that it reduces the number of features used by the model. As noted in a previous lesson, the curse of dimensionality can occur if there are far too many features with relation to the number of measurements. This can result in overfitting and reduce the ability for the model to find meaningful relationships between variables. Furthermore, this reduction in features also has the advantage of using less memory and less computational power. "
   ]
  },
  {
   "cell_type": "markdown",
   "id": "2a330a30",
   "metadata": {},
   "source": [
    "If my customer was looking to predict the binary problem of whether to categorize a person or country as having a high suicide rate vs low suicide rate, I would suggest that the user use a regression model. One reason I would want to use a regression model is because it provides a numerical value that acts an arbitrary threshold that the user can decide. This value can altered to fit the users needs on deciding high vs low rates. A second reason I prefer the regression model is the scalability. Having an equation that can be fitted to various population sizes and groupings provides the user the option of having a wide range of information. A third reason I would prefer regression is that the regression model can be interpreted through its equation, and this can help bridge the gap between the model and the end user. Seeing how the regression model works in its equation may help the end user in applying the model. "
   ]
  }
 ],
 "metadata": {
  "kernelspec": {
   "display_name": "Python 3 (ipykernel)",
   "language": "python",
   "name": "python3"
  },
  "language_info": {
   "codemirror_mode": {
    "name": "ipython",
    "version": 3
   },
   "file_extension": ".py",
   "mimetype": "text/x-python",
   "name": "python",
   "nbconvert_exporter": "python",
   "pygments_lexer": "ipython3",
   "version": "3.11.9"
  }
 },
 "nbformat": 4,
 "nbformat_minor": 5
}
